{
 "cells": [
  {
   "cell_type": "markdown",
   "id": "f044ece2-769d-4aa8-be70-772fa0f6f026",
   "metadata": {
    "tags": []
   },
   "source": [
    "# Table 1"
   ]
  },
  {
   "cell_type": "markdown",
   "id": "b65d517e-44dd-422a-9045-da07a8cdff72",
   "metadata": {
    "tags": []
   },
   "source": [
    "## Cleaning data "
   ]
  },
  {
   "cell_type": "code",
   "execution_count": null,
   "id": "a39a01d7-f8e5-4c40-a7c6-ccd869eafc2a",
   "metadata": {
    "tags": []
   },
   "outputs": [],
   "source": [
    "library(ggplot2)\n",
    "library(bigrquery)\n",
    "library(tidyverse)\n",
    "library(lubridate)\n",
    "library(survival)\n",
    "library(stats)\n",
    "library(finalfit)\n",
    "ProjectId = \"yhcr-prd-bradfor-bia-core\"\n",
    "\n",
    "targetdb2 <- 'yhcr-prd-bradfor-bia-core.CB_FDM_DeathCertificates'\n",
    "targetdb2 <-gsub(' ','',targetdb2)\n",
    "\n",
    "targetdb3 <- 'yhcr-prd-bradfor-bia-core.CB_2172'\n",
    "targetdb3 <- gsub(' ','',targetdb3)\n"
   ]
  },
  {
   "cell_type": "markdown",
   "id": "36a5aa1a-907e-4395-a932-e17a69595dfc",
   "metadata": {},
   "source": [
    "download data from connected bradford and create a master table by left joining the care_home_cohort table to the health characterstics"
   ]
  },
  {
   "cell_type": "code",
   "execution_count": null,
   "id": "a6291100-ae32-4021-98d2-075f27de00ee",
   "metadata": {
    "tags": []
   },
   "outputs": [],
   "source": [
    "sql1 <- \n",
    "paste(\n",
    "    '\n",
    "SELECT \n",
    "a.*,b.efi2,imd.imd, \n",
    "bm.bmi, htn.hypertension, \n",
    "bp.systolic_value , \n",
    "bp.date_systolic,\n",
    "pre_bp.systolic_value as pre_admission_systolic_value,\n",
    "ck.ckd_diagnosis, \n",
    "ps.prev_stroke,\n",
    "dm.dm_diagnosis as diabetes_mellitus, \n",
    "af.af_diagnosis, \n",
    "chd.chd_diagnosis, \n",
    "hf.heart_failure as hf_diagnosis, \n",
    "ss.smoking_status, \n",
    "p.no_medication\n",
    "from ',targetdb3,'.care_home_cohort_v1 a \n",
    "left join ',targetdb3,'.cb_2172_efi2_value b on a.person_id = b.person_id \n",
    "left join ',targetdb3,'.efall_value e on a.person_id = e.person_id\n",
    "left join ',targetdb3,'.cb_2172_polypharmacy p on a.person_id = p.person_id\n",
    "left join ',targetdb3,'.temp_cb_2172_efi2_bmi bm on a.person_id = bm.person_id\n",
    "left join ',targetdb3,'.temp_cb_2172_efi2 efi on a.person_id = efi.person_id\n",
    "left join ',targetdb3,'.cb_2172_ckd_diagnosis ck on a.person_id = ck.person_id\n",
    "left join ',targetdb3,'.cb_2172_previous_stroke ps on a.person_id = ps.person_id\n",
    "left join ',targetdb3,'.cb_2172_ch_imd imd on a.person_id = imd.person_id \n",
    "left join ',targetdb3,'.cb_2172_dm_diagnosis dm on a.person_id = dm.person_id \n",
    "left join ',targetdb3,'.temp_cb_2172_af_diagnosis af on a.person_id = af.person_id\n",
    "left join ',targetdb3,'.cb_2172_efi2_hf hf on a.person_id = hf.person_id\n",
    "left join ',targetdb3,'.cb_2172_smoking_status ss on a.person_id = ss.person_id \n",
    "left join ',targetdb3,'.cb_2172_chd_diagnosis chd on a.person_id = chd.person_id \n",
    "left join ',targetdb3,'.cb_2172_hypertension_combined htn on a.person_id = htn.person_id\n",
    "left join ',targetdb3,'.cb_2172_bp_post_admission bp on a.person_id = bp.person_id\n",
    "left join ',targetdb3,'.cb_2172_bp_pre_admission pre_bp on a.person_id = pre_bp.person_id\n",
    ";',sep=\"\")\n",
    "\n",
    "bp_tbl <-bq_project_query(ProjectId,sql1)\n",
    "bp_data <- bq_table_download(bp_tbl)"
   ]
  },
  {
   "cell_type": "markdown",
   "id": "a64f4690-00ff-41a9-8fed-21f78523aedb",
   "metadata": {
    "tags": []
   },
   "source": [
    "## Data Cleaning\n",
    "First recode the binary variables as factors "
   ]
  },
  {
   "cell_type": "code",
   "execution_count": null,
   "id": "f98081f9-6dbc-4277-bb48-2e93282ec471",
   "metadata": {
    "tags": []
   },
   "outputs": [],
   "source": [
    "bp_data$hypertension.factor <- as.factor(bp_data$hypertension)\n",
    "\n",
    "bp_data <- bp_data %>% select(-hypertension)"
   ]
  },
  {
   "cell_type": "code",
   "execution_count": null,
   "id": "e9e879bc-e16d-4f49-83f1-707fe2fb4b75",
   "metadata": {
    "tags": []
   },
   "outputs": [],
   "source": [
    "bp_data$service.factor <- as.factor(bp_data$admission_service)\n",
    "\n",
    "bp_data <- bp_data %>% select(-admission_service)"
   ]
  },
  {
   "cell_type": "code",
   "execution_count": null,
   "id": "42313698-6068-4f40-8900-df2abc7b4901",
   "metadata": {
    "tags": []
   },
   "outputs": [],
   "source": [
    "bp_data$body_mass_index <- as.numeric(bp_data$bmi)\n",
    "bp_data <- bp_data %>% select(-bmi)"
   ]
  },
  {
   "cell_type": "code",
   "execution_count": null,
   "id": "be40af07-1fc2-40d4-96b9-1c33bea783ac",
   "metadata": {
    "tags": []
   },
   "outputs": [],
   "source": [
    "bp_data$chronic_kidney_disease <- as.factor(bp_data$ckd_diagnosis)\n",
    "bp_data$chronic_kidney_disease <- fct_na_value_to_level(bp_data$chronic_kidney_disease, \"no\")\n",
    "#bp_data <- bp_data %>% select(-ckd_diagnosis)"
   ]
  },
  {
   "cell_type": "code",
   "execution_count": null,
   "id": "f8601028-5390-4811-97b1-d6996f7ab3d7",
   "metadata": {
    "tags": []
   },
   "outputs": [],
   "source": [
    "bp_data$ethnicity.factor <- as.factor(bp_data$Ethnic_Group)\n",
    "bp_data = bp_data %>% select(-Ethnic_Group)"
   ]
  },
  {
   "cell_type": "code",
   "execution_count": null,
   "id": "5c1f689b-0f4a-465f-b617-1b649de459cf",
   "metadata": {},
   "outputs": [],
   "source": [
    "bp_data$death_date <- as_date(bp_data$dod)\n",
    "bp_data <- bp_data %>% select(-dod)"
   ]
  },
  {
   "cell_type": "code",
   "execution_count": null,
   "id": "0b71e141-bf60-4b7b-963b-7f7062c24e3b",
   "metadata": {
    "tags": []
   },
   "outputs": [],
   "source": [
    "bp_data$previous_stroke <- as.factor(bp_data$prev_stroke)\n",
    "\n",
    "bp_data <- bp_data %>% select(-prev_stroke)"
   ]
  },
  {
   "cell_type": "code",
   "execution_count": null,
   "id": "c7c1929f-bbdc-48d0-9da1-d41f621ed548",
   "metadata": {
    "tags": []
   },
   "outputs": [],
   "source": [
    "bp_data$gender.factor <- as.factor(bp_data$gender) %>% fct_na_value_to_level(\"missing\")\n",
    "\n",
    "bp_data <- bp_data %>% select (-gender)"
   ]
  },
  {
   "cell_type": "code",
   "execution_count": null,
   "id": "3e27c18f-9be9-4ece-a1c8-7ab85a6f002f",
   "metadata": {},
   "outputs": [],
   "source": [
    "bp_data<- bp_data %>%  mutate(imd.factor = factor(bp_data$imd))"
   ]
  },
  {
   "cell_type": "code",
   "execution_count": null,
   "id": "956f0115-b374-4509-96f3-4bbb22044782",
   "metadata": {
    "tags": []
   },
   "outputs": [],
   "source": [
    "bp_data <-bp_data %>% \n",
    "  mutate(imd.factor = imd.factor %>%\n",
    "           fct_relevel(\"1\",\"2\",\"3\",\"4\",\"5\",\"6\",\"7\",\"8\",\"9\",\"10\",\"missing\")\n",
    "         )"
   ]
  },
  {
   "cell_type": "code",
   "execution_count": null,
   "id": "cf3a7318-2519-4c73-ba11-2689f3790c98",
   "metadata": {
    "tags": []
   },
   "outputs": [],
   "source": [
    "bp_data$diabetes.factor <- as.factor(bp_data$diabetes_mellitus) %>% fct_na_value_to_level(\"no\")\n",
    "\n",
    "bp_data <- bp_data %>% select (-diabetes_mellitus)"
   ]
  },
  {
   "cell_type": "code",
   "execution_count": null,
   "id": "9dcdf72d-92be-44c0-a0a0-5e43989c89d3",
   "metadata": {
    "tags": []
   },
   "outputs": [],
   "source": [
    "bp_data$af.factor <- as.factor(bp_data$af_diagnosis) %>% fct_na_value_to_level(\"no\")\n",
    "\n",
    "bp_data <- bp_data %>% select (-af_diagnosis)"
   ]
  },
  {
   "cell_type": "code",
   "execution_count": null,
   "id": "073ba6bf-a945-48c2-a14c-67acdeeff313",
   "metadata": {
    "tags": []
   },
   "outputs": [],
   "source": [
    "bp_data$hf.factor<- as.factor(bp_data$hf_diagnosis)%>% fct_na_value_to_level(\"no\")\n",
    "\n",
    "bp_data <- bp_data %>% select (-hf_diagnosis)"
   ]
  },
  {
   "cell_type": "code",
   "execution_count": null,
   "id": "7db99ef0-17ab-41d9-83a0-6f0ccb15fdcf",
   "metadata": {
    "tags": []
   },
   "outputs": [],
   "source": [
    "bp_data$smoking.factor <- as.factor(bp_data$smoking_status)\n",
    "\n",
    "bp_data <- bp_data %>%  select(-smoking_status)"
   ]
  },
  {
   "cell_type": "markdown",
   "id": "7f65e320-77d2-4105-9f05-9e57ef9a719b",
   "metadata": {},
   "source": [
    "code NA values for smoking status as missing factor level "
   ]
  },
  {
   "cell_type": "code",
   "execution_count": null,
   "id": "b1b37754-3307-400b-8d22-ad46f909dbdb",
   "metadata": {
    "tags": []
   },
   "outputs": [],
   "source": [
    "bp_data$smoking.factor <- fct_na_value_to_level(bp_data$smoking.factor,\"missing\")\n",
    "           bp_data$smoking.factor %>% levels()                                 "
   ]
  },
  {
   "cell_type": "code",
   "execution_count": null,
   "id": "e08f0ec1-de59-49ff-a6a3-2aa6ce557c41",
   "metadata": {
    "tags": []
   },
   "outputs": [],
   "source": [
    "bp_data$chd.factor <- as.factor(bp_data$chd_diagnosis) %>% fct_na_value_to_level(\"no\")\n",
    "\n",
    "bp_data <- bp_data %>% select (-chd_diagnosis)"
   ]
  },
  {
   "cell_type": "markdown",
   "id": "05034d00-8fbb-44ab-a6b8-4968ebee7b2d",
   "metadata": {
    "tags": []
   },
   "source": [
    "create factor variable where systolic blood pressure is present or absent "
   ]
  },
  {
   "cell_type": "code",
   "execution_count": null,
   "id": "e03ec66b-d380-492b-9b2b-ea4ca02bdb9e",
   "metadata": {
    "tags": []
   },
   "outputs": [],
   "source": [
    "bp_data <- bp_data %>% mutate(bp_present= case_when(is.na(systolic_value) ~ 'missing',systolic_value > 0 ~ 'yes'))\n",
    "\n",
    "bp_data$bp_present.factor <- as.factor(bp_data$bp_present)"
   ]
  },
  {
   "cell_type": "code",
   "execution_count": null,
   "id": "e8c34f37-3bf5-46aa-8968-c1a3adbae1db",
   "metadata": {
    "tags": []
   },
   "outputs": [],
   "source": [
    "bp_data <- bp_data %>% mutate(bp_pre_present= case_when(is.na(pre_admission_systolic_value) ~ 'missing',pre_admission_systolic_value > 0 ~ 'yes'))\n",
    "\n",
    "bp_data$bp_pre_present.factor <- as.factor(bp_data$bp_pre_present)"
   ]
  },
  {
   "cell_type": "markdown",
   "id": "d75454ba-b74b-4e00-99b4-d8eba4f4d2dc",
   "metadata": {},
   "source": [
    "here we filter the care home cohort for those with a confirmed diagnosis of hypertension at the point of admission. all anaylsis from here on will be restricted to those with a diagnosis of hypertension"
   ]
  },
  {
   "cell_type": "code",
   "execution_count": null,
   "id": "6dcadab8-2eca-41df-915e-754879795400",
   "metadata": {
    "tags": []
   },
   "outputs": [],
   "source": [
    "bp_data_filtered <- bp_data %>% filter(hypertension.factor == TRUE)"
   ]
  },
  {
   "cell_type": "code",
   "execution_count": null,
   "id": "e986a326-4e57-4086-bab5-cb4cf6d8c441",
   "metadata": {
    "tags": []
   },
   "outputs": [],
   "source": [
    "bp_data_filtered %>% group_by(bp_present) %>% summarise(n())"
   ]
  },
  {
   "cell_type": "markdown",
   "id": "2bb7de51-393c-40f0-a736-729ea48acd98",
   "metadata": {},
   "source": [
    "here I ran some explarotry statistical inference tests to determine whether the missingness of blood pressure values varied significantly between different characteristics "
   ]
  },
  {
   "cell_type": "code",
   "execution_count": null,
   "id": "f384fef5-a308-4a5e-bad5-406be37d37d0",
   "metadata": {
    "tags": []
   },
   "outputs": [],
   "source": [
    "bp_data_filtered %>% t.test(age_admission ~ bp_present.factor,data=.)"
   ]
  },
  {
   "cell_type": "code",
   "execution_count": null,
   "id": "cf4f336a-aef2-4174-8948-01f0dfc9ff6d",
   "metadata": {
    "tags": []
   },
   "outputs": [],
   "source": [
    "#bp_data_filtered %>% t.test(efi2~ bp_present.factor,data=.)"
   ]
  },
  {
   "cell_type": "markdown",
   "id": "0a43df2a-50e5-4816-abe8-d24d3a2940ca",
   "metadata": {},
   "source": [
    "created a new factor variable based on whether blood pressure target was above or below NICE guidelines"
   ]
  },
  {
   "cell_type": "code",
   "execution_count": null,
   "id": "93359976-5354-4eef-87b6-e684eaa1ea53",
   "metadata": {
    "tags": []
   },
   "outputs": [],
   "source": [
    "bp_data_filtered <- bp_data_filtered %>% \n",
    "mutate(bp_target= if_else(systolic_value>=150 & age_admission >= 80| systolic_value>=140 & age_admission <80, \"above\",\"below\", missing=NULL))"
   ]
  },
  {
   "cell_type": "code",
   "execution_count": null,
   "id": "731bfcac-47ff-45ce-8a83-a64f82a17b9d",
   "metadata": {
    "tags": []
   },
   "outputs": [],
   "source": [
    "bp_data_filtered %>% filter(systolic_value >0) %>%  ggplot(aes(x= bp_target ))+geom_bar() + theme_bw()  + labs(y= \"number of residents\", title= \"Hypertension control in care home residents\")"
   ]
  },
  {
   "cell_type": "markdown",
   "id": "fe35ec7f-93ad-4d07-9189-d1165da4a71e",
   "metadata": {},
   "source": [
    "how many care home residents with hypertension have their blood pressure measured following admission\n"
   ]
  },
  {
   "cell_type": "code",
   "execution_count": null,
   "id": "56f92ac1-a858-4afb-94f3-d8b2f3389d8c",
   "metadata": {
    "tags": []
   },
   "outputs": [],
   "source": [
    "library(finalfit)\n",
    "bp_data_filtered %>%  filter(hypertension.factor ==TRUE)%>% \n",
    "summary_factorlist(explanatory= \"bp_present.factor\",\n",
    "                   ,include_col_totals_percent = TRUE\n",
    "                   )"
   ]
  },
  {
   "cell_type": "code",
   "execution_count": null,
   "id": "2e020f04-74c3-47dd-adc7-ebdb5fc018c3",
   "metadata": {
    "tags": []
   },
   "outputs": [],
   "source": [
    "library(finalfit)\n",
    "bp_data_filtered %>%  filter(hypertension.factor ==TRUE)%>% \n",
    "summary_factorlist(explanatory= \"bp_pre_present.factor\",\n",
    "                   ,include_col_totals_percent = TRUE\n",
    "                   )"
   ]
  },
  {
   "cell_type": "markdown",
   "id": "74743e00-2b5f-453d-bd6e-a5881b79d449",
   "metadata": {
    "tags": []
   },
   "source": [
    "### demographics table"
   ]
  },
  {
   "cell_type": "markdown",
   "id": "498896a3-4483-4a79-8a13-1d0fa4d490e2",
   "metadata": {},
   "source": [
    "calculate median life exeptancy and create a new variable with mortality in months "
   ]
  },
  {
   "cell_type": "code",
   "execution_count": null,
   "id": "725fc7e6-47a4-4855-8094-a8da16a86db2",
   "metadata": {
    "tags": []
   },
   "outputs": [],
   "source": [
    "\n",
    "#recategorised the ethnicities so counts were above 10 \n",
    "bp_data_filtered %>% mutate(ethnicity.factor = fct_collapse(ethnicity.factor, \"mixed/other ethnic groups\" = c(\n",
    "\"Mixed/Multiple ethnic groups\",\n",
    "\"Other ethnic group\"))) %>%  mutate(\n",
    "        age_admission = ff_label(age_admission, \"Age at admission\"),\n",
    "      service.factor = ff_label(service.factor,\"Service Type\"),\n",
    "      ethnicity.factor = ff_label(ethnicity.factor,\"Ethnicity\"),\n",
    "      admission_length = ff_label(admission_length,\"Admission length\"),\n",
    "      gender.factor = ff_label(gender.factor,\"gender\"),\n",
    "      mortality = ff_label(mortality,\"Lifespan\"),\n",
    "      imd= ff_label(imd.factor,\"Index of multiple deprivation(deciles)\")\n",
    "    ) %>% summary_factorlist(dependent= NULL, explanatory = c(\"age_admission\",\"service.factor\",\"gender.factor\",\"imd\",\"ethnicity.factor\",\"mortality\") ) "
   ]
  },
  {
   "cell_type": "code",
   "execution_count": null,
   "id": "c819d730-5126-4eee-b50f-0a6c31dc495e",
   "metadata": {
    "tags": []
   },
   "outputs": [],
   "source": [
    "bp_data_filtered$mortality_month %>% median(na.rm = TRUE)"
   ]
  },
  {
   "cell_type": "code",
   "execution_count": null,
   "id": "55361f07-ea2d-4772-b77e-691aa900b14e",
   "metadata": {
    "tags": []
   },
   "outputs": [],
   "source": [
    "#checking that age on admission is normally distributed\n",
    "as.numeric(bp_data_filtered$age_admission)%>% hist()"
   ]
  },
  {
   "cell_type": "code",
   "execution_count": null,
   "id": "44f9a6b7-9d93-4812-af26-4114cca8fd4b",
   "metadata": {
    "tags": []
   },
   "outputs": [],
   "source": [
    "#set BMI values to missing if outside range of 15 and 60. \n",
    "\n",
    "bp_data_filtered$body_mass_index <- as.numeric(bp_data_filtered$body_mass_index)\n",
    "\n",
    "bp_data_filtered$body_mass_index <- ifelse(bp_data_filtered$body_mass_index < 10 | \n",
    "bp_data_filtered$body_mass_index > 70, NA, bp_data_filtered$body_mass_index)"
   ]
  },
  {
   "cell_type": "code",
   "execution_count": null,
   "id": "b60d3db7-a6d7-4094-963c-04b0ca93882b",
   "metadata": {
    "tags": []
   },
   "outputs": [],
   "source": [
    "#check that BMI is normally distributed\n",
    "bp_data_filtered$body_mass_index %>% hist()"
   ]
  },
  {
   "cell_type": "markdown",
   "id": "a789888e-b934-409e-adb4-0794b00b5e2f",
   "metadata": {
    "jp-MarkdownHeadingCollapsed": true,
    "tags": []
   },
   "source": [
    "## Cardiovascular Risk Factors "
   ]
  },
  {
   "cell_type": "code",
   "execution_count": null,
   "id": "5060a6f7-2f43-4b70-947f-40a7ce4e5b38",
   "metadata": {
    "tags": []
   },
   "outputs": [],
   "source": [
    "bp_data_filtered %>% \n",
    " mutate(body_mass_index = ff_label(body_mass_index,\"Body mass index\"),\n",
    "      af.factor = ff_label(af.factor,\"Atrial Fibrillation\"),\n",
    "     chronic_kidney_disease = ff_label(chronic_kidney_disease,\"Chronic Kidney Disease\"),\n",
    "      hf.factor\t = ff_label(hf.factor,\"Heart Failure\"),\n",
    "      chd.factor = ff_label(chd.factor,\"Coronary Heart Disease\"),\n",
    "      diabetes.factor= ff_label(diabetes.factor,\"Diabetes Mellitus\"),\n",
    "        smoking.factor= ff_label(smoking.factor, \"Smoking Status\"),\n",
    "        previous_stroke = ff_label(previous_stroke,\"Previous stroke\")) %>% \n",
    "summary_factorlist(dependent= NULL, explanatory = c(\"body_mass_index\",\"af.factor\",\"chronic_kidney_disease\",\"hf.factor\",\"chd.factor\",\"diabetes.factor\",\"smoking.factor\",\"previous_stroke\"),na_include =TRUE,na_to_p =TRUE )"
   ]
  },
  {
   "cell_type": "markdown",
   "id": "fb9d8cd0-e47e-44a1-89ff-9bc675c55116",
   "metadata": {
    "jp-MarkdownHeadingCollapsed": true,
    "tags": []
   },
   "source": [
    "## Electronic frailty index 2"
   ]
  },
  {
   "cell_type": "code",
   "execution_count": null,
   "id": "bc09892d-6080-4f96-852a-480a043a8ad7",
   "metadata": {
    "tags": []
   },
   "outputs": [],
   "source": [
    "bp_data_filtered <- bp_data_filtered %>% \n",
    "  mutate(\n",
    "    efi2.factor = \n",
    "      efi2 %>%\n",
    "      cut(breaks = c(0,0.12,0.24,0.36,0.999), include.lowest= TRUE) %>% \n",
    "      fct_recode(\n",
    "        \"fit\"      =  \"[0,0.12]\",\n",
    "        \"mild frailty\" = \"(0.12,0.24]\",\n",
    "        \"moderate frailty\" = \"(0.24,0.36]\",\n",
    "        \"severe frailty\"  = \"(0.36,0.999]\"\n",
    "      ) %>% \n",
    "      ff_label(\"Efi2 category\"))\n",
    "\n"
   ]
  },
  {
   "cell_type": "code",
   "execution_count": null,
   "id": "8bde2c56-747c-4076-b936-7082d3e1c427",
   "metadata": {
    "tags": []
   },
   "outputs": [],
   "source": [
    "bp_data_filtered %>% summary_factorlist(dependent = ,explanatory=c(\"efi2.factor\"),na_include=TRUE,total_col =TRUE)"
   ]
  },
  {
   "cell_type": "code",
   "execution_count": null,
   "id": "562ad672-7c01-4408-a33f-6f4e0f887d4b",
   "metadata": {
    "tags": []
   },
   "outputs": [],
   "source": [
    "#how many with a valid death date for analysis\n",
    "nrow(bp_data_filtered[!is.na(bp_data_filtered$mortality),])"
   ]
  },
  {
   "cell_type": "markdown",
   "id": "cce6916f-3f93-4b22-97d5-8a11bddddcbd",
   "metadata": {
    "jp-MarkdownHeadingCollapsed": true,
    "tags": []
   },
   "source": [
    "## Hypertension Prevalence\n"
   ]
  },
  {
   "cell_type": "code",
   "execution_count": null,
   "id": "76c28384-8a3b-4339-a912-80a1ac7d0fcb",
   "metadata": {
    "tags": []
   },
   "outputs": [],
   "source": [
    "bp_data %>% summary_factorlist(dependent=NULL, explanatory = c(\"hypertension.factor\"),na_to_prop=TRUE)"
   ]
  },
  {
   "cell_type": "code",
   "execution_count": null,
   "id": "a68fc4f9-e3bd-4cef-8cef-0a9633b01750",
   "metadata": {
    "tags": []
   },
   "outputs": [],
   "source": [
    "n <- bp_data %>% nrow()"
   ]
  },
  {
   "cell_type": "code",
   "execution_count": null,
   "id": "df7ee23b-d42c-4301-afce-c95f466bb10c",
   "metadata": {
    "tags": []
   },
   "outputs": [],
   "source": [
    "x <- 1:n\n",
    "plot(dbinom(x, size = n, prob = 0.72), type = \"h\",\n",
    "     main = \"Binomial probability function\",\n",
    "     ylab = \"P(X = x)\", xlab = \"Number of successes\",xlim=c(1900,2150))"
   ]
  },
  {
   "cell_type": "code",
   "execution_count": null,
   "id": "a3820d02-d30b-4c82-82d4-06859269b50d",
   "metadata": {
    "tags": []
   },
   "outputs": [],
   "source": [
    " binom.test(2025,(749+2025), conf.level = 0.95)"
   ]
  },
  {
   "cell_type": "code",
   "execution_count": null,
   "id": "6a8c1656-c40f-4991-9fc6-18f138678fb8",
   "metadata": {
    "tags": []
   },
   "outputs": [],
   "source": [
    "bp_data$bp_reading_factor <- as.factor(bp_data$bp_present)"
   ]
  },
  {
   "cell_type": "markdown",
   "id": "85e8ab0c-3f96-4bbf-a6ea-c8ae758c20d0",
   "metadata": {
    "jp-MarkdownHeadingCollapsed": true,
    "tags": []
   },
   "source": [
    "# Antihypertensive medicaiton "
   ]
  },
  {
   "cell_type": "markdown",
   "id": "086b09b7-bd4f-4405-9a0d-5d4287376395",
   "metadata": {},
   "source": [
    "i filtered out those with a mortality less than 6 months for the anaylsis below "
   ]
  },
  {
   "cell_type": "code",
   "execution_count": null,
   "id": "f8aeb764-1fed-4425-a46d-1841e8e2b9e3",
   "metadata": {
    "tags": []
   },
   "outputs": [],
   "source": [
    "sql_med<- paste('SELECT * from `CB_2172.cb_2172_antihypertensive_long_format` where person_id in (select person_id from ',targetdb3,'.care_home_cohort_v1 ) ;',sep=\"\")\n",
    "\n",
    "tbl_med <-bq_project_query(ProjectId,sql_med)\n",
    "\n",
    "tbl_med <- bq_table_download(tbl_med)\n",
    "\n",
    "tbl_med_f <- tbl_med"
   ]
  },
  {
   "cell_type": "code",
   "execution_count": null,
   "id": "702dd121-bb0c-42fc-bba9-b6cdd458804e",
   "metadata": {
    "tags": []
   },
   "outputs": [],
   "source": [
    "#switch time_status and medication binary variables to factor variables \n",
    "tbl_med_f$time_status.factor <- as.factor(tbl_med_f$time_status)\n",
    "\n",
    "tbl_med_f <- tbl_med_f %>% select(-time_status)"
   ]
  },
  {
   "cell_type": "code",
   "execution_count": null,
   "id": "3c56b9b3-3101-4bb8-a313-fb773a1a6440",
   "metadata": {
    "tags": []
   },
   "outputs": [],
   "source": [
    "tbl_med_ef <- tbl_med_f %>% filter(!( time_status.factor == \"post_admission\" & early_death == \"true\"))\n"
   ]
  },
  {
   "cell_type": "markdown",
   "id": "4786a0a7-efad-4299-b9aa-0a4fd33b8fe3",
   "metadata": {
    "tags": []
   },
   "source": [
    "### this section will produce a table of the type of antihypertensives prescribed and how this changes during admission in those with hypertension"
   ]
  },
  {
   "cell_type": "code",
   "execution_count": null,
   "id": "b1c13088-d4ef-4a3d-ac36-5c12e5483f35",
   "metadata": {
    "tags": []
   },
   "outputs": [],
   "source": [
    "tbl_med_class <-tbl_med_ef"
   ]
  },
  {
   "cell_type": "code",
   "execution_count": null,
   "id": "28e30b5f-da20-4a3c-b398-68f503d14847",
   "metadata": {
    "tags": []
   },
   "outputs": [],
   "source": [
    "tbl_med_class$beta_blocker.factor <- as.factor(tbl_med_class$beta_blocker)\n",
    "\n",
    "tbl_med <- tbl_med_class %>% select(-beta_blocker)"
   ]
  },
  {
   "cell_type": "code",
   "execution_count": null,
   "id": "8af10db9-7ff7-4e94-8a75-051e436f5bdd",
   "metadata": {
    "tags": []
   },
   "outputs": [],
   "source": [
    "tbl_med_class$calcium_channel_blocker.factor <- as.factor(tbl_med_class$calcium_channel_blocker)\n",
    "\n",
    "tbl_med_class <- tbl_med_class %>% select(-calcium_channel_blocker)"
   ]
  },
  {
   "cell_type": "code",
   "execution_count": null,
   "id": "92a637d0-2364-4c06-b55a-1716b6a59478",
   "metadata": {
    "tags": []
   },
   "outputs": [],
   "source": [
    "tbl_med_class$thiazide.factor <- as.factor(tbl_med_class$thiazide_type_diuretic)\n",
    "\n",
    "tbl_med_class <- tbl_med_class %>% select(-thiazide_type_diuretic)"
   ]
  },
  {
   "cell_type": "code",
   "execution_count": null,
   "id": "cb3493cc-0e3c-4af1-99be-f99b3d7b8cb1",
   "metadata": {
    "tags": []
   },
   "outputs": [],
   "source": [
    "tbl_med_class$angiotensin_receptor_blocker.factor <- as.factor(tbl_med_class$angiotensin_receptor_blocker)\n",
    "\n",
    "tbl_med_class <- tbl_med_class %>% select(-angiotensin_receptor_blocker)"
   ]
  },
  {
   "cell_type": "code",
   "execution_count": null,
   "id": "8037496b-1cde-44c4-bcec-aa78dacb5eb6",
   "metadata": {
    "tags": []
   },
   "outputs": [],
   "source": [
    "tbl_med_class$ace_inhibitor.factor <- as.factor(tbl_med_class$ace_inhibitor)\n",
    "\n",
    "tbl_med_class <- tbl_med_class %>% select(-ace_inhibitor)"
   ]
  },
  {
   "cell_type": "code",
   "execution_count": null,
   "id": "a80971c2-50e7-4f4d-93d2-c4d467bce607",
   "metadata": {
    "tags": []
   },
   "outputs": [],
   "source": [
    "tbl_med_class$alpha_blocker.factor <- as.factor(tbl_med_class$alpha_blocker)\n",
    "\n",
    "tbl_med_class <- tbl_med_class %>% select(-alpha_blocker)\n"
   ]
  },
  {
   "cell_type": "code",
   "execution_count": null,
   "id": "43d2b53d-60de-4d41-af5d-d81693c1feef",
   "metadata": {
    "tags": []
   },
   "outputs": [],
   "source": [
    "tbl_med_class$early_death.factor <- as.factor(tbl_med_class$early_death)\n",
    "\n",
    "tbl_med_class <- tbl_med_class %>% select(-early_death)"
   ]
  },
  {
   "cell_type": "code",
   "execution_count": null,
   "id": "95b6264d-2519-4b89-823b-122af1517936",
   "metadata": {
    "tags": []
   },
   "outputs": [],
   "source": [
    "tbl_med$time_status.factor %>% levels()"
   ]
  },
  {
   "cell_type": "code",
   "execution_count": null,
   "id": "2d8dd4a3-3069-49f1-88d7-5e218b8d1699",
   "metadata": {
    "tags": []
   },
   "outputs": [],
   "source": [
    " tbl_med_class <- tbl_med_class %>% \n",
    "  mutate(time_status.factor = time_status.factor %>% \n",
    "           fct_relevel(\"pre_admission\"))\n",
    "\n",
    "tbl_med_class$time_status.factor %>% levels()"
   ]
  },
  {
   "cell_type": "code",
   "execution_count": null,
   "id": "68aef6d9-598c-4b7f-acf8-d60eeb60c938",
   "metadata": {
    "tags": []
   },
   "outputs": [],
   "source": [
    "tbl_med_class"
   ]
  },
  {
   "cell_type": "code",
   "execution_count": null,
   "id": "745ccb85-6b08-44ef-8151-0fa795ef70e4",
   "metadata": {
    "tags": []
   },
   "outputs": [],
   "source": [
    "tbl_med_class %>%\n",
    "mutate(calcium_channel_blocker.factor = ff_label(calcium_channel_blocker.factor,\"Calcium Channel Blocker\"),\n",
    "      ace_inhibitor.factor = ff_label(ace_inhibitor.factor,\"Ace Inhibitor\"),\n",
    "     angiotensin_receptor_blocker.factor = ff_label(angiotensin_receptor_blocker.factor,\"Angiotensin Receptor Blocker\"),\n",
    "      alpha_blocker.factor = ff_label(alpha_blocker.factor,\"Alpha Blocker\"),\n",
    "      thiazide.factor = ff_label(thiazide.factor,\"Thiazide Diuretic\"),\n",
    "      ) %>% summary_factorlist(dependent   =\"time_status.factor\" , \n",
    "                     explanatory = c(\"calcium_channel_blocker.factor\", \"ace_inhibitor.factor\",\"beta_blocker.factor\",\"angiotensin_receptor_blocker.factor\",\"alpha_blocker.factor\",\"thiazide.factor\"),na_include\n",
    " = FALSE,add_dependent_label=FALSE) \n"
   ]
  },
  {
   "cell_type": "markdown",
   "id": "cf846171-fb41-45d3-a07c-5b5fb74ed627",
   "metadata": {},
   "source": [
    "run a mcnemars test for changes in each antihypertensive between months -6 month and 0 month "
   ]
  },
  {
   "cell_type": "code",
   "execution_count": null,
   "id": "aae5ec37-5c7a-4b84-9527-1650ff115582",
   "metadata": {
    "tags": []
   },
   "outputs": [],
   "source": [
    "#clean data to only contains prescription status at -6months and zero months\n",
    "tbl_med_class_2 <- tbl_med_class %>% filter(tbl_med_class$time_status.factor != 'post_admission')%>%\n",
    "droplevels(tbl_med_class$time_status.factor) %>% \n",
    "select(beta_blocker.factor,calcium_channel_blocker.factor, ace_inhibitor.factor,angiotensin_receptor_blocker.factor,\n",
    "       alpha_blocker.factor,thiazide.factor,\n",
    "       person_id,time_status.factor)"
   ]
  },
  {
   "cell_type": "code",
   "execution_count": null,
   "id": "095602d5-a63f-407c-bd17-477052d58a13",
   "metadata": {
    "tags": []
   },
   "outputs": [],
   "source": [
    "#beta-blockers mcnemars test\n",
    "bb_cross_tabs <- xtabs(~ beta_blocker.factor + time_status.factor, tbl_med_class_2) \n",
    "\n",
    "bb_cross_tabs %>% mcnemar.test()"
   ]
  },
  {
   "cell_type": "code",
   "execution_count": null,
   "id": "da5b48f3-3880-4fef-9c7c-1dbf97b77063",
   "metadata": {
    "tags": []
   },
   "outputs": [],
   "source": [
    "#angiotensin blockers mcnemars test\n",
    "ab_cross_tabs <- xtabs(~ angiotensin_receptor_blocker.factor + time_status.factor, tbl_med_class_2) \n",
    "\n",
    "ab_cross_tabs %>% mcnemar.test()\n"
   ]
  },
  {
   "cell_type": "code",
   "execution_count": null,
   "id": "5dd38d13-021b-4962-a0e5-9a11e19eaff2",
   "metadata": {
    "tags": []
   },
   "outputs": [],
   "source": [
    "#ace inhibitors mcnemars test\n",
    "ace_cross_tabs <- xtabs(~ ace_inhibitor.factor + time_status.factor, tbl_med_class_2) \n",
    "\n",
    "ace_cross_tabs %>% mcnemar.test()"
   ]
  },
  {
   "cell_type": "code",
   "execution_count": null,
   "id": "9064516d-d274-4de8-bb38-6f89e4e3d2af",
   "metadata": {
    "tags": []
   },
   "outputs": [],
   "source": [
    "#alpha blocker mcnemars test\n",
    "alpha_cross_tabs <- xtabs(~ alpha_blocker.factor + time_status.factor, tbl_med_class_2) \n",
    "\n",
    "alpha_cross_tabs %>% mcnemar.test()"
   ]
  },
  {
   "cell_type": "code",
   "execution_count": null,
   "id": "56292486-2d8c-47c8-a86a-ecf266ac1ffd",
   "metadata": {
    "tags": []
   },
   "outputs": [],
   "source": [
    "#thiazide diuretic\n",
    "thiazide_cross_tabs <- xtabs(~ thiazide.factor + time_status.factor, tbl_med_class_2) \n",
    "\n",
    "thiazide_cross_tabs %>% mcnemar.test()"
   ]
  },
  {
   "cell_type": "markdown",
   "id": "f496c6ca-560f-495f-ac16-17c98e0087dc",
   "metadata": {
    "tags": []
   },
   "source": [
    "### this next section will etermine the number of antihypertnesives prescribed for each inidiudal and how this changes ove rthe course of an admission "
   ]
  },
  {
   "cell_type": "code",
   "execution_count": null,
   "id": "d7f22bb3-5bdd-4ce4-b4af-40519a073100",
   "metadata": {
    "tags": []
   },
   "outputs": [],
   "source": [
    "tbl_antihypertensive_class <- tbl_med_class %>%  filter(time_status.factor == 'admission')"
   ]
  },
  {
   "cell_type": "code",
   "execution_count": null,
   "id": "3be19ebf-9361-4d7c-8b2d-5ea5b44433a0",
   "metadata": {},
   "outputs": [],
   "source": [
    "#convert medication data into long format"
   ]
  },
  {
   "cell_type": "code",
   "execution_count": null,
   "id": "3b7aaceb-5504-43a3-bf09-21751dd8588f",
   "metadata": {
    "tags": []
   },
   "outputs": [],
   "source": [
    "tbl_med_long <- tbl_med_ef %>% pivot_longer(beta_blocker:alpha_blocker,names_to = \"antihypertensive\",values_to= \"prescribed\")\n",
    "\n",
    "tbl_med_long_bb <- tbl_med_ef %>%  pivot_longer(beta_blocker:alpha_blocker,names_to = \"antihypertensive\",values_to= \"prescribed\") %>% filter(!(antihypertensive == \"beta_blocker\"))"
   ]
  },
  {
   "cell_type": "code",
   "execution_count": null,
   "id": "1f448a69-d7cc-40eb-a681-b299d9dee1ad",
   "metadata": {},
   "outputs": [],
   "source": [
    "#recode antihypertenisve classess as factor vectors"
   ]
  },
  {
   "cell_type": "code",
   "execution_count": null,
   "id": "1428e337-bfac-4dab-9b37-ec89fb09f72e",
   "metadata": {
    "tags": []
   },
   "outputs": [],
   "source": [
    "tbl_med_long$antihypertensive.factor <- as.factor(tbl_med_long$antihypertensive)\n",
    "tbl_med_long<- tbl_med_long %>% select(-antihypertensive)"
   ]
  },
  {
   "cell_type": "code",
   "execution_count": null,
   "id": "bad9634b-ff0d-4f09-a709-dc43a7a8a55d",
   "metadata": {
    "tags": []
   },
   "outputs": [],
   "source": [
    "tbl_med_long_bb$antihypertensive.factor <- as.factor(tbl_med_long_bb$antihypertensive)\n",
    "tbl_med_long_bb<- tbl_med_long_bb %>% select(-antihypertensive)"
   ]
  },
  {
   "cell_type": "code",
   "execution_count": null,
   "id": "944180f9-727c-41eb-8b48-a6a7e0b927a3",
   "metadata": {
    "tags": []
   },
   "outputs": [],
   "source": [
    "tbl_med_long_bb$prescribed.factor <- as.factor(tbl_med_long_bb$prescribed)\n",
    "tbl_med_long_bb<- tbl_med_long_bb %>% select(-prescribed)"
   ]
  },
  {
   "cell_type": "code",
   "execution_count": null,
   "id": "8666d097-0b4e-4dd0-aed4-51d9c4955c24",
   "metadata": {
    "tags": []
   },
   "outputs": [],
   "source": [
    "#this was attempt at trying to do the group_by function in R< but didn't work so i just sent it back to bigquery and did it there because i know how to do it with SQL\n",
    "#tbl_med_long_filtered <- tbl_med_long  %>%   group_by(person_id, tbl_med_long$time_status.factor)%>% summarise(antihypertensive.factor)"
   ]
  },
  {
   "cell_type": "code",
   "execution_count": null,
   "id": "783f140c-8d45-4816-9c95-c01271abea65",
   "metadata": {
    "tags": []
   },
   "outputs": [],
   "source": [
    "names(tbl_med_long)[names(tbl_med_long) == \"antihypertensive.factor\"] <- \"antihypertensive_type\"\n",
    "names(tbl_med_long)[names(tbl_med_long) == \"time_status.factor\"] <- \"time_factor\""
   ]
  },
  {
   "cell_type": "code",
   "execution_count": null,
   "id": "25cade68-a788-4652-a17b-513bbca872a5",
   "metadata": {
    "tags": []
   },
   "outputs": [],
   "source": [
    "names(tbl_med_long_bb)[names(tbl_med_long_bb) == \"antihypertensive.factor\"] <- \"antihypertensive_type\"\n",
    "names(tbl_med_long_bb)[names(tbl_med_long_bb) == \"time_status.factor\"] <- \"time_factor\""
   ]
  },
  {
   "cell_type": "markdown",
   "id": "8974d938-ebfd-4582-ba46-f265264b069f",
   "metadata": {
    "tags": []
   },
   "source": [
    "## this bit is to generate a graph  showing  changes in prescribing by medication class minus beta-blockers\n"
   ]
  },
  {
   "cell_type": "code",
   "execution_count": null,
   "id": "9a56e76c-7287-4438-81c2-4abb06e884c0",
   "metadata": {
    "tags": []
   },
   "outputs": [],
   "source": [
    "tbl_med_long_bb_grouped <- tbl_med_long_bb %>% group_by(antihypertensive_type,time_factor,prescribed.factor)%>% summarise(sub_total = n())"
   ]
  },
  {
   "cell_type": "code",
   "execution_count": null,
   "id": "2b69ede9-2422-44c7-a7cb-8b30c7d32013",
   "metadata": {
    "tags": []
   },
   "outputs": [],
   "source": [
    "tbl_med_long_bb_grouped_percentage <- tbl_med_long_bb_grouped %>% group_by(time_factor,antihypertensive_type)%>% mutate(total = sum(sub_total))%>% mutate(percentage_prescribed = (sub_total/total)*100) %>%   mutate(time_factor = time_factor %>% \n",
    "           fct_relevel(\"pre_admission\"))\n"
   ]
  },
  {
   "cell_type": "code",
   "execution_count": null,
   "id": "72f6fa20-0a9f-46ad-ab65-12b89881e4d5",
   "metadata": {
    "tags": []
   },
   "outputs": [],
   "source": [
    "tbl_med_long_bb_grouped_percentage %>% filter(prescribed.factor == \"true\") %>% ggplot(aes(x=time_factor,y=percentage_prescribed,colour=antihypertensive_type))+geom_col()+theme_bw()+facet_wrap(\"antihypertensive_type\")"
   ]
  },
  {
   "cell_type": "code",
   "execution_count": null,
   "id": "440e31c9-537d-47de-ae02-401be838a97c",
   "metadata": {
    "tags": []
   },
   "outputs": [],
   "source": [
    "mybq = bq_table(project='yhcr-prd-bradfor-bia-core', dataset='CB_2172', table='tbl_med_long_filtered')\n",
    "bq_table_upload(x=mybq, values= tbl_med_long, create_disposition='CREATE_IF_NEEDED', \n",
    "             write_disposition='WRITE_TRUNCATE')"
   ]
  },
  {
   "cell_type": "code",
   "execution_count": null,
   "id": "bde56f62-947c-44d5-9063-3665783dc0ef",
   "metadata": {
    "tags": []
   },
   "outputs": [],
   "source": [
    "sql4<- paste(\n",
    "    'SELECT person_id, time_factor, avg(no_antihypertensive) as number_antihypertensive \n",
    "FROM `yhcr-prd-bradfor-bia-core.CB_2172.tbl_med_long_filtered` \n",
    "group by person_id, time_factor \n",
    "order by person_id, time_factor;'\n",
    "             ,sep=\"\")\n",
    "\n",
    "tbl_antihtn <-bq_project_query(ProjectId,sql4)\n",
    "\n",
    "tbl_antihtn <- bq_table_download(tbl_antihtn)\n",
    "\n"
   ]
  },
  {
   "cell_type": "code",
   "execution_count": null,
   "id": "7a0c6240-fb2f-4867-a091-d108294e9cc5",
   "metadata": {},
   "outputs": [],
   "source": [
    "sql5<- paste(\n",
    "    'SELECT person_id, time_factor, avg(no_antihypertensive) as number_antihypertensive \n",
    "FROM `yhcr-prd-bradfor-bia-core.CB_2172.tbl_med_long_filtered_minus_bb` \n",
    "group by person_id, time_factor \n",
    "order by person_id, time_factor;'\n",
    "             ,sep=\"\")\n",
    "\n",
    "tbl_antihtn_1 <-bq_project_query(ProjectId,sql5)\n",
    "\n",
    "tbl_antihtn_minus_bb <- bq_table_download(tbl_antihtn_1)\n",
    "\n"
   ]
  },
  {
   "cell_type": "code",
   "execution_count": null,
   "id": "f2ea0dc0-988c-49fd-9ba3-ffd64dc52127",
   "metadata": {
    "tags": []
   },
   "outputs": [],
   "source": [
    " tbl_antihtn$number_antihypertensive.factor <- as.factor(tbl_antihtn$number_antihypertensive)%>% fct_collapse(\"4+\"=c(4,5))\n",
    " tbl_antihtn$time.factor <- as.factor(tbl_antihtn$time_factor)"
   ]
  },
  {
   "cell_type": "code",
   "execution_count": null,
   "id": "a6addc76-0366-4575-ba4c-fee1e92b3032",
   "metadata": {
    "tags": []
   },
   "outputs": [],
   "source": [
    " tbl_antihtn <- tbl_antihtn %>% \n",
    "  mutate(time.factor = time.factor %>% \n",
    "           fct_relevel(\"pre_admission\"))\n"
   ]
  },
  {
   "cell_type": "code",
   "execution_count": null,
   "id": "6f03aafb-e325-486b-90d0-c13757ae8e4f",
   "metadata": {
    "tags": []
   },
   "outputs": [],
   "source": [
    "deprescribing_tibble <- tbl_antihtn %>% \n",
    "summary_factorlist(dependent   =\"time.factor\", \n",
    "                     explanatory = c(\"number_antihypertensive.factor\"),add_col_totals =TRUE)\n",
    "\n",
    "deprescribing_tibble"
   ]
  },
  {
   "cell_type": "code",
   "execution_count": null,
   "id": "ae94404a-afa4-44af-b867-8c8ec172dfc8",
   "metadata": {
    "tags": []
   },
   "outputs": [],
   "source": [
    "tbl_antihtn_group_1 <- tbl_antihtn %>% group_by(number_antihypertensive.factor,time.factor) %>% mutate(total_time_class =sum(n()))\n",
    "\n",
    "tbl_antihtn_group_2 <- tbl_antihtn_group_1 %>% group_by(time.factor) %>% mutate(total_time = sum(n())) %>% mutate(percentage_class_time = (total_time_class/total_time * 100))"
   ]
  },
  {
   "cell_type": "code",
   "execution_count": null,
   "id": "98582497-af0d-40d1-ad51-ba9b0ffd0332",
   "metadata": {
    "tags": []
   },
   "outputs": [],
   "source": [
    "tbl_antihtn_group_2 %>% ggplot( aes(fill=time.factor, y=percentage_class_time, x=number_antihypertensive.factor)) + \n",
    "    geom_bar(position=\"dodge\", stat=\"identity\")+  ggtitle(\"Number of Antihypertensives Prescribed at Care Home Admission\")+ \n",
    "    xlab(\"Number of antihypertensives prescribed\")+ylab(\"percentage\")"
   ]
  },
  {
   "cell_type": "code",
   "execution_count": null,
   "id": "1f2d5d34-f226-4567-a952-0857bab97347",
   "metadata": {
    "tags": []
   },
   "outputs": [],
   "source": [
    "master_tibble %>% ggplot(aes(x=number_antihypertensive.factor,fill=bp_target))+geom_bar(position=\"fill\")+labs(x=\"number of antihypertensives\",y=\"proportion with bp present\")"
   ]
  },
  {
   "cell_type": "markdown",
   "id": "8ca7ab21-0f25-4fcf-9fd3-46889646eaea",
   "metadata": {
    "jp-MarkdownHeadingCollapsed": true,
    "tags": []
   },
   "source": [
    "## we then repeat the above analysis but minus beta blockers"
   ]
  },
  {
   "cell_type": "code",
   "execution_count": null,
   "id": "7bd9e7ba-3aee-4187-a394-1f8f0fe2520e",
   "metadata": {
    "tags": []
   },
   "outputs": [],
   "source": [
    " tbl_antihtn_minus_bb$number_antihypertensive.factor <- as.factor(tbl_antihtn_minus_bb$number_antihypertensive)%>% fct_collapse(\"3+\"=c(3,4,5))\n",
    " tbl_antihtn_minus_bb$time.factor <- as.factor(tbl_antihtn_minus_bb$time_factor)"
   ]
  },
  {
   "cell_type": "code",
   "execution_count": null,
   "id": "5499c042-1f13-4a14-9089-c02a9c37fb09",
   "metadata": {
    "tags": []
   },
   "outputs": [],
   "source": [
    " tbl_antihtn_minus_bb <- tbl_antihtn_minus_bb %>% \n",
    "  mutate(time.factor = time.factor %>% \n",
    "           fct_relevel(\"pre_admission\"))\n"
   ]
  },
  {
   "cell_type": "code",
   "execution_count": null,
   "id": "545eab09-265f-4e83-b5e3-50ff26574860",
   "metadata": {
    "tags": []
   },
   "outputs": [],
   "source": [
    "deprescribing_tibble <- tbl_antihtn_minus_bb %>% \n",
    "summary_factorlist(dependent   =\"time.factor\", \n",
    "                     explanatory = c(\"number_antihypertensive.factor\"),add_col_totals =TRUE)\n",
    "\n",
    "deprescribing_tibble"
   ]
  },
  {
   "cell_type": "code",
   "execution_count": null,
   "id": "ab538bd6-7f1f-4b69-9451-e7b6f39273ae",
   "metadata": {
    "tags": []
   },
   "outputs": [],
   "source": [
    "tbl_antihtn_minus_bb_group_1 <- tbl_antihtn_minus_bb %>% group_by(number_antihypertensive.factor,time.factor) %>% mutate(total_time_class =sum(n()))\n",
    "\n",
    "tbl_antihtn_minus_bb_group_2 <- tbl_antihtn_minus_bb_group_1 %>% group_by(time.factor) %>% mutate(total_time = sum(n())) %>% mutate(percentage_class_time = (total_time_class/total_time * 100))"
   ]
  },
  {
   "cell_type": "code",
   "execution_count": null,
   "id": "77cde7ab-716d-4c00-834f-66ff28117a28",
   "metadata": {
    "tags": []
   },
   "outputs": [],
   "source": [
    "tbl_antihtn_minus_bb_group_2 %>% ggplot( aes(fill=time.factor, y=percentage_class_time, x=number_antihypertensive.factor)) + \n",
    "    geom_bar(position=\"dodge\", stat=\"identity\")+  ggtitle(\"Number of Antihypertensives Prescribed at Care Home Admission\")+ \n",
    "    xlab(\"Number of antihypertensives prescribed\")+ylab(\"percentage\")+scale_fill_discrete(\"Time Point\",labels=c('Before Admission', 'Admission','After Admission'))"
   ]
  },
  {
   "cell_type": "markdown",
   "id": "b2ca560c-effb-4bc9-a4d0-56a6ca480b04",
   "metadata": {
    "tags": []
   },
   "source": [
    "## Blood pressure measurements"
   ]
  },
  {
   "cell_type": "code",
   "execution_count": null,
   "id": "3985f543-b8c4-4c53-8ec5-e95289013591",
   "metadata": {},
   "outputs": [],
   "source": [
    "# join the number of medications at admission to the master cohort dataframe in order to calculate number of people with BP measurements after admission by number of medication "
   ]
  },
  {
   "cell_type": "code",
   "execution_count": null,
   "id": "659feabd-29d5-4cea-994c-5d3c187689fb",
   "metadata": {
    "tags": []
   },
   "outputs": [],
   "source": [
    "no_medication <- tbl_antihtn_minus_bb %>% filter(time_factor == 'admission')"
   ]
  },
  {
   "cell_type": "code",
   "execution_count": null,
   "id": "65e6620e-1410-4c2f-826f-6711719c4646",
   "metadata": {
    "tags": []
   },
   "outputs": [],
   "source": [
    "master_tibble<-bp_data_filtered %>% inner_join(no_medication, by=\"person_id\")\n"
   ]
  },
  {
   "cell_type": "code",
   "execution_count": null,
   "id": "74db5c94-ebce-415b-9879-7fcff866dafa",
   "metadata": {
    "tags": []
   },
   "outputs": [],
   "source": [
    "master_tibble %>% ggplot(aes(x=number_antihypertensive,fill=bp_target))+geom_bar(position=\"fill\")+labs(x=\"number of antihypertensives\",y=\"proportion with bp present\")"
   ]
  },
  {
   "cell_type": "code",
   "execution_count": null,
   "id": "9995d67f-9a18-4e95-93a1-d43032a74365",
   "metadata": {},
   "outputs": [],
   "source": [
    "master_tibble %>%  summary_factorlist(explanatory   =\"bp_target\")"
   ]
  },
  {
   "cell_type": "code",
   "execution_count": null,
   "id": "7583278b-18a8-4b21-a3cd-55c5dfbdcacc",
   "metadata": {
    "tags": []
   },
   "outputs": [],
   "source": [
    "bp_data$observation_period_end_date %>% max()"
   ]
  },
  {
   "cell_type": "markdown",
   "id": "9938877e-6dc1-4b40-a063-fa0f45965a95",
   "metadata": {},
   "source": [
    "## Blood Pressure difference analysis"
   ]
  },
  {
   "cell_type": "markdown",
   "id": "288c89f3-54cf-4cc8-bf84-3507e1955122",
   "metadata": {
    "tags": []
   },
   "source": [
    "exploratory analysis to determine whether there is a significant change in systolic blood pressure values before and after admission. \n",
    "complete case analysis, only those on antihypertensive medication \n",
    "independent t-test to determine differnce in blood pressure before and after admission "
   ]
  },
  {
   "cell_type": "code",
   "execution_count": null,
   "id": "54c2f38a-db45-4fff-b246-a29f9a070c59",
   "metadata": {
    "tags": []
   },
   "outputs": [],
   "source": [
    "bp_data_filtered$systolic_value <- as.numeric(bp_data_filtered$systolic_value) "
   ]
  },
  {
   "cell_type": "code",
   "execution_count": null,
   "id": "d7dea2d9-4ca2-4f79-bf9e-237c582e6af0",
   "metadata": {
    "tags": []
   },
   "outputs": [],
   "source": [
    "bp_data_filtered$pre_admission_systolic_value <- as.numeric(bp_data_filtered$pre_admission_systolic_value) "
   ]
  },
  {
   "cell_type": "markdown",
   "id": "a2cb343c-e027-468f-84c1-70b832b5d1d1",
   "metadata": {},
   "source": [
    "filter for those individuals who had blood pressure recorded before and after admission"
   ]
  },
  {
   "cell_type": "code",
   "execution_count": null,
   "id": "0519e410-372e-486d-9d99-af71656d9021",
   "metadata": {
    "tags": []
   },
   "outputs": [],
   "source": [
    "bp_present <- bp_data_filtered %>%  filter(bp_pre_present == 'yes' & bp_present == 'yes') "
   ]
  },
  {
   "cell_type": "code",
   "execution_count": null,
   "id": "b16bbfe3-b50b-4f20-88ea-f259e2f68705",
   "metadata": {
    "tags": []
   },
   "outputs": [],
   "source": [
    "bp_present <- bp_present %>% mutate(systolic_difference = (systolic_value - pre_admission_systolic_value))"
   ]
  },
  {
   "cell_type": "code",
   "execution_count": null,
   "id": "54f1fe6e-4d00-4696-a856-46f8d3f7ed63",
   "metadata": {
    "tags": []
   },
   "outputs": [],
   "source": [
    "bp_present <- bp_present %>% mutate(systolic_death_days =as.numeric(difftime(death_date,date_systolic, units = \"days\")))"
   ]
  },
  {
   "cell_type": "markdown",
   "id": "b421401d-c7a5-4349-b133-c910e38bd644",
   "metadata": {},
   "source": [
    "create new variable which determines whether the systolic variable was recorded within 30 days of death"
   ]
  },
  {
   "cell_type": "code",
   "execution_count": null,
   "id": "65d6be0c-0997-41b2-b1cf-940af2731aae",
   "metadata": {
    "tags": []
   },
   "outputs": [],
   "source": [
    "bp_present <- bp_present %>% mutate(eol_measurement = \n",
    "    case_when(\n",
    "      systolic_death_days < 60 ~ \"true\",\n",
    "       systolic_death_days == 60 ~ \"true\",\n",
    "      systolic_death_days > 60 ~ \"false\"))"
   ]
  },
  {
   "cell_type": "markdown",
   "id": "c8bc8642-d6f8-419b-aec5-56264fbab8a4",
   "metadata": {
    "tags": []
   },
   "source": [
    " identify those prescribed antihypertensives on admission to care home and filter for them "
   ]
  },
  {
   "cell_type": "code",
   "execution_count": null,
   "id": "b252b671-8bf3-4fa4-830d-dd6d0936f775",
   "metadata": {
    "tags": []
   },
   "outputs": [],
   "source": [
    "tbl_med_long_filtered <- tbl_med_long %>% filter(time_factor == 'admission' & no_antihypertensive >= 1) %>% distinct( person_id, .keep_all = FALSE)"
   ]
  },
  {
   "cell_type": "code",
   "execution_count": null,
   "id": "1356a8d2-8ec4-4065-98f9-f60f314ea4c4",
   "metadata": {
    "tags": []
   },
   "outputs": [],
   "source": [
    "bp_present_filtered <- bp_present[bp_present$person_id %in% tbl_med_long_filtered$person_id, ]"
   ]
  },
  {
   "cell_type": "code",
   "execution_count": null,
   "id": "b3ff5f20-8505-43b9-8e2f-f6314809198f",
   "metadata": {
    "tags": []
   },
   "outputs": [],
   "source": [
    "bp_present_filtered <- bp_present_filtered  %>% \n",
    "select(-bp_pre_present, -bp_present, -first_episodestartdate,-birth_date,-mortality_month,-bp_present.factor,-bp_pre_present.factor, -efi2,-imd, -finalisedPSR,- gender_source_value, -date_of_admission)"
   ]
  },
  {
   "cell_type": "markdown",
   "id": "4b7594ff-c41b-4341-be05-463b4719fd41",
   "metadata": {
    "tags": []
   },
   "source": [
    "run paired t test analysis"
   ]
  },
  {
   "cell_type": "code",
   "execution_count": null,
   "id": "73ec12e8-5631-4224-ab78-3e617cdc295a",
   "metadata": {
    "tags": []
   },
   "outputs": [],
   "source": [
    "t.test(bp_present_filtered$pre_admission_systolic_value, bp_present_filtered$systolic_value, paired = TRUE)"
   ]
  },
  {
   "cell_type": "markdown",
   "id": "87cea599-95a7-432f-b87b-1e56b625995f",
   "metadata": {},
   "source": [
    "run a sensitivity analyis to eliminate blood pressure values performed in the last year of life"
   ]
  },
  {
   "cell_type": "markdown",
   "id": "2e59beaf-a041-41e8-a419-7c258a792749",
   "metadata": {
    "tags": []
   },
   "source": [
    "run paired t test analysis"
   ]
  },
  {
   "cell_type": "code",
   "execution_count": null,
   "id": "e18f72c0-c278-47ba-aac5-824e17c1b3f7",
   "metadata": {
    "tags": []
   },
   "outputs": [],
   "source": [
    "bp_present_filtered_2 <- bp_present_filtered %>% filter(eol_measurement == \"false\") \n",
    "\n",
    "bp_present_filtered_2 %>% nrow()\n",
    "\n",
    "t.test(bp_present_filtered_2$pre_admission_systolic_value, bp_present_filtered_2$systolic_value, paired = TRUE)"
   ]
  },
  {
   "cell_type": "code",
   "execution_count": null,
   "id": "4124760f-990a-4eae-adb6-890a5739dacd",
   "metadata": {
    "tags": []
   },
   "outputs": [],
   "source": [
    "bp_present$systolic_difference %>% mean()"
   ]
  },
  {
   "cell_type": "markdown",
   "id": "fdf7175f-f63b-4452-b7a9-5a1a471efb64",
   "metadata": {},
   "source": [
    "# mortality survival analysis "
   ]
  },
  {
   "cell_type": "markdown",
   "id": "10bbe9cb-b1ea-4736-902a-012f4f1df46d",
   "metadata": {},
   "source": [
    "survival analysis will be done for the study duration, that is, 2016 (or whenever they enetered the care home) to 1st January 2024.\n",
    "this is in order to estimate the median survival time\n",
    "I will code the data to ensure that everyone is coded as either dying by study end date, \n",
    "Loss to follow-up (where observation end date precedes study end date\n",
    "But there is no death date, or person reamins alive without an observation end date)"
   ]
  },
  {
   "cell_type": "markdown",
   "id": "81ed5bc3-9f68-4900-9c85-cba23fb38779",
   "metadata": {},
   "source": [
    "coalesce the fu period (admission date to end of observation date) and mortality time as the time-to-event variable, so those with a null mortality time have the fu period in place"
   ]
  },
  {
   "cell_type": "code",
   "execution_count": null,
   "id": "5ae2cca2-7585-4fd3-aece-6a56cb310886",
   "metadata": {
    "tags": []
   },
   "outputs": [],
   "source": [
    "bp_data_filtered <- bp_data_filtered %>% mutate(survival_time = coalesce(mortality,fu_period))"
   ]
  },
  {
   "cell_type": "code",
   "execution_count": null,
   "id": "ff31457f-20f4-4ee4-bae0-beb1fc88fb17",
   "metadata": {
    "tags": []
   },
   "outputs": [],
   "source": [
    "mortality_analysis <- bp_data_filtered %>% select(fu_end_date, episodestartdate, end_of_fu_status, death_date, survival_time)"
   ]
  },
  {
   "cell_type": "code",
   "execution_count": null,
   "id": "d9281ec0-a9dc-4900-9835-036ae460bbdd",
   "metadata": {
    "tags": []
   },
   "outputs": [],
   "source": [
    "mortality_analysis$end_of_fu_status <- as.factor(mortality_analysis$end_of_fu_status)\n",
    "mortality_analysis$end_of_fu_status <- mortality_analysis$end_of_fu_status %>% fct_recode(\"0\" = \"survived\", \n",
    "                 \"1\" = \"died\") %>%  as.character() %>% \n",
    "  as.numeric() "
   ]
  },
  {
   "cell_type": "code",
   "execution_count": null,
   "id": "f952eb0b-7140-4c06-85f3-5034c859c80a",
   "metadata": {
    "tags": []
   },
   "outputs": [],
   "source": [
    "mortality_analysis$survival_time <- as.numeric(mortality_analysis$survival_time)"
   ]
  },
  {
   "cell_type": "code",
   "execution_count": null,
   "id": "2093cceb-60b2-47d1-867d-496ab036bc12",
   "metadata": {
    "tags": []
   },
   "outputs": [],
   "source": [
    "survival_object_months <- Surv(time = (mortality_analysis$survival_time/(365/12)), event = mortality_analysis$end_of_fu_status)"
   ]
  },
  {
   "cell_type": "code",
   "execution_count": null,
   "id": "381c1bfc-34b1-435f-bb86-c4181c07f142",
   "metadata": {
    "tags": []
   },
   "outputs": [],
   "source": [
    "survival_object_years <- Surv(time = (mortality_analysis$survival_time/(365)), event = mortality_analysis$end_of_fu_status)"
   ]
  },
  {
   "cell_type": "code",
   "execution_count": null,
   "id": "d33a0ae4-e042-4709-9f97-e395c73150bb",
   "metadata": {
    "tags": []
   },
   "outputs": [],
   "source": [
    "my_survfit <- survfit(survival_object_months ~ 1, data = mortality_analysis) "
   ]
  },
  {
   "cell_type": "code",
   "execution_count": null,
   "id": "c30a97b9-18fe-416e-895b-f81434ec5e73",
   "metadata": {
    "tags": []
   },
   "outputs": [],
   "source": [
    "my_survfit"
   ]
  },
  {
   "cell_type": "code",
   "execution_count": null,
   "id": "a2029271-3bbf-4e44-b504-3a304066c74b",
   "metadata": {
    "tags": []
   },
   "outputs": [],
   "source": [
    "plot(my_survfit, main = \"Survival amongst care home residents following admission\", xlab = \"Time (months)\", ylab = \"Survival Probability\", xlim = c(0, 80), col = \"blue\", lwd = 2)"
   ]
  }
 ],
 "metadata": {
  "environment": {
   "kernel": "matthew_r_env",
   "name": "workbench-notebooks.m129",
   "type": "gcloud",
   "uri": "us-docker.pkg.dev/deeplearning-platform-release/gcr.io/workbench-notebooks:m129"
  },
  "kernelspec": {
   "display_name": "matthew_r_env",
   "language": "R",
   "name": "matthew_r_env"
  },
  "language_info": {
   "codemirror_mode": "r",
   "file_extension": ".r",
   "mimetype": "text/x-r-source",
   "name": "R",
   "pygments_lexer": "r",
   "version": "4.4.2"
  }
 },
 "nbformat": 4,
 "nbformat_minor": 5
}
