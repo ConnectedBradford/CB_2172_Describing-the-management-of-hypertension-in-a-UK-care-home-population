{
 "cells": [
  {
   "cell_type": "code",
   "execution_count": 1,
   "id": "8efb7c39-fec0-45b3-9e5e-755a11230718",
   "metadata": {},
   "outputs": [
    {
     "name": "stderr",
     "output_type": "stream",
     "text": [
      "Warning message:\n",
      "“package ‘bigrquery’ was built under R version 4.3.3”\n"
     ]
    }
   ],
   "source": [
    "library(bigrquery)\n",
    "\n",
    "data = read.csv(\"opensafely-myocardial-infarction-2020-06-25.csv\")"
   ]
  },
  {
   "cell_type": "code",
   "execution_count": 3,
   "id": "cc087fd6-96cd-4058-bd3d-0a67ef275272",
   "metadata": {},
   "outputs": [],
   "source": [
    "mybq = bq_table(project='yhcr-prd-phm-bia-core', dataset='CB_2172', table='myocardial_infarction_ctv3code')\n",
    "bq_table_upload(x=mybq, values=data, create_disposition='CREATE_IF_NEEDED', \n",
    "                write_disposition='WRITE_TRUNCATE')"
   ]
  },
  {
   "cell_type": "code",
   "execution_count": null,
   "id": "047748bb-5ae9-4ff9-a398-8e675a99f985",
   "metadata": {},
   "outputs": [],
   "source": []
  }
 ],
 "metadata": {
  "environment": {
   "kernel": "mk_env",
   "name": "workbench-notebooks.m123",
   "type": "gcloud",
   "uri": "us-docker.pkg.dev/deeplearning-platform-release/gcr.io/workbench-notebooks:m123"
  },
  "kernelspec": {
   "display_name": "mk_env",
   "language": "R",
   "name": "mk_env"
  },
  "language_info": {
   "codemirror_mode": "r",
   "file_extension": ".r",
   "mimetype": "text/x-r-source",
   "name": "R",
   "pygments_lexer": "r",
   "version": "4.4.1"
  }
 },
 "nbformat": 4,
 "nbformat_minor": 5
}
