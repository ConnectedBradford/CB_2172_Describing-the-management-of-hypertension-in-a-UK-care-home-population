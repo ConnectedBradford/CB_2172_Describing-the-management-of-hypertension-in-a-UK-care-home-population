{
 "cells": [
  {
   "cell_type": "code",
   "execution_count": 21,
   "id": "273a0610-3341-47e1-8f6d-0889ce68c367",
   "metadata": {},
   "outputs": [],
   "source": [
    "library(bigrquery)\n",
    "library(readxl)\n",
    "data = read_excel(\"nhsd-primary-care-domain-refsets-chd_cod-20250627 (1).xlsx\")"
   ]
  },
  {
   "cell_type": "code",
   "execution_count": 33,
   "id": "8dc1e899-0cb2-49ec-978a-745cbff1d39f",
   "metadata": {},
   "outputs": [],
   "source": [
    "\n",
    "mybq = bq_table(project='yhcr-prd-bradfor-bia-core', dataset='CB_2172', table='cb_2172_chd_snomed')\n",
    "bq_table_upload(x=mybq, values=data, create_disposition='CREATE_IF_NEEDED', \n",
    "                write_disposition='WRITE_TRUNCATE')"
   ]
  },
  {
   "cell_type": "code",
   "execution_count": null,
   "id": "9bfab6e2-9971-429e-b8b8-935e1e1c815f",
   "metadata": {},
   "outputs": [],
   "source": []
  }
 ],
 "metadata": {
  "environment": {
   "kernel": "matthew_r_env",
   "name": "workbench-notebooks.m129",
   "type": "gcloud",
   "uri": "us-docker.pkg.dev/deeplearning-platform-release/gcr.io/workbench-notebooks:m129"
  },
  "kernelspec": {
   "display_name": "matthew_r_env",
   "language": "R",
   "name": "matthew_r_env"
  },
  "language_info": {
   "codemirror_mode": "r",
   "file_extension": ".r",
   "mimetype": "text/x-r-source",
   "name": "R",
   "pygments_lexer": "r",
   "version": "4.4.2"
  }
 },
 "nbformat": 4,
 "nbformat_minor": 5
}
