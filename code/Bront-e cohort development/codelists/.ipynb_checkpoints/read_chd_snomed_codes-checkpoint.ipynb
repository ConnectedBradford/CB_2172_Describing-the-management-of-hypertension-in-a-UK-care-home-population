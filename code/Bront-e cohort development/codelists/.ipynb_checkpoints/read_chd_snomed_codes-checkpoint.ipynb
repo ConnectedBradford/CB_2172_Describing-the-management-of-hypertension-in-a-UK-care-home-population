{
 "cells": [
  {
   "cell_type": "code",
   "execution_count": 21,
   "id": "273a0610-3341-47e1-8f6d-0889ce68c367",
   "metadata": {},
   "outputs": [],
   "source": [
    "library(bigrquery)\n",
    "library(readxl)\n",
    "data = read_excel(\"nhsd-primary-care-domain-refsets-chd_cod-20250627 (1).xlsx\")"
   ]
  },
  {
   "cell_type": "code",
   "execution_count": 24,
   "id": "8dc1e899-0cb2-49ec-978a-745cbff1d39f",
   "metadata": {},
   "outputs": [],
   "source": [
    "mybq = bq_table(project='yhcr-prd-bradfor-bia-core', dataset='CB_2172', table='cb_2172_chd_snomed')\n",
    "bq_table_upload(x=mybq, values=data, create_disposition='CREATE_IF_NEEDED', \n",
    "                write_disposition='WRITE_TRUNCATE')"
   ]
  },
  {
   "cell_type": "code",
   "execution_count": 23,
   "id": "0ceef97c-f99f-4331-ba64-6ab5995e2745",
   "metadata": {},
   "outputs": [
    {
     "data": {
      "text/html": [
       "<table class=\"dataframe\">\n",
       "<caption>A tibble: 6 × 2</caption>\n",
       "<thead>\n",
       "\t<tr><th scope=col>code</th><th scope=col>term</th></tr>\n",
       "\t<tr><th scope=col>&lt;chr&gt;</th><th scope=col>&lt;chr&gt;</th></tr>\n",
       "</thead>\n",
       "<tbody>\n",
       "\t<tr><td>10273003        </td><td>Acute infarction of papillary muscle                                               </td></tr>\n",
       "\t<tr><td>103011000119106 </td><td>Coronary arteriosclerosis in patient with history of previous myocardial infarction</td></tr>\n",
       "\t<tr><td>1077002         </td><td>Septal infarction by electrocardiogram                                             </td></tr>\n",
       "\t<tr><td>1089431000000107</td><td>Postoperative nontransmural myocardial infarction                                  </td></tr>\n",
       "\t<tr><td>1089441000000103</td><td>Postoperative transmural myocardial infarction                                     </td></tr>\n",
       "\t<tr><td>1089451000000100</td><td>Acute nontransmural myocardial infarction                                          </td></tr>\n",
       "</tbody>\n",
       "</table>\n"
      ],
      "text/latex": [
       "A tibble: 6 × 2\n",
       "\\begin{tabular}{ll}\n",
       " code & term\\\\\n",
       " <chr> & <chr>\\\\\n",
       "\\hline\n",
       "\t 10273003         & Acute infarction of papillary muscle                                               \\\\\n",
       "\t 103011000119106  & Coronary arteriosclerosis in patient with history of previous myocardial infarction\\\\\n",
       "\t 1077002          & Septal infarction by electrocardiogram                                             \\\\\n",
       "\t 1089431000000107 & Postoperative nontransmural myocardial infarction                                  \\\\\n",
       "\t 1089441000000103 & Postoperative transmural myocardial infarction                                     \\\\\n",
       "\t 1089451000000100 & Acute nontransmural myocardial infarction                                          \\\\\n",
       "\\end{tabular}\n"
      ],
      "text/markdown": [
       "\n",
       "A tibble: 6 × 2\n",
       "\n",
       "| code &lt;chr&gt; | term &lt;chr&gt; |\n",
       "|---|---|\n",
       "| 10273003         | Acute infarction of papillary muscle                                                |\n",
       "| 103011000119106  | Coronary arteriosclerosis in patient with history of previous myocardial infarction |\n",
       "| 1077002          | Septal infarction by electrocardiogram                                              |\n",
       "| 1089431000000107 | Postoperative nontransmural myocardial infarction                                   |\n",
       "| 1089441000000103 | Postoperative transmural myocardial infarction                                      |\n",
       "| 1089451000000100 | Acute nontransmural myocardial infarction                                           |\n",
       "\n"
      ],
      "text/plain": [
       "  code            \n",
       "1 10273003        \n",
       "2 103011000119106 \n",
       "3 1077002         \n",
       "4 1089431000000107\n",
       "5 1089441000000103\n",
       "6 1089451000000100\n",
       "  term                                                                               \n",
       "1 Acute infarction of papillary muscle                                               \n",
       "2 Coronary arteriosclerosis in patient with history of previous myocardial infarction\n",
       "3 Septal infarction by electrocardiogram                                             \n",
       "4 Postoperative nontransmural myocardial infarction                                  \n",
       "5 Postoperative transmural myocardial infarction                                     \n",
       "6 Acute nontransmural myocardial infarction                                          "
      ]
     },
     "metadata": {},
     "output_type": "display_data"
    }
   ],
   "source": [
    "head(data)"
   ]
  },
  {
   "cell_type": "code",
   "execution_count": null,
   "id": "9bfab6e2-9971-429e-b8b8-935e1e1c815f",
   "metadata": {},
   "outputs": [],
   "source": []
  }
 ],
 "metadata": {
  "environment": {
   "kernel": "matthew_r_env",
   "name": "workbench-notebooks.m129",
   "type": "gcloud",
   "uri": "us-docker.pkg.dev/deeplearning-platform-release/gcr.io/workbench-notebooks:m129"
  },
  "kernelspec": {
   "display_name": "matthew_r_env",
   "language": "R",
   "name": "matthew_r_env"
  },
  "language_info": {
   "codemirror_mode": "r",
   "file_extension": ".r",
   "mimetype": "text/x-r-source",
   "name": "R",
   "pygments_lexer": "r",
   "version": "4.4.2"
  }
 },
 "nbformat": 4,
 "nbformat_minor": 5
}
