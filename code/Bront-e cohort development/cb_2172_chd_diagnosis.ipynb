{
 "cells": [
  {
   "cell_type": "code",
   "execution_count": null,
   "id": "5530fffa-59de-46df-82eb-979b58528b65",
   "metadata": {},
   "outputs": [],
   "source": [
    "#this query adds coronary heart disease diagnosis to the master table based on ctv3codes.\n",
    " CREATE OR REPLACE TABLE `yhcr-prd-bradfor-bia-core.CB_2172.cb_2172_chd_diagnosis`as (\n",
    " SELECT \n",
    " *,\n",
    " case \n",
    " when chd_diagnosis_date IS NOT NULL THEN 'yes' \n",
    " END AS chd_diagnosis\n",
    " from (\n",
    "  with a as (\n",
    "  SELECT \n",
    "  person_id,\n",
    "  snomedcode,\n",
    "  dateevent,\n",
    "  row_number() over(partition by person_id order by dateevent) code_sequence\n",
    "  FROM  `yhcr-prd-bradfor-bia-core.CB_FDM_PrimaryCare.tbl_srcode`\n",
    "  WHERE cast(snomedcode as integer) in(SELECT code FROM `yhcr-prd-bradfor-bia-core.CB_2172.cb_2172_chd_snomed`))\n",
    "\n",
    "  SELECT \n",
    "  m.*,\n",
    "  a.dateevent as chd_diagnosis_date,\n",
    "  FROM `yhcr-prd-bradfor-bia-core.CB_2172.care_home_cohort_v1` m\n",
    "  LEFT JOIN a ON\n",
    "  a.person_id= m.person_id AND a.code_sequence = 1 AND a.dateevent < m.first_episodestartdate))\n",
    "  \n",
    "\n",
    "\n",
    "\n"
   ]
  }
 ],
 "metadata": {
  "environment": {
   "kernel": "matthew_r_env",
   "name": "workbench-notebooks.m129",
   "type": "gcloud",
   "uri": "us-docker.pkg.dev/deeplearning-platform-release/gcr.io/workbench-notebooks:m129"
  },
  "kernelspec": {
   "display_name": "matthew_r_env",
   "language": "R",
   "name": "matthew_r_env"
  },
  "language_info": {
   "codemirror_mode": "r",
   "file_extension": ".r",
   "mimetype": "text/x-r-source",
   "name": "R",
   "pygments_lexer": "r",
   "version": "4.4.2"
  }
 },
 "nbformat": 4,
 "nbformat_minor": 5
}
