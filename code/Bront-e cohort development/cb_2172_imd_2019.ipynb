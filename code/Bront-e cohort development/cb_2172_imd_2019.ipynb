{
 "cells": [
  {
   "cell_type": "code",
   "execution_count": null,
   "id": "9d38bbca-88f9-4c8a-a065-9551105e0bb9",
   "metadata": {},
   "outputs": [],
   "source": [
    "CREATE OR REPLACE TABLE `yhcr-prd-bradfor-bia-core.CB_2172.cb_2172_ch_imd` as (\n",
    "  SELECT *except(imd), IFNULL(imd,'missing') as imd FROM (\n",
    "  SELECT \n",
    "  a.person_id,\n",
    "  (COUNT(*) OVER(PARTITION BY a.person_id)) as dup_count,\n",
    "  b.lsoa,\n",
    "  cast(c.index_of_multiple_deprivation_imd_decile_where_1_is_most_depr as STRING) as imd\n",
    "  FROM `yhcr-prd-bradfor-bia-core.CB_2172.care_home_cohort_v1` a\n",
    "  LEFT JOIN\n",
    "  `yhcr-prd-bradfor-bia-core.CB_LOOKUPS.tbl_person_lsoa` b\n",
    "  ON a.person_id = b.person_id\n",
    "  LEFT JOIN `yhcr-prd-bradfor-bia-core.CB_LOOKUPS.tbl_IMD_2019` c \n",
    "  ON b.lsoa = c.lsoa_code_2011)\n",
    "  where dup_count < 2)"
   ]
  }
 ],
 "metadata": {
  "environment": {
   "kernel": "matthew_r_env",
   "name": "workbench-notebooks.m127",
   "type": "gcloud",
   "uri": "us-docker.pkg.dev/deeplearning-platform-release/gcr.io/workbench-notebooks:m127"
  },
  "kernelspec": {
   "display_name": "matthew_r_env",
   "language": "R",
   "name": "matthew_r_env"
  },
  "language_info": {
   "codemirror_mode": "r",
   "file_extension": ".r",
   "mimetype": "text/x-r-source",
   "name": "R",
   "pygments_lexer": "r",
   "version": "4.3.3"
  }
 },
 "nbformat": 4,
 "nbformat_minor": 5
}
