{
 "cells": [
  {
   "cell_type": "code",
   "execution_count": null,
   "id": "21fd59df-7d41-4f6b-91e3-10a8e614d519",
   "metadata": {},
   "outputs": [],
   "source": [
    "#this query aims to identify the approximate date of death of individuals in the care home cohort with missing death data from the primary care and social are databases. this is calculated if the end date for the social care episode andd observation period for the \n",
    "create or replace table `yhcr-prd-bradfor-bia-core.CB_2172.care_home_cohort_ghost_death_date` as (\n",
    "  with ghost_cohort as (\n",
    "  SELECT\n",
    "   person_id, \n",
    "   episodestartdate,\n",
    "   episodestopdate,\n",
    "   dod,\n",
    "   birth_date,\n",
    "   date_diff(episodestopdate,birth_date,year) as age_at_stop_date \n",
    "  FROM `yhcr-prd-bradfor-bia-core.CB_2172.care_home_cohort_v1`\n",
    "   where dod is null),\n",
    "add_observation as (\n",
    "   select\n",
    "   g.*,\n",
    "   o.observation_period_end_date,\n",
    "   date_diff(o.observation_period_end_date,g.episodestopdate,month) as difference_observation_episodestop\n",
    "   from ghost_cohort g\n",
    "   left join `yhcr-prd-bradfor-bia-core.CB_FDM_PrimaryCare.observation_period` o\n",
    "   on g.person_id = o.person_id)\n",
    "   select\n",
    "   *\n",
    "   from add_observation\n",
    "   where add_observation.difference_observation_episodestop between -2 and 2\n",
    ")"
   ]
  }
 ],
 "metadata": {
  "environment": {
   "kernel": "matthew_r_env",
   "name": "workbench-notebooks.m129",
   "type": "gcloud",
   "uri": "us-docker.pkg.dev/deeplearning-platform-release/gcr.io/workbench-notebooks:m129"
  },
  "kernelspec": {
   "display_name": "matthew_r_env",
   "language": "R",
   "name": "matthew_r_env"
  },
  "language_info": {
   "codemirror_mode": "r",
   "file_extension": ".r",
   "mimetype": "text/x-r-source",
   "name": "R",
   "pygments_lexer": "r",
   "version": "4.4.2"
  }
 },
 "nbformat": 4,
 "nbformat_minor": 5
}
