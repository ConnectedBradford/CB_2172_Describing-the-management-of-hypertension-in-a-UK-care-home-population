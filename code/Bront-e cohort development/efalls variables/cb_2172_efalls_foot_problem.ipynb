{
 "cells": [
  {
   "cell_type": "code",
   "execution_count": null,
   "id": "5a60d6e0-e29f-4402-9609-be956626ed05",
   "metadata": {},
   "outputs": [],
   "source": [
    "#query for efi2 deficit for foot problem, using updated code for efi2 deficits\n",
    " CREATE OR REPLACE TABLE `yhcr-prd-bradfor-bia-core.CB_2172.cb_2172_efalls_foot_problem` as (\n",
    "#bring all snoemd and ctv3codes for care home cohort in primary into the cte\n",
    "with a as (\n",
    "  select\n",
    "  person_id,\n",
    "  ctv3code,\n",
    "  snomedcode,\n",
    "  dateevent\n",
    "  from `yhcr-prd-bradfor-bia-core.CB_FDM_PrimaryCare.tbl_srcode`\n",
    "  where person_id in(select person_id from `yhcr-prd-bradfor-bia-core.CB_2172.care_home_cohort_v1`)),\n",
    "  #join care home entry date from msater table\n",
    "  a_master as (\n",
    "    select\n",
    "    a.*,\n",
    "    CAST(j.first_episodestartdate AS DATETIME) first_episodestartdate\n",
    "    from a\n",
    "    left join `yhcr-prd-bradfor-bia-core.CB_2172.care_home_cohort_v1` j on\n",
    "    a.person_id = j.person_id),\n",
    "#filter for Foot problems snomed and ctv3code codes\n",
    "  b as (\n",
    "    select\n",
    "    person_id,\n",
    "    dateevent,\n",
    "    case \n",
    "    when snomedcode in(select SNOMEDCT_CONCEPTID from `yhcr-prd-bradfor-bia-core.ref_Lookups.lkp_EFI2_Codelist` where deficit = 'Foot problems' and TimeConstraintyears is not null) AND dateevent < first_episodestartdate AND datetime_diff(first_episodestartdate,dateevent,year) <= 5 then 'true' \n",
    "    when ctv3code in(select CTV3 from `yhcr-prd-bradfor-bia-core.ref_Lookups.lkp_EFI2_Codelist` where deficit = 'Foot problems' and TimeConstraintyears is not null) AND dateevent < first_episodestartdate AND datetime_diff(first_episodestartdate,dateevent,year) <= 5 then 'true' \n",
    "    when snomedcode in(select SNOMEDCT_CONCEPTID from `yhcr-prd-bradfor-bia-core.ref_Lookups.lkp_EFI2_Codelist` where deficit = 'Foot problems' and TimeConstraintyears is null) AND dateevent < first_episodestartdate then 'true' \n",
    "    when ctv3code in(select CTV3 from `yhcr-prd-bradfor-bia-core.ref_Lookups.lkp_EFI2_Codelist` where deficit = 'Foot problems' and TimeConstraintyears is null) AND dateevent < first_episodestartdate then 'true' end as fatigue\n",
    "    from a_master)\n",
    "    \n",
    "    select\n",
    "    distinct person_id,\n",
    "    fatigue\n",
    "    from b\n",
    "    where fatigue is not null)\n",
    "  \n",
    "\n",
    "\n",
    "\n"
   ]
  }
 ],
 "metadata": {
  "environment": {
   "kernel": "matthew_r_env",
   "name": "workbench-notebooks.m129",
   "type": "gcloud",
   "uri": "us-docker.pkg.dev/deeplearning-platform-release/gcr.io/workbench-notebooks:m129"
  },
  "kernelspec": {
   "display_name": "matthew_r_env",
   "language": "R",
   "name": "matthew_r_env"
  },
  "language_info": {
   "codemirror_mode": "r",
   "file_extension": ".r",
   "mimetype": "text/x-r-source",
   "name": "R",
   "pygments_lexer": "r",
   "version": "4.4.2"
  }
 },
 "nbformat": 4,
 "nbformat_minor": 5
}
