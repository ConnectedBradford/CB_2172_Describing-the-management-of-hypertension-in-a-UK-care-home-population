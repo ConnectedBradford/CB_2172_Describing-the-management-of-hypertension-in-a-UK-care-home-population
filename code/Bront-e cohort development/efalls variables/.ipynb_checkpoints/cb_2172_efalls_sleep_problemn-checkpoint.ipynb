{
 "cells": [
  {
   "cell_type": "code",
   "execution_count": null,
   "id": "4bf21efc-f2b8-4aa0-b09c-ee8719dea826",
   "metadata": {},
   "outputs": [],
   "source": [
    "#query for efi2 deficit for Sleep problems, using updated code for efi2 deficits\n",
    " DROP TABLE `yhcr-prd-phm-bia-core.CB_MYSPACE_MK.temp_cb_2172_efalls_sleep_problem`;\n",
    " CREATE OR REPLACE TABLE `yhcr-prd-phm-bia-core.CB_2172.cb_2172_efalls_sleep_problem` as (\n",
    "#bring all snoemd and ctv3codes for care home cohort in primary into the cte\n",
    "with a as (\n",
    "  select\n",
    "  person_id,\n",
    "  ctv3code,\n",
    "  snomedcode,\n",
    "  dateevent\n",
    "  from `yhcr-prd-phm-bia-core.CB_FDM_PrimaryCare.tbl_srcode`\n",
    "  where person_id in(select person_id from `yhcr-prd-phm-bia-core.CB_2172.temp_cb_2172_ch_cohort_demographic`)),\n",
    "  #join care home entry date from msater table\n",
    "  a_master as (\n",
    "    select\n",
    "    a.*,\n",
    "    j.first_episodestartdate\n",
    "    from a\n",
    "    left join `yhcr-prd-phm-bia-core.CB_2172.temp_cb_2172_ch_cohort_demographic` j on\n",
    "    a.person_id = j.person_id),\n",
    "#filter for Sleep problems snomed and ctv3code codes\n",
    "  b as (\n",
    "    select\n",
    "    person_id,\n",
    "    dateevent,\n",
    "    case \n",
    "    when snomedcode in(select SNOMEDCT_CONCEPTID from `yhcr-prd-phm-bia-core.CB_LOOKUPS.tbl_EFI2_Codelist` where deficit = 'Sleep problems') AND dateevent < first_episodestartdate AND (datetime_diff(first_episodestartdate,dateevent,year) <= 5) then 'true' \n",
    "    when ctv3code in(select CTV3 from `yhcr-prd-phm-bia-core.CB_LOOKUPS.tbl_EFI2_Codelist` where deficit = 'Sleep problems') AND dateevent < first_episodestartdate AND (datetime_diff(first_episodestartdate,dateevent,year) <= 5) then 'true' end as sleep_problem\n",
    "    from a_master)\n",
    "    \n",
    "    select\n",
    "    distinct person_id,\n",
    "    sleep_problem\n",
    "    from b\n",
    "    where sleep_problem is not null)\n",
    "  \n",
    "\n",
    "\n",
    "\n"
   ]
  }
 ],
 "metadata": {
  "environment": {
   "kernel": "matthew_r_env",
   "name": "workbench-notebooks.m129",
   "type": "gcloud",
   "uri": "us-docker.pkg.dev/deeplearning-platform-release/gcr.io/workbench-notebooks:m129"
  },
  "kernelspec": {
   "display_name": "matthew_r_env",
   "language": "R",
   "name": "matthew_r_env"
  },
  "language_info": {
   "codemirror_mode": "r",
   "file_extension": ".r",
   "mimetype": "text/x-r-source",
   "name": "R",
   "pygments_lexer": "r",
   "version": "4.4.2"
  }
 },
 "nbformat": 4,
 "nbformat_minor": 5
}
