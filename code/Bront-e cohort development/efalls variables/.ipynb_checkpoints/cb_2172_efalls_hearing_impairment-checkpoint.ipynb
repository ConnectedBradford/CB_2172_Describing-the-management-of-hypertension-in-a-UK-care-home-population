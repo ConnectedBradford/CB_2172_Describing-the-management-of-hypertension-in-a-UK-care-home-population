{
 "cells": [
  {
   "cell_type": "code",
   "execution_count": null,
   "id": "4f5e25a3-e627-4c74-a532-de871eb53bf4",
   "metadata": {},
   "outputs": [],
   "source": [
    "#query for efi2 deficit for Hearing impairment, using updated code for efi2 deficits\n",
    " CREATE OR REPLACE TABLE `yhcr-prd-bradfor-bia-core.CB_2172.cb_2172_efalls_hearing_impairment` as (\n",
    "#bring all snoemd and ctv3codes for care home cohort in primary into the cte\n",
    "with a as (\n",
    "  select\n",
    "  person_id,\n",
    "  ctv3code,\n",
    "  snomedcode,\n",
    "  dateevent\n",
    "  from `yhcr-prd-bradfor-bia-core.CB_FDM_PrimaryCare.tbl_srcode`\n",
    "  where person_id in(select person_id from `yhcr-prd-bradfor-bia-core.CB_2172.care_home_cohort_v1`)),\n",
    "  #join care home entry date from msater table\n",
    "  a_master as (\n",
    "    select\n",
    "    a.*,\n",
    "    cast(j.first_episodestartdate as datetime) first_episodestartdate\n",
    "    from a\n",
    "    left join `yhcr-prd-bradfor-bia-core.CB_2172.care_home_cohort_v1` j on\n",
    "    a.person_id = j.person_id),\n",
    "#filter for Hearing impairment snomed and ctv3code codes\n",
    "  b as (\n",
    "    select\n",
    "    person_id,\n",
    "    dateevent,\n",
    "    case \n",
    "    when snomedcode in(select SNOMEDCT_CONCEPTID from `yhcr-prd-bradfor-bia-core.ref_Lookups.lkp_EFI2_Codelist` where deficit = 'Hearing impairment' and TimeConstraintyears is not null) AND dateevent < first_episodestartdate AND datetime_diff(first_episodestartdate,dateevent,year) <= 5 then 'true' \n",
    "    when ctv3code in(select CTV3 from `yhcr-prd-bradfor-bia-core.ref_Lookups.lkp_EFI2_Codelist` where deficit = 'Hearing impairment' and TimeConstraintyears is not null) AND dateevent < first_episodestartdate AND datetime_diff(first_episodestartdate,dateevent,year) <= 5 then 'true' \n",
    "    when snomedcode in(select SNOMEDCT_CONCEPTID from `yhcr-prd-bradfor-bia-core.ref_Lookups.lkp_EFI2_Codelist` where deficit = 'Hearing impairment' and TimeConstraintyears is null) AND dateevent < first_episodestartdate then 'true' \n",
    "    when ctv3code in(select CTV3 from `yhcr-prd-bradfor-bia-core.ref_Lookups.lkp_EFI2_Codelist` where deficit = 'Hearing impairment' and TimeConstraintyears is null) AND dateevent < first_episodestartdate then 'true' end as hearing_impairment\n",
    "    from a_master)\n",
    "    \n",
    "    select\n",
    "    distinct person_id,\n",
    "    hearing_impairment,\n",
    "    from b\n",
    "    where hearing_impairment is not null)\n",
    "  \n",
    "\n",
    "\n",
    "\n"
   ]
  }
 ],
 "metadata": {
  "environment": {
   "kernel": "matthew_r_env",
   "name": "workbench-notebooks.m129",
   "type": "gcloud",
   "uri": "us-docker.pkg.dev/deeplearning-platform-release/gcr.io/workbench-notebooks:m129"
  },
  "kernelspec": {
   "display_name": "matthew_r_env",
   "language": "R",
   "name": "matthew_r_env"
  },
  "language_info": {
   "codemirror_mode": "r",
   "file_extension": ".r",
   "mimetype": "text/x-r-source",
   "name": "R",
   "pygments_lexer": "r",
   "version": "4.4.2"
  }
 },
 "nbformat": 4,
 "nbformat_minor": 5
}
