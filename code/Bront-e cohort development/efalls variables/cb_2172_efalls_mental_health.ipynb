{
 "cells": [
  {
   "cell_type": "code",
   "execution_count": null,
   "id": "623ccea2-ee39-4624-ba60-feb4560d97be",
   "metadata": {},
   "outputs": [],
   "source": [
    "#query for efi2 deficit for general mental health, using updated code for efi2 deficits\n",
    " CREATE or replace TABLE `yhcr-prd-bradfor-bia-core.CB_2172.cb_2172_efalls_mh` as (\n",
    "#bring all snoemd and ctv3codes for care home cohort in primary into the cte\n",
    "with a as (\n",
    "  select\n",
    "  person_id,\n",
    "  ctv3code,\n",
    "  snomedcode,\n",
    "  dateevent\n",
    "  from `yhcr-prd-bradfor-bia-core.CB_FDM_PrimaryCare.tbl_srcode`\n",
    "  where person_id in(select person_id from `yhcr-prd-bradfor-bia-core.CB_2172.care_home_cohort_v1`)),\n",
    "  #join care home entry date from msater table\n",
    "  a_master as (\n",
    "    select\n",
    "    a.*,\n",
    "    cast(j.first_episodestartdate as datetime) first_episodestartdate\n",
    "    from a\n",
    "    left join `yhcr-prd-bradfor-bia-core.CB_2172.care_home_cohort_v1` j on\n",
    "    a.person_id = j.person_id),\n",
    "#filter for General mental health snomed and ctv3code codes\n",
    "  b as (\n",
    "    select\n",
    "    person_id,\n",
    "    dateevent,\n",
    "    case \n",
    "    when snomedcode in(select SNOMEDCT_CONCEPTID from `yhcr-prd-bradfor-bia-core.ref_Lookups.lkp_EFI2_Codelist` where deficit = 'General mental health') AND dateevent < first_episodestartdate AND datetime_diff(first_episodestartdate,dateevent,year) <= 5 then 'true' \n",
    "    when ctv3code in(select CTV3 from `yhcr-prd-bradfor-bia-core.ref_Lookups.lkp_EFI2_Codelist` where deficit = 'General mental health') AND dateevent < first_episodestartdate AND datetime_diff(first_episodestartdate,dateevent,year) <= 5 then 'true' end as mental_health\n",
    "    from a_master)\n",
    "    \n",
    "    select\n",
    "    distinct person_id,\n",
    "    mental_health\n",
    "    from b\n",
    "    where mental_health is not null)\n",
    "  \n",
    "\n",
    "\n",
    "\n"
   ]
  }
 ],
 "metadata": {
  "environment": {
   "kernel": "matthew_r_env",
   "name": "workbench-notebooks.m129",
   "type": "gcloud",
   "uri": "us-docker.pkg.dev/deeplearning-platform-release/gcr.io/workbench-notebooks:m129"
  },
  "kernelspec": {
   "display_name": "matthew_r_env",
   "language": "R",
   "name": "matthew_r_env"
  },
  "language_info": {
   "codemirror_mode": "r",
   "file_extension": ".r",
   "mimetype": "text/x-r-source",
   "name": "R",
   "pygments_lexer": "r",
   "version": "4.4.2"
  }
 },
 "nbformat": 4,
 "nbformat_minor": 5
}
