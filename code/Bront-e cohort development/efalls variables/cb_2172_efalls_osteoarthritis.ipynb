{
 "cells": [
  {
   "cell_type": "code",
   "execution_count": null,
   "id": "c1a7b47e-153a-42ba-a1e5-f1e141d27b20",
   "metadata": {},
   "outputs": [],
   "source": [
    "#query for efi2 deficit for osteoarthritis, using updated code for efi2 deficits\n",
    " CREATE or replace TABLE `yhcr-prd-phm-bia-core.CB_2172.cb_2172_efalls_osteoarthritis` as (\n",
    "#bring all snoemd and ctv3codes for care home cohort in primary into the cte\n",
    "with a as (\n",
    "  select\n",
    "  person_id,\n",
    "  ctv3code,\n",
    "  snomedcode,\n",
    "  dateevent\n",
    "  from `yhcr-prd-phm-bia-core.CB_FDM_PrimaryCare.tbl_srcode`\n",
    "  where person_id in(select person_id from `yhcr-prd-phm-bia-core.CB_2172.temp_cb_2172_ch_cohort_demographic`)),\n",
    "  #join care home entry date from msater table\n",
    "  a_master as (\n",
    "    select\n",
    "    a.*,\n",
    "    j.first_episodestartdate\n",
    "    from a\n",
    "    left join `yhcr-prd-phm-bia-core.CB_2172.temp_cb_2172_ch_cohort_demographic` j on\n",
    "    a.person_id = j.person_id),\n",
    "#filter for Osteoarthritis snomed codes\n",
    "  b as (\n",
    "    select\n",
    "    person_id,\n",
    "    case\n",
    "    when snomedcode in(select SNOMEDCT_CONCEPTID from `yhcr-prd-phm-bia-core.CB_LOOKUPS.tbl_EFI2_Codelist` where deficit = 'Osteoarthritis') AND dateevent < first_episodestartdate then 'true'\n",
    "    when ctv3code in(select CTV3 from `yhcr-prd-phm-bia-core.CB_LOOKUPS.tbl_EFI2_Codelist` where deficit = 'Osteoarthritis') AND dateevent < first_episodestartdate then 'true' end as osteoarthritis,\n",
    "    from a_master)\n",
    "\n",
    "#apply dummy variable\n",
    "    select\n",
    "     distinct person_id,\n",
    "  osteoarthritis\n",
    "    from b\n",
    "    where osteoarthritis = 'true'\n",
    "    order by person_id)\n",
    "  \n",
    "\n",
    "\n",
    "\n"
   ]
  }
 ],
 "metadata": {
  "environment": {
   "kernel": "matthew_r_env",
   "name": "workbench-notebooks.m129",
   "type": "gcloud",
   "uri": "us-docker.pkg.dev/deeplearning-platform-release/gcr.io/workbench-notebooks:m129"
  },
  "kernelspec": {
   "display_name": "matthew_r_env",
   "language": "R",
   "name": "matthew_r_env"
  },
  "language_info": {
   "codemirror_mode": "r",
   "file_extension": ".r",
   "mimetype": "text/x-r-source",
   "name": "R",
   "pygments_lexer": "r",
   "version": "4.4.2"
  }
 },
 "nbformat": 4,
 "nbformat_minor": 5
}
