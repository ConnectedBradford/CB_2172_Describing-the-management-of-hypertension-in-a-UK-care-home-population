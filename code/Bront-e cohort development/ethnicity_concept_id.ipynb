{
 "cells": [
  {
   "cell_type": "markdown",
   "id": "3302abc8-1143-4293-8cfe-d4a45ff2d6bf",
   "metadata": {},
   "source": [
    "this script has been created to better identify ethnciites in the care home cohort population, using code from colleagues at ASR (K.Best and L.Gong). it makes use of multiple data sources to identify ethnicity in inidivduals resulting in a lower missing rate"
   ]
  },
  {
   "cell_type": "code",
   "execution_count": 2,
   "id": "a7137cf6-75a2-4838-8bb3-d50a78ca7577",
   "metadata": {
    "tags": []
   },
   "outputs": [
    {
     "name": "stderr",
     "output_type": "stream",
     "text": [
      "── \u001b[1mAttaching core tidyverse packages\u001b[22m ──────────────────────── tidyverse 2.0.0 ──\n",
      "\u001b[32m✔\u001b[39m \u001b[34mdplyr    \u001b[39m 1.1.4     \u001b[32m✔\u001b[39m \u001b[34mreadr    \u001b[39m 2.1.5\n",
      "\u001b[32m✔\u001b[39m \u001b[34mforcats  \u001b[39m 1.0.0     \u001b[32m✔\u001b[39m \u001b[34mstringr  \u001b[39m 1.5.1\n",
      "\u001b[32m✔\u001b[39m \u001b[34mlubridate\u001b[39m 1.9.3     \u001b[32m✔\u001b[39m \u001b[34mtibble   \u001b[39m 3.2.1\n",
      "\u001b[32m✔\u001b[39m \u001b[34mpurrr    \u001b[39m 1.0.2     \u001b[32m✔\u001b[39m \u001b[34mtidyr    \u001b[39m 1.3.1\n",
      "── \u001b[1mConflicts\u001b[22m ────────────────────────────────────────── tidyverse_conflicts() ──\n",
      "\u001b[31m✖\u001b[39m \u001b[34mdplyr\u001b[39m::\u001b[32mfilter()\u001b[39m masks \u001b[34mstats\u001b[39m::filter()\n",
      "\u001b[31m✖\u001b[39m \u001b[34mdplyr\u001b[39m::\u001b[32mlag()\u001b[39m    masks \u001b[34mstats\u001b[39m::lag()\n",
      "\u001b[36mℹ\u001b[39m Use the conflicted package (\u001b[3m\u001b[34m<http://conflicted.r-lib.org/>\u001b[39m\u001b[23m) to force all conflicts to become errors\n"
     ]
    }
   ],
   "source": [
    "library(ggplot2)\n",
    "library(bigrquery)\n",
    "library(tidyverse)\n",
    "library(lubridate)\n",
    "library(stats)\n",
    "library(finalfit)\n",
    "ProjectId = \"yhcr-prd-bradfor-bia-core\"\n",
    "\n",
    "targetdb2 <- 'yhcr-prd-bradfor-bia-core.CB_FDM_DeathCertificates'\n",
    "targetdb2 <-gsub(' ','',targetdb2)\n",
    "\n",
    "targetdb3 <- 'yhcr-prd-bradfor-bia-core.CB_2172'\n",
    "targetdb3 <- gsub(' ','',targetdb3)\n",
    "\n",
    "targetdb4 <- 'yhcr-prd-bradfor-bia-core.CB_FDM_PrimaryCare'\n",
    "targetdb4 <- gsub(' ','',targetdb4)\n",
    "\n"
   ]
  },
  {
   "cell_type": "markdown",
   "id": "bcccbed6-0747-479b-ae92-eb4b271b52f2",
   "metadata": {},
   "source": [
    "get the ethnciites used in primary care data person table"
   ]
  },
  {
   "cell_type": "code",
   "execution_count": 32,
   "id": "192c0c02-ca93-4a64-8f6a-59c28c566c8e",
   "metadata": {
    "tags": []
   },
   "outputs": [],
   "source": [
    "sql1 <- \n",
    "paste(\n",
    "    '\n",
    "#remove the missing ethnicites from the srpatient table \n",
    "with ethnicity_prep as (SELECT \n",
    "person_id,\n",
    "ethnicity,\n",
    "from \n",
    "',targetdb4,'.tbl_srpatient\n",
    "where\n",
    "ethnicity !=\"Ethnic category - 2011 census England and Wales\"  AND\n",
    "\n",
    "ethnicity !=\"O/E - ethnic group NOS\"  AND\n",
    "\n",
    "ethnicity !=\"O/E - ethnic group\"  AND\n",
    "\n",
    "ethnicity !=\"Ethnic groups (census) NOS\"  AND\n",
    "\n",
    "ethnicity !=\"Not specified - JDB\"  AND\n",
    "\n",
    "person_id in( select person_id from ',targetdb3,'.care_home_cohort_v1) \n",
    "ORDER BY PERSON_ID),\n",
    "\n",
    "#select randomly from the non-missing ethnicity values for each person from the ethncity table\n",
    "\n",
    "sr_ethnicity as (\n",
    "SELECT person_id , ethnicity,\n",
    "\n",
    "FROM (\n",
    "\n",
    "    SELECT ROW_NUMBER() OVER (PARTITION BY person_id ORDER BY RAND()) AS row_num,\n",
    "\n",
    "        person_id, ethnicity\n",
    "\n",
    "    FROM ethnicity_prep\n",
    "\n",
    ") AS T\n",
    "WHERE row_num = 1),\n",
    "\n",
    "# join together different sources of recording ethnicity, from concept_id in person table, ethnicity from sr_patient table, \n",
    "and ethnicity 5 levels group from Lins table taken from the census groups\n",
    "\n",
    "ethnicity_join as (\n",
    "SELECT\n",
    "\n",
    "a.person_id,\n",
    "\n",
    "a.gender_source_value as gender,\n",
    "\n",
    "  a.age_admission,\n",
    "\n",
    "  b.ethnicity_concept_id,\n",
    " b.ethnicity_source_value,\n",
    "  d.Ethnicity as Ethnicity_SR_Table,\n",
    "f.ethnicity_variable_label_5levels as _Ethnic_Group_Person_Table\n",
    "\n",
    "FROM ',targetdb3,'.care_home_cohort_v1 as a\n",
    "\n",
    "LEFT JOIN  ',targetdb4,'.person as b\n",
    "\n",
    "on a.person_id=b.person_id\n",
    "\n",
    "Left JOIN sr_ethnicity as d\n",
    "\n",
    "on a.person_id=d.person_id\n",
    "\n",
    "left join\n",
    "`yhcr-prd-bradfor-bia-core.CB_CDM_VOCAB.concept` as e\n",
    "on b.ethnicity_concept_id = e.concept_id\n",
    "left join\n",
    "`yhcr-prd-bradfor-bia-core.CB_1322.Lin_clean_ethnic_1220` as f\n",
    "on b.ethnicity_concept_id = f.concept_id\n",
    "),\n",
    "\n",
    "# identify  all the sr patient ethnicity codes that are filled in when the person table is missing.\n",
    "ethnicity_missing_codes as (\n",
    "SELECT distinct\n",
    "_Ethnic_Group_Person_Table,\n",
    "Ethnicity_SR_Table,\n",
    "FROM ethnicity_join \n",
    " WHERE _Ethnic_Group_Person_Table=\"Missing\"\n",
    "group by _Ethnic_Group_Person_Table,\n",
    "Ethnicity_SR_Table)\n",
    "\n",
    "#recode these ethnicity codes into the five high level ethnicity groups\n",
    "SELECT \n",
    "person_id,\n",
    "Gender,\n",
    "age_admission, \n",
    " ethnicity_concept_id,\n",
    "_Ethnic_Group_Person_Table,\n",
    "Ethnicity_SR_Table,\n",
    "CASE\n",
    "WHEN _Ethnic_Group_Person_Table =\"Missing\" AND     Ethnicity_SR_Table =     \"White British\"  THEN  \"White\"\n",
    "WHEN _Ethnic_Group_Person_Table =\"Missing\" AND     Ethnicity_SR_Table =      \"British or mixed British - ethnic category 2001 census\" THEN \"White\"\n",
    "WHEN _Ethnic_Group_Person_Table =\"Missing\" AND     Ethnicity_SR_Table =      \"White: Irish - England and Wales ethnic category 2011 census\" THEN \"White\"\n",
    "WHEN _Ethnic_Group_Person_Table =\"Missing\" AND     Ethnicity_SR_Table =      \"Other white ethnic group\" THEN \"White\"  \n",
    "WHEN _Ethnic_Group_Person_Table =\"Missing\" AND     Ethnicity_SR_Table =      \"Other White or White unspecified ethnic category 2001 census\" THEN \"White\"\n",
    "WHEN _Ethnic_Group_Person_Table =\"Missing\" AND     Ethnicity_SR_Table =      \"White British - ethnic category 2001 census\" THEN \"White\"\n",
    "WHEN _Ethnic_Group_Person_Table =\"Missing\" AND     Ethnicity_SR_Table =      \"Italian - ethnic category 2001 census\" THEN \"White\"\n",
    "WHEN _Ethnic_Group_Person_Table =\"Missing\" AND     Ethnicity_SR_Table =      \"White Irish\" THEN \"White\"\n",
    "WHEN _Ethnic_Group_Person_Table is NULL THEN \"Missing\" \n",
    "              ELSE _Ethnic_Group_Person_Table\n",
    "END AS Ethnic_Group\n",
    "FROM ethnicity_join\n",
    "\n",
    ";',sep=\"\")\n",
    "\n",
    "\n",
    "\n",
    "ethnicity_tbl <-bq_project_query(ProjectId,sql1)\n",
    "ethnicity_data <- bq_table_download(ethnicity_tbl)"
   ]
  },
  {
   "cell_type": "code",
   "execution_count": 33,
   "id": "5a2c8988-73f3-4fd5-bb44-e4a75a332e25",
   "metadata": {
    "tags": []
   },
   "outputs": [],
   "source": [
    "mybq = bq_table(project='yhcr-prd-bradfor-bia-core', dataset='CB_2172', table='care_home_cohort_v1_ethnicity')\n",
    "bq_table_upload(x=mybq, values= ethnicity_data, create_disposition='CREATE_IF_NEEDED', \n",
    "             write_disposition='WRITE_TRUNCATE')"
   ]
  }
 ],
 "metadata": {
  "environment": {
   "kernel": "matthew_r_env",
   "name": "workbench-notebooks.m129",
   "type": "gcloud",
   "uri": "us-docker.pkg.dev/deeplearning-platform-release/gcr.io/workbench-notebooks:m129"
  },
  "kernelspec": {
   "display_name": "matthew_r_env",
   "language": "R",
   "name": "matthew_r_env"
  },
  "language_info": {
   "codemirror_mode": "r",
   "file_extension": ".r",
   "mimetype": "text/x-r-source",
   "name": "R",
   "pygments_lexer": "r",
   "version": "4.4.2"
  }
 },
 "nbformat": 4,
 "nbformat_minor": 5
}
