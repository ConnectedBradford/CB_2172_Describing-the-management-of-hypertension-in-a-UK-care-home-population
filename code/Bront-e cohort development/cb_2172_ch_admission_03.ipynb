{
 "cells": [
  {
   "cell_type": "markdown",
   "id": "7a9ad9da-9caf-4106-8eee-c1cf90722f07",
   "metadata": {},
   "source": [
    "## Care home identification notebook\n"
   ]
  },
  {
   "cell_type": "markdown",
   "id": "bf03499f-4eed-4ad7-b7e2-e432f4ea5348",
   "metadata": {},
   "source": [
    "this notebook is the latest version as of 17/08/2024 for identifying care home residents in connected bradford after some issues wih previous scripts were identified. it is the number that will be used in the final analysis, having it in a jupytner notebook format also enabls it to be easily upliaded to github to be made freely available."
   ]
  },
  {
   "cell_type": "code",
   "execution_count": null,
   "id": "8abf86ed-4de5-4f0c-9423-57870e417b9d",
   "metadata": {
    "tags": []
   },
   "outputs": [],
   "source": [
    "library(bigrquery)\n",
    "library(tidyverse) "
   ]
  },
  {
   "cell_type": "code",
   "execution_count": null,
   "id": "e6cf67a9-24f6-4de1-96be-6c6062ab6b52",
   "metadata": {
    "tags": []
   },
   "outputs": [],
   "source": [
    "ProjectId = \"yhcr-prd-bradfor-bia-core\"\n",
    "\n",
    "targetdb1 <- \"yhcr-prd-bradfor-bia-core.CB_2172\"\n",
    "targetdb1 <- gsub(\" \",\"\",targetdb1)"
   ]
  },
  {
   "cell_type": "code",
   "execution_count": null,
   "id": "9147e329-e02c-40b4-8c05-1fba1a876c32",
   "metadata": {},
   "outputs": [],
   "source": [
    "#first query selects all individuals admitted to a care home at any point no age or date restrictions"
   ]
  },
  {
   "cell_type": "code",
   "execution_count": null,
   "id": "4e09ad2d-94cf-4203-a34a-ed14aa5f707d",
   "metadata": {},
   "outputs": [],
   "source": [
    "sql1 <- \n",
    "paste(\n",
    "    'with a  as (\n",
    "SELECT person_id, \n",
    "tbl_bmbc_AdultSocialCare_Services_start_date, \n",
    "servicetype, \n",
    "FinalisedPSR, \n",
    "row_number() over\n",
    "(partition by person_id order by tbl_bmbc_AdultSocialCare_Services_start_date) as care_seq \n",
    "from ',targetdb1,'.tbl_bmbc_AdultSocialCare_Services\n",
    "where ServiceType in(\"Nursing\",\"Residential\") \n",
    "),\n",
    "b as (\n",
    "select \n",
    "* \n",
    "from a\n",
    "where care_seq = 1\n",
    "order by person_id, tbl_bmbc_AdultSocialCare_Services_start_date),\n",
    "\n",
    "c as \n",
    "(SELECT person_id,\n",
    "tbl_bmbc_AdultSocialCare_Services_end_date, \n",
    "servicetype, \n",
    "row_number() over (partition by person_id order by tbl_bmbc_AdultSocialCare_Services_end_date desc) as care_end_seq \n",
    "from ',targetdb1,'.tbl_bmbc_AdultSocialCare_Services\n",
    "where ServiceType in(\"Nursing\",\"Residential\") )\n",
    ",\n",
    "\n",
    "d as (select\n",
    "* from c \n",
    "where care_end_seq = 1),\n",
    "\n",
    "e as (\n",
    "select \n",
    "b.person_id,\n",
    "b.tbl_bmbc_AdultSocialCare_Services_start_date as first_episodestartdate,\n",
    "d.tbl_bmbc_AdultSocialCare_Services_end_date as last_episodestopdate,\n",
    "b.ServiceType as admission_service,\n",
    "b.finalisedPSR\n",
    "from b \n",
    "LEFT join d on\n",
    "b.person_id= d.person_id\n",
    "order by person_id),\n",
    "\n",
    "f as (\n",
    "Select \n",
    "e.*,\n",
    "date_diff(e.last_episodestopdate,e.first_episodestartdate,day) as admission_length\n",
    "from e\n",
    "),\n",
    "\n",
    "h as (\n",
    "SELECT\n",
    "f.person_id,\n",
    "f.admission_length,\n",
    "f.admission_service,\n",
    "first_episodestartdate,\n",
    "f.last_episodestopdate,\n",
    "#ethnicity.Ethnic_Group\n",
    "EXTRACT(DATE FROM (g.birth_datetime)) as birth_datetime,\n",
    "f.first_episodestartdate as date_of_admission,\n",
    "EXTRACT(DATE FROM (g.death_datetime)) as death_datetime,\n",
    "g.gender_source_value as gender,\n",
    "o.observation_period_end_date\n",
    "FROM f \n",
    "LEFT JOIN ',targetdb1,'.person g on\n",
    "f.person_id = g.person_id\n",
    "#LEFT JOIN ',targetdb1,'.care_home_cohort_v1_ethnicity ethnicity on \n",
    "#f.person_id = ethnicity.person_id\n",
    "LEFT JOIN ',targetdb1,'.observation_period o on\n",
    "f.person_id = o.person_id\n",
    " ),\n",
    "\n",
    "g as (\n",
    "select\n",
    "DATE_DIFF(first_episodestartdate, birth_datetime, YEAR) as age_admission,\n",
    "h.*,\n",
    "from h\n",
    "where first_episodestartdate < \"2019-12-31\"\n",
    "order by age_admission desc)\n",
    "\n",
    "select\n",
    "*\n",
    "from g\n",
    "\n",
    "\n",
    "\n",
    ";',sep=\"\")\n",
    "\n",
    "sql_tbl <-bq_project_query(ProjectId,sql1)\n",
    "sql_data <- bq_table_download(sql_tbl)\n"
   ]
  },
  {
   "cell_type": "code",
   "execution_count": null,
   "id": "957797e8-cc03-444e-91f4-1765e0665be5",
   "metadata": {},
   "outputs": [],
   "source": [
    "#convert vectors to date"
   ]
  },
  {
   "cell_type": "code",
   "execution_count": null,
   "id": "2948e6df-2602-4f86-9e85-46952dac05ba",
   "metadata": {},
   "outputs": [],
   "source": [
    "sql_data$death_date <- as_date(sql_data$death_datetime)\n",
    "sql_data <- sql_data %>% select(-death_datetime)"
   ]
  },
  {
   "cell_type": "code",
   "execution_count": null,
   "id": "1de81d23-ffce-42e9-928b-f16d33534a34",
   "metadata": {
    "tags": []
   },
   "outputs": [],
   "source": [
    "sql_data$episodestartdate <- as_date(sql_data$first_episodestartdate)\n",
    "sql_data$episodestopdate <- as_date(sql_data$last_episodestopdate)\n",
    "sql_data <- sql_data %>% select(-first_episodestartdate,-last_episodestopdate)"
   ]
  },
  {
   "cell_type": "code",
   "execution_count": null,
   "id": "bfff7dcc-f93f-4b54-93f6-35d216f566a9",
   "metadata": {},
   "outputs": [],
   "source": [
    "sql_data$birth_date <- as_date(sql_data$birth_datetime)\n",
    "sql_data <- sql_data %>% select(-birth_datetime)\n",
    "sql_data$ob_period_end_date <- as_date(sql_data$observation_period_end_date)\n",
    "sql_data <- sql_data %>%  select(-observation_period_end_date)"
   ]
  },
  {
   "cell_type": "code",
   "execution_count": null,
   "id": "53ae09f3-23a3-4d0f-bc75-284c792bafb5",
   "metadata": {},
   "outputs": [],
   "source": [
    "# remove those inidividuals admitted on dates that were identified as being erroneous\n",
    "# (i.e. these individuals were actually admitted into a care home prior to 2016, but had no start date so the date was put as the date of upload, creating some skew) \n",
    "# this has been confirmed with the individual who built the social care FDM in Connected bradford"
   ]
  },
  {
   "cell_type": "code",
   "execution_count": null,
   "id": "0c38154b-d3ce-444a-8b1a-6d7a7bad8d62",
   "metadata": {
    "tags": []
   },
   "outputs": [],
   "source": [
    "sql_data_1 <- \n",
    "sql_data %>% filter(!(episodestartdate == \"2016-04-04\"))%>%\n",
    "filter(!(episodestartdate == \"2016-07-25\"))%>% \n",
    "filter(!(episodestartdate == \"2016-08-22\"))%>% \n",
    "filter(!(episodestartdate == \"2015-11-02\"))"
   ]
  },
  {
   "cell_type": "code",
   "execution_count": null,
   "id": "e3354c8c-061f-4cc8-9fbc-fee57b33f51e",
   "metadata": {
    "tags": []
   },
   "outputs": [],
   "source": [
    "sql_data_1 %>% n_distinct('person_id')"
   ]
  },
  {
   "cell_type": "code",
   "execution_count": null,
   "id": "931bcd3b-8fa2-45a3-ab43-f53121df74d4",
   "metadata": {
    "tags": []
   },
   "outputs": [],
   "source": [
    "sql_data_1"
   ]
  },
  {
   "cell_type": "code",
   "execution_count": null,
   "id": "ffbe9497-c169-48e9-a6f1-73950d898b72",
   "metadata": {},
   "outputs": [],
   "source": [
    "#how many aged less than 65 "
   ]
  },
  {
   "cell_type": "code",
   "execution_count": null,
   "id": "b78b21c5-62df-4f47-9c21-49fc8d6ce15b",
   "metadata": {
    "tags": []
   },
   "outputs": [],
   "source": [
    "sql_data_below_65 <- sql_data_1 %>% filter(age_admission < 65)\n",
    "n_distinct(sql_data_below_65$person_id)"
   ]
  },
  {
   "cell_type": "code",
   "execution_count": null,
   "id": "df40fb54-dcea-406e-bea2-1703c18c36e6",
   "metadata": {
    "tags": []
   },
   "outputs": [],
   "source": [
    "sql_data_above_sixtyfive <- sql_data_1 %>% filter(age_admission >= 65) \n",
    "sql_data_above_sixtyfive %>% n_distinct()\n"
   ]
  },
  {
   "cell_type": "code",
   "execution_count": null,
   "id": "3c8228b7-f703-42c7-9f75-b1f5ea3704f9",
   "metadata": {},
   "outputs": [],
   "source": [
    "#here we bring in the mortality data to reduce number of missig death dates "
   ]
  },
  {
   "cell_type": "code",
   "execution_count": null,
   "id": "ed6680f6-3f15-4358-ae9b-ec7aa1b5298a",
   "metadata": {
    "tags": []
   },
   "outputs": [],
   "source": [
    "sql_death <- paste('\n",
    "with a as (SELECT cast(person_id as BIGNUMERIC) person_id,\n",
    "dod,\n",
    "tbl_NEC_Deaths,\n",
    "reg_date,\n",
    "rank() over(partition by person_id order by dod desc, reg_date desc) as rank_seq\n",
    "from ',targetdb1,'.tbl_NEC_Deaths\n",
    "where cast(person_id as BIGNUMERIC) in (SELECT person_id from ',targetdb1,'.person where death_datetime is null)),\n",
    "\n",
    "b as (\n",
    "select\n",
    "*,\n",
    "row_number() over(partition by person_id order by person_id) as rank_seq_2\n",
    "from a \n",
    "where rank_seq = 1)\n",
    "\n",
    "select \n",
    "person_id, dod,reg_date from b \n",
    "where rank_seq_2 = 1 \n",
    "order by person_id \n",
    ";',sep=\"\")\n",
    "\n",
    "tbl_death <-bq_project_query(ProjectId,sql_death)\n",
    "ch_death<- bq_table_download(tbl_death)\n",
    "\n"
   ]
  },
  {
   "cell_type": "code",
   "execution_count": null,
   "id": "0224e409-d621-4c06-bed4-d304f4052176",
   "metadata": {
    "tags": []
   },
   "outputs": [],
   "source": [
    "ch_death <- ch_death %>% mutate(date_death = ifelse(is.na(dod), reg_date,dod))"
   ]
  },
  {
   "cell_type": "code",
   "execution_count": null,
   "id": "38f3123b-4c05-4f96-926e-1b8d9c98fba9",
   "metadata": {
    "tags": []
   },
   "outputs": [],
   "source": [
    "ch_death$date_death <- as_date(ch_death$date_death)\n",
    "    ch_death$person_id <- as.numeric(ch_death$person_id)"
   ]
  },
  {
   "cell_type": "code",
   "execution_count": null,
   "id": "5cb95e7d-b517-4033-b73f-61439b215d72",
   "metadata": {},
   "outputs": [],
   "source": [
    "## join death certificate tibble to the deathdate in the master cohort table "
   ]
  },
  {
   "cell_type": "code",
   "execution_count": null,
   "id": "305458e6-e456-4d30-a563-c50e4e1e0a5a",
   "metadata": {
    "tags": []
   },
   "outputs": [],
   "source": [
    "ch_death_filter <- ch_death %>% select(person_id,date_death)\n",
    "sql_data_above_sixtyfive <- left_join(sql_data_above_sixtyfive,ch_death_filter,by='person_id')"
   ]
  },
  {
   "cell_type": "code",
   "execution_count": null,
   "id": "6ac20ec9-f24b-4e31-a4f4-1833b51f70a2",
   "metadata": {
    "tags": []
   },
   "outputs": [],
   "source": [
    "sql_data_above_sixtyfive <- sql_data_above_sixtyfive %>%\n",
    "mutate(dod = coalesce(sql_data_above_sixtyfive$death_date,sql_data_above_sixtyfive$date_death))%>% \n",
    "select(-death_date,-date_death)\n"
   ]
  },
  {
   "cell_type": "code",
   "execution_count": null,
   "id": "58e13825-7b17-4455-acd4-91a0e610f47e",
   "metadata": {
    "tags": []
   },
   "outputs": [],
   "source": [
    "sql_data_above_sixtyfive <- sql_data_above_sixtyfive %>% mutate(mortality = dod-episodestartdate)"
   ]
  },
  {
   "cell_type": "code",
   "execution_count": null,
   "id": "f45b1701-2777-49bf-9bc6-25861e3fd331",
   "metadata": {
    "tags": []
   },
   "outputs": [],
   "source": [
    "alive_morethan_6weeks <- sql_data_above_sixtyfive %>% filter((mortality > 42) |is.na(dod))"
   ]
  },
  {
   "cell_type": "code",
   "execution_count": null,
   "id": "8a6a2b9f-c271-4631-9836-4e369be7b1ab",
   "metadata": {
    "tags": []
   },
   "outputs": [],
   "source": [
    "alive_morethan_6weeks %>% n_distinct()"
   ]
  },
  {
   "cell_type": "code",
   "execution_count": null,
   "id": "200716ba-fb94-462f-8262-c3c1157dca18",
   "metadata": {
    "tags": []
   },
   "outputs": [],
   "source": [
    "##next we remove anyone who was discharged within 42 days or died within 42 days\n",
    "#first we calculate the number and then remove anyone who died within 42 days \n",
    "long_stay_resident <- alive_morethan_6weeks %>% filter(episodestopdate > (episodestartdate + ddays(x=42)))\n"
   ]
  },
  {
   "cell_type": "code",
   "execution_count": null,
   "id": "a68abf83-4ccf-468f-902d-037fbaf54abb",
   "metadata": {},
   "outputs": [],
   "source": [
    "#second, of  those remaining, we calculate and remove those who had a recorded legnth of stay of 42 days or less. \n",
    "#the two figures combined (number died withi 42 days and number discharged alive) gives the total number filtered at this stage. "
   ]
  },
  {
   "cell_type": "code",
   "execution_count": null,
   "id": "3a2d5e38-a722-44b8-87a9-d40e78bfa14f",
   "metadata": {
    "tags": []
   },
   "outputs": [],
   "source": [
    "long_stay_resident %>% n_distinct()"
   ]
  },
  {
   "cell_type": "markdown",
   "id": "f2fa9369-7c40-44ad-a057-f0984862d6ae",
   "metadata": {
    "tags": []
   },
   "source": [
    "## ghostbusting"
   ]
  },
  {
   "cell_type": "code",
   "execution_count": null,
   "id": "041eaf1b-da3b-4ecf-8ea3-402065f7ec94",
   "metadata": {},
   "outputs": [],
   "source": [
    "# we identified anyone with missing primary care data and removed them, \n",
    "# this is most likely because whilst they are recieving social care funding from the bradford local authorty they are not registered to a GP contributing to Connected Bradford. "
   ]
  },
  {
   "cell_type": "markdown",
   "id": "3c3850de-4a9b-4298-a86d-73c21f74f7b9",
   "metadata": {},
   "source": [
    "first get rid of anyone who doesn't appear in the primary care dataset "
   ]
  },
  {
   "cell_type": "markdown",
   "id": "e514d71a-467c-438f-b228-a709335d96d4",
   "metadata": {},
   "source": [
    "i then calculate follow-up period for the care home cohort hypertension analysis. Follow-up is based on the observation period recorded in connected bradford for the primary care. The observation period is defined as spans of time during which two conditions are expected to hold: (i) Clinical Events that happened to the person are recorded in the Event tables, and (ii) absence of records indicate such Events did not occur during this span of time. A person's follow-up period is defined as the time up until obersvation period end date in primary care. This project pulls data from mutliple different datasets i.e. primary,secondary,social care datasets: the follow-up times in these datasets may vary for any given individual, however I chose primary care on the basis that if someone is registered to a GP in bradford, if they had any clinical event requiring secondary care data they would be picked up by the secondary care datasets."
   ]
  },
  {
   "cell_type": "markdown",
   "id": "8f2f2db7-619c-4e84-a7c7-d1b88bdde1a8",
   "metadata": {},
   "source": [
    "first remove those whose primary car eobservation period date ended before care home admission date, this was only 19 people "
   ]
  },
  {
   "cell_type": "code",
   "execution_count": null,
   "id": "950080e2-20c3-4328-bd7b-f5645ae23a3e",
   "metadata": {
    "tags": []
   },
   "outputs": [],
   "source": [
    "#care_home_cohort_clean_1 <- long_stay_resident %>% \n",
    "#filter(!(long_stay_resident$person_id %in% tbl_missing$primary_care_person))\n",
    "\n",
    "#add in follow-up duration variable \n",
    "\n",
    "care_home_cohort_clean_1 <- long_stay_resident %>% mutate(fu_period = (ob_period_end_date - episodestartdate))"
   ]
  },
  {
   "cell_type": "markdown",
   "id": "46f4a5ab-6ca1-4916-abc3-d2bd20489e81",
   "metadata": {},
   "source": [
    "the 'ghosts' are those who had a missing death date "
   ]
  },
  {
   "cell_type": "code",
   "execution_count": null,
   "id": "63eb8014-55a6-4f2a-99d0-fbed89251868",
   "metadata": {},
   "outputs": [],
   "source": [
    "#send the final care home cohort back to bigquery as a table so it can be ran through the other queries\n",
    "care_home_cohort_clean_1$mortality <- as.numeric(care_home_cohort_clean_1$mortality)"
   ]
  },
  {
   "cell_type": "markdown",
   "id": "1a1e195b-da6e-417d-8104-c3b8de849850",
   "metadata": {},
   "source": [
    "add in a new variable that distinugihses whether the person died during follow-up, whether the person was alive at the end of FU (defined as end of obsevation period) or lost-to-follow-up based on follow up until 1st january 2024"
   ]
  },
  {
   "cell_type": "code",
   "execution_count": null,
   "id": "bc63fc5c-4903-4956-ba1f-490d29f6c0d6",
   "metadata": {
    "tags": []
   },
   "outputs": [],
   "source": [
    "care_home_cohort_clean_2 <- care_home_cohort_clean_1 %>%\n",
    "  mutate(end_of_fu_status = case_when(\n",
    "    is.na(dod) & !is.na(ob_period_end_date) ~ 'survived',\n",
    "    !is.na(dod) ~ 'died',\n",
    "    is.na(dod) & (is.na(ob_period_end_date) | ob_period_end_date > as_date(19724)) ~ 'lost to follow up'\n",
    "  )) \n",
    "\n",
    "care_home_cohort_clean_2$end_of_fu_status <- as.factor(care_home_cohort_clean_2$end_of_fu_status)"
   ]
  },
  {
   "cell_type": "code",
   "execution_count": null,
   "id": "fcaa0b66-24c7-4174-83f2-ddb1760d5198",
   "metadata": {
    "tags": []
   },
   "outputs": [],
   "source": [
    "#bigquery doesn't like the difftime vectors so i need to conert them into numeric units \n",
    "#so i can send it back to bigquery \n",
    "#i then also created a new vector which is follow-up duration, this is either the date of death or last observation date (if they had no death date) subtracted from the ch admission date \n",
    "#to calculat ethe median follow-up. i also got rid of some defunct vectors to keep things tidy"
   ]
  },
  {
   "cell_type": "code",
   "execution_count": null,
   "id": "b4c01489-8436-405f-be81-0a9b3d7ff6d6",
   "metadata": {
    "tags": []
   },
   "outputs": [],
   "source": [
    "care_home_cohort_clean_2$mortality <- as.numeric(care_home_cohort_clean_2$mortality)\n",
    "care_home_cohort_clean_2$fu_period <- as.numeric(care_home_cohort_clean_2$fu_period)\n",
    "care_home_cohort_clean_3 <- care_home_cohort_clean_2 %>% \n",
    "mutate(fu_end_date=(coalesce(care_home_cohort_clean_2$dod,care_home_cohort_clean_2$ob_period_end_date))) \n",
    "care_home_cohort_clean_4 <- care_home_cohort_clean_3 %>% select(-fu_period,-ob_period_end_date,-admission_length) %>% \n",
    "mutate(fu_duration= fu_end_date - episodestartdate)\n",
    "care_home_cohort_clean_4$fu_duration <- as.numeric(care_home_cohort_clean_4$fu_duration)\n"
   ]
  },
  {
   "cell_type": "code",
   "execution_count": null,
   "id": "e66f5fa5-efd9-47ba-a10e-14c7461ebe66",
   "metadata": {
    "tags": []
   },
   "outputs": [],
   "source": [
    "#for the next section i had to re-run some code after connected bradford had moved over to trust servers, but i did not have all the data i wanted available. this meant i had to try and subset what i did have by the hypertension cohort table to \n",
    "#to do the final analysis "
   ]
  },
  {
   "cell_type": "code",
   "execution_count": null,
   "id": "f7572c6c-21df-4663-a146-6849dbad5571",
   "metadata": {
    "tags": []
   },
   "outputs": [],
   "source": [
    "sql_htn <- paste('\n",
    "select\n",
    "person_id\n",
    "from ',targetdb1,'.cb_2172_hypertension_combined\n",
    "where hypertension = TRUE\n",
    "                     ;',sep=\"\")\n",
    "\n",
    "tbl_htn <-bq_project_query(ProjectId,sql_htn)\n",
    "tbl_htn <- bq_table_download(tbl_htn)"
   ]
  },
  {
   "cell_type": "code",
   "execution_count": null,
   "id": "1fbf493b-2401-46f5-bb4a-c8917298a094",
   "metadata": {
    "tags": []
   },
   "outputs": [],
   "source": [
    "#subset cohort by those with hypertension diagnosis\n",
    "care_home_cohort_htn <- care_home_cohort_clean_4 %>% filter(person_id %in% tbl_htn$person_id)"
   ]
  },
  {
   "cell_type": "code",
   "execution_count": null,
   "id": "751d06e4-7556-418e-b183-30ec543c7147",
   "metadata": {
    "tags": []
   },
   "outputs": [],
   "source": [
    "care_home_cohort_htn$end_of_fu_status %>% table()"
   ]
  },
  {
   "cell_type": "code",
   "execution_count": null,
   "id": "07b80a0b-e3e0-49a6-9140-30977f805cef",
   "metadata": {
    "tags": []
   },
   "outputs": [],
   "source": [
    "#remove those with fu end date before episode startdate\n",
    "care_home_cohort_htn_missing <- care_home_cohort_htn %>% filter(!is.na(fu_end_date)) %>% filter(episodestartdate > fu_end_date) "
   ]
  },
  {
   "cell_type": "code",
   "execution_count": null,
   "id": "97a553a1-41a2-4593-929a-cf872fb8e7aa",
   "metadata": {
    "tags": []
   },
   "outputs": [],
   "source": [
    "care_home_cohort_htn_clean <- care_home_cohort_htn %>% filter(!(person_id %in% care_home_cohort_htn_missing$person_id))"
   ]
  },
  {
   "cell_type": "code",
   "execution_count": null,
   "id": "b598028c-7718-42a5-977c-b6946cfe4bf0",
   "metadata": {},
   "outputs": [],
   "source": [
    "#next is to calculate the median follow-up time"
   ]
  },
  {
   "cell_type": "code",
   "execution_count": null,
   "id": "0b85ee75-e6ce-46a5-99a1-073b7cdb024d",
   "metadata": {
    "tags": []
   },
   "outputs": [],
   "source": [
    "mybq = bq_table(project='yhcr-prd-bradfor-bia-core', dataset='CB_2172', table='care_home_cohort_v1')\n",
    "bq_table_upload(x= mybq, values= care_home_cohort_htn_clean, create_disposition='CREATE_IF_NEEDED', \n",
    "             write_disposition='WRITE_TRUNCATE')"
   ]
  },
  {
   "cell_type": "markdown",
   "id": "16a6c87d-916f-4d8c-aa11-e9dba703d930",
   "metadata": {},
   "source": [
    "in this next section we will calculate the follow-up period for the care home residents based on the primary care end observation date "
   ]
  }
 ],
 "metadata": {
  "environment": {
   "kernel": "matthew_r_env",
   "name": "workbench-notebooks.m129",
   "type": "gcloud",
   "uri": "us-docker.pkg.dev/deeplearning-platform-release/gcr.io/workbench-notebooks:m129"
  },
  "kernelspec": {
   "display_name": "matthew_r_env",
   "language": "R",
   "name": "matthew_r_env"
  },
  "language_info": {
   "codemirror_mode": "r",
   "file_extension": ".r",
   "mimetype": "text/x-r-source",
   "name": "R",
   "pygments_lexer": "r",
   "version": "4.4.2"
  }
 },
 "nbformat": 4,
 "nbformat_minor": 5
}
