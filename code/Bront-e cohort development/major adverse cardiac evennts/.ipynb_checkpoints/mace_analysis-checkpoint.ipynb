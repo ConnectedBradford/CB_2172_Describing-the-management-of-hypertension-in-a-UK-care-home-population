{
 "cells": [
  {
   "cell_type": "code",
   "execution_count": null,
   "id": "e743c251-7cc2-461f-8e1c-d31f2087c86e",
   "metadata": {},
   "outputs": [],
   "source": [
    "# this notebook is perform anaylsis of MACE events in the care home hypertension cohort "
   ]
  },
  {
   "cell_type": "code",
   "execution_count": null,
   "id": "f727f226-5e62-48f8-b958-a12a4a400b31",
   "metadata": {
    "tags": []
   },
   "outputs": [],
   "source": [
    "library(ggplot2)\n",
    "library(bigrquery)\n",
    "library(tidyverse)\n",
    "library(ggplot2)\n",
    "library(lubridate)\n",
    "library(stats)\n",
    "library(epitools)\n",
    "\n",
    "ProjectId = \"yhcr-prd-bradfor-bia-core\"\n",
    "\n",
    "targetdb1 <-'yhcr-prd-bradfor-bia-core.CB_MYSPACE_MK'\n",
    "targetdb1 <-gsub(' ','',targetdb1)\n",
    "\n",
    "targetdb2 <- 'yhcr-prd-bradfor-bia-core.CB_FDM_DeathCertificates'\n",
    "targetdb2 <-gsub(' ','',targetdb2)\n",
    "\n",
    "targetdb3 <- 'yhcr-prd-bradfor-bia-core.CB_2172'\n",
    "targetdb3 <- gsub(' ','',targetdb3)"
   ]
  },
  {
   "cell_type": "code",
   "execution_count": null,
   "id": "78a93035-9a86-4207-b376-b2d746476a3e",
   "metadata": {
    "tags": []
   },
   "outputs": [],
   "source": [
    "sql1 <- \n",
    "paste(\n",
    "    'SELECT  *\n",
    "from ',targetdb3,'.cb_2172_mace \n",
    "where person_id in(select person_id from ',targetdb3,'.care_home_cohort_v1) \n",
    ";',sep=\"\")\n",
    "\n",
    "mace_tbl <-bq_project_query(ProjectId,sql1)\n",
    "mace_data <- bq_table_download(mace_tbl)\n",
    "#filter out any individuals where the time between admission and death is less than 42 days \n"
   ]
  },
  {
   "cell_type": "code",
   "execution_count": null,
   "id": "fbb275c6-d14a-41a0-9757-e4590680bac5",
   "metadata": {
    "tags": []
   },
   "outputs": [],
   "source": [
    "mace_data$date.event <- as.Date(mace_data$dod)\n",
    "\n",
    "mace_data <- mace_data %>% select(-dod)"
   ]
  },
  {
   "cell_type": "code",
   "execution_count": null,
   "id": "3879937f-8654-4fb6-9ff5-a88ece60f594",
   "metadata": {
    "tags": []
   },
   "outputs": [],
   "source": [
    "mace_data <- mace_data %>% arrange(person_id, desc(date.event)) %>% mutate(event_id= rank(date.event\n",
    "                                                                                        ))\n",
    "#here is the initial data, the problem is there are some  duplicate events where the data differs by only a couple of days so they are counted as different events. \n",
    "#Some cardiovasccular deaths also have  the cardiovascular event (e.g. myocardial evvent,\n",
    "#recorded as a seperate event a few days apart). I need to remove these events so that only the cardiovascular death is recorded. \n",
    "#This is based on the assumption that where a stroke or MI has been recorded within 30 days of a cardiovascular death, \n",
    "# the two are realted and therefore the stroke or MI was a fatal one so should be recorded as a CV death \n",
    "#rather than a non fatal MI or stroke. "
   ]
  },
  {
   "cell_type": "code",
   "execution_count": null,
   "id": "8c1f63df-23d5-41f3-af77-e606b81e692b",
   "metadata": {
    "tags": []
   },
   "outputs": [],
   "source": [
    "# this identifies myocardial infarction events where another event occurs afterwards\n",
    "# (either a duplicate event or death), so these myocardial events can be removed, \n",
    "#i will do the same for stroke as well. this ensures only non fatal myocardial infarctions \n",
    "# and strokes are captured in the MACE outcomes. fatal myocardial infarctions and stroke would fall into CV death \n",
    "mace_data_filtered_mi_cvd <- mace_data %>%\n",
    "  group_by(person_id) %>% \n",
    "filter(event_type == 'myocardial infarction' & !((date.event - lag(date.event)) >= 30 &\n",
    "                                                 (date.event - lag(date.event)) > 0)) %>%\n",
    "  ungroup() \n",
    "\n",
    "mace_data_filtered_mi_cvd"
   ]
  },
  {
   "cell_type": "code",
   "execution_count": null,
   "id": "f4346529-002b-49ed-8881-8b62d27f23ea",
   "metadata": {
    "tags": []
   },
   "outputs": [],
   "source": [
    "mace_data <- mace_data %>% arrange(person_id, desc(date.event))\n",
    "\n",
    "\n",
    "# this identifies stroke events where another event occurs afterwards(either a duplicate event or death), so these myocardial events can be removed, i will do the same for stroke as well. this ensures only non fatal myocardial infarctions and strokes are captured in the MACE outcomes. fatal myocardial infarctions and stroke would fall into CV death \n",
    "mace_filtered_stroke_cvd <- mace_data %>%\n",
    "  group_by(person_id) %>% filter(event_type == 'stroke' & !((date.event - lag(date.event)) >= 30 & (date.event - lag(date.event)) > 0)) %>%\n",
    "  ungroup() \n",
    "\n",
    "mace_filtered_stroke_cvd"
   ]
  },
  {
   "cell_type": "code",
   "execution_count": null,
   "id": "b9e00958-0f1a-4b4f-91d9-64b01e6d2eed",
   "metadata": {},
   "outputs": [],
   "source": [
    "#i then subsetted the mace_Data to remove those duplicate stroke and myocardial events identified above"
   ]
  },
  {
   "cell_type": "code",
   "execution_count": null,
   "id": "f6894414-0cfd-485a-a4f1-47e021454546",
   "metadata": {
    "tags": []
   },
   "outputs": [],
   "source": [
    "#creat he not in function\n",
    "\n",
    "'%notin%' <- Negate(`%in%`)"
   ]
  },
  {
   "cell_type": "code",
   "execution_count": null,
   "id": "4795f379-a6cf-46d2-86a1-c12d02843401",
   "metadata": {
    "tags": []
   },
   "outputs": [],
   "source": [
    "mace_data_filtered <- mace_data[mace_data$event_id %notin% mace_data_filtered_mi_cvd$event_id, ]"
   ]
  },
  {
   "cell_type": "code",
   "execution_count": null,
   "id": "41960468-00f5-437d-a0d4-cc3a72db27b7",
   "metadata": {
    "tags": []
   },
   "outputs": [],
   "source": [
    "mace_data_filtered <- mace_data_filtered[mace_data_filtered$date.event %notin% mace_filtered_stroke_cvd$date.event,]"
   ]
  },
  {
   "cell_type": "code",
   "execution_count": null,
   "id": "911b2276-0526-4151-9891-d19b86c66a01",
   "metadata": {
    "tags": []
   },
   "outputs": [],
   "source": [
    "mace_data_filtered <- mace_data_filtered %>% arrange(person_id, desc(date.event))\n",
    "\n",
    "table(mace_data_filtered$event_type)\n"
   ]
  },
  {
   "cell_type": "code",
   "execution_count": null,
   "id": "fbb8f5af-e7fd-4315-81b6-13efb5e11d2d",
   "metadata": {},
   "outputs": [],
   "source": [
    "# merge the care home cohort table in order to calculate the incidence density\n",
    "#(need to subset by the cae_home_cohort_v1 table as cohort was updated in feb 2025, to exclude people with no follow-up "
   ]
  },
  {
   "cell_type": "code",
   "execution_count": null,
   "id": "0b3184b3-603d-457c-9394-2aa5ce80dcd4",
   "metadata": {
    "tags": []
   },
   "outputs": [],
   "source": [
    "sql1 <- \n",
    "paste(\n",
    "    'SELECT person_id,first_episodestartdate, hypertension\n",
    "from ',targetdb3,'.cb_2172_hypertension_combined \n",
    "where person_id in(select person_id from ',targetdb3,'.care_home_cohort_v1)\n",
    ";',sep=\"\")\n",
    "\n",
    "bp_tbl <-bq_project_query(ProjectId,sql1)\n",
    "ch_cohort <- bq_table_download(bp_tbl)\n",
    "\n",
    "ch_cohort$person_id <- as.character(ch_cohort$person_id)\n",
    "print(ch_cohort)"
   ]
  },
  {
   "cell_type": "code",
   "execution_count": null,
   "id": "75b6dd2d-cd14-4587-a162-a3585f62ae6f",
   "metadata": {
    "tags": []
   },
   "outputs": [],
   "source": [
    "ch_mace_merged <- merge(x =ch_cohort, y = mace_data_filtered, all.x = TRUE)"
   ]
  },
  {
   "cell_type": "code",
   "execution_count": null,
   "id": "efbab1ac-610b-4a17-9e56-cdf5e1e9423a",
   "metadata": {
    "tags": []
   },
   "outputs": [],
   "source": [
    "ch_mace_merged$first_episodestartdate <- as_date(ch_mace_merged$first_episodestartdate)"
   ]
  },
  {
   "cell_type": "code",
   "execution_count": null,
   "id": "f8923f2c-c3b3-4471-8afe-c69fc42e264b",
   "metadata": {
    "tags": []
   },
   "outputs": [],
   "source": [
    "ch_mace_merged <- ch_mace_merged %>% mutate(exposure_time = (date.event -first_episodestartdate))"
   ]
  },
  {
   "cell_type": "code",
   "execution_count": null,
   "id": "0bc71942-d02c-440e-9697-2112cfe6f1ba",
   "metadata": {
    "tags": []
   },
   "outputs": [],
   "source": [
    " ch_mace_merged_filtered <- ch_mace_merged %>% filter(hypertension == TRUE)"
   ]
  },
  {
   "cell_type": "code",
   "execution_count": null,
   "id": "18aabe56-f1d3-49ea-84ac-32901abfbddc",
   "metadata": {
    "tags": []
   },
   "outputs": [],
   "source": [
    "ch_mace_merged_filtered$exposure_time <- ifelse(is.na(ch_mace_merged_filtered$exposure_time) ,365,ch_mace_merged_filtered$exposure_time)"
   ]
  },
  {
   "cell_type": "code",
   "execution_count": null,
   "id": "fb648a21-a7c6-4242-acbf-23ecf0a30cc9",
   "metadata": {
    "tags": []
   },
   "outputs": [],
   "source": [
    "ch_mace_merged_filtered <-ch_mace_merged_filtered %>%  select(-\"event_id\")"
   ]
  },
  {
   "cell_type": "code",
   "execution_count": null,
   "id": "ba9e43ad-5f5e-437b-bd91-7c7a2ff2668e",
   "metadata": {
    "tags": []
   },
   "outputs": [],
   "source": [
    "(sum(!is.na(ch_mace_merged_filtered$event_type))/sum(ch_mace_merged_filtered$exposure_time)/365)*100"
   ]
  },
  {
   "cell_type": "code",
   "execution_count": null,
   "id": "9ea843c2-2d77-41a5-923d-61d4940f8aab",
   "metadata": {
    "tags": []
   },
   "outputs": [],
   "source": [
    "ch_mace_merged_filtered$event_type <- as.factor(ch_mace_merged_filtered$event_type)"
   ]
  },
  {
   "cell_type": "code",
   "execution_count": null,
   "id": "86b7a32d-5eb8-4c08-ab01-0dc928d26e4c",
   "metadata": {
    "tags": []
   },
   "outputs": [],
   "source": [
    "exposure_time <- sum(ch_mace_merged_filtered$exposure_time)/365"
   ]
  },
  {
   "cell_type": "code",
   "execution_count": null,
   "id": "91410d2a-f96f-4fec-96bc-8069e712cdee",
   "metadata": {
    "tags": []
   },
   "outputs": [],
   "source": [
    "mace_events_count<- sum(!is.na(ch_mace_merged_filtered$event_type))"
   ]
  },
  {
   "cell_type": "code",
   "execution_count": null,
   "id": "9bd36dee-07d7-434c-9ae0-fca8a79628f1",
   "metadata": {
    "tags": []
   },
   "outputs": [],
   "source": [
    "pois.exact(mace_events_count, pt = exposure_time, conf.level = 0.95)"
   ]
  }
 ],
 "metadata": {
  "environment": {
   "kernel": "matthew_r_env",
   "name": "workbench-notebooks.m129",
   "type": "gcloud",
   "uri": "us-docker.pkg.dev/deeplearning-platform-release/gcr.io/workbench-notebooks:m129"
  },
  "kernelspec": {
   "display_name": "matthew_r_env",
   "language": "R",
   "name": "matthew_r_env"
  },
  "language_info": {
   "codemirror_mode": "r",
   "file_extension": ".r",
   "mimetype": "text/x-r-source",
   "name": "R",
   "pygments_lexer": "r",
   "version": "4.4.2"
  }
 },
 "nbformat": 4,
 "nbformat_minor": 5
}
