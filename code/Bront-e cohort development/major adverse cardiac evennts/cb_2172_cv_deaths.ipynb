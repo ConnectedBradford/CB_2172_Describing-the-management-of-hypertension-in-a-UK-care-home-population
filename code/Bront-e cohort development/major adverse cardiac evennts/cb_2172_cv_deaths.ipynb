{
 "cells": [
  {
   "cell_type": "code",
   "execution_count": null,
   "id": "016584cd-86e9-4a3c-bc69-467b3716bea3",
   "metadata": {},
   "outputs": [],
   "source": [
    "#this query will identify all cardiovascular deaths in the care hme cohort following admission to the care home in one year. this will be done based on the ICD \n",
    "#call all the deaths in the carehome cohort \n",
    "with deaths_carehome as(\n",
    "select \n",
    "*\n",
    "from yhcr-prd-bradfor-bia-core.CB_FDM_DeathCertificates.tbl_NEC_Deaths\n",
    "where person_id in (select person_id from `yhcr-prd-bradfor-bia-core.CB_2172.care_home_cohort_v1` )),\n",
    "\n",
    "#left join ch_admission date \n",
    "death_carehome_merge as (\n",
    "  select\n",
    "dch.person_id, tbl_NEC_Deaths_end_date,dch.dod,reg_date,s_cod_code_1,S_COD_LINE_1,s_cod_code_4,\n",
    "  ch.first_episodestartdate\n",
    "  from deaths_carehome dch\n",
    "  left join yhcr-prd-bradfor-bia-core.CB_2172.care_home_cohort_v1 ch\n",
    "  on dch.person_id = ch.person_id\n",
    "),\n",
    "\n",
    "#got 3 duplicate ntries for a lot of people, there doesn't seem to be any difference between the duplicate excpet that some are missing the dod and reg date, therefore i have used a row_number function to select the duplicate htat contains a dod and reg_date \n",
    "dch_rank as (\n",
    "select\n",
    "*,\n",
    "row_number() over (partition by person_id order by dod, reg_date desc) as duplicate_rank\n",
    " from \n",
    "death_carehome_merge),\n",
    "\n",
    "duplicate_remove  as(\n",
    "select\n",
    "person_id, tbl_NEC_Deaths_end_date  as dod,first_episodestartdate\n",
    "from dch_rank\n",
    "where (duplicate_rank = 1) and ((s_cod_code_1 like 'I%') OR (s_cod_code_1 like '%irculat%') or (s_cod_code_4 like '%irculatory%')) and (tbl_NEC_Deaths_end_date > (EXTRACT(date from first_episodestartdate))))\n",
    "\n",
    "select\n",
    "*, case when person_id is not null then \"cv death\" end as event_type\n",
    "from duplicate_remove \n",
    "where date_diff(duplicate_remove.dod, (EXTRACT(date from first_episodestartdate)),day) <366\n",
    "\n"
   ]
  }
 ],
 "metadata": {
  "environment": {
   "kernel": "matthew_r_env",
   "name": "workbench-notebooks.m129",
   "type": "gcloud",
   "uri": "us-docker.pkg.dev/deeplearning-platform-release/gcr.io/workbench-notebooks:m129"
  },
  "kernelspec": {
   "display_name": "matthew_r_env",
   "language": "R",
   "name": "matthew_r_env"
  },
  "language_info": {
   "codemirror_mode": "r",
   "file_extension": ".r",
   "mimetype": "text/x-r-source",
   "name": "R",
   "pygments_lexer": "r",
   "version": "4.4.2"
  }
 },
 "nbformat": 4,
 "nbformat_minor": 5
}
