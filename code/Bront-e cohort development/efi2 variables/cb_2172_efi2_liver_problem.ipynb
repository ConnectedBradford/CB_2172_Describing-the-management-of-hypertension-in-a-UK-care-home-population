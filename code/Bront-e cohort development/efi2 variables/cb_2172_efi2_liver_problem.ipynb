{
 "cells": [
  {
   "cell_type": "code",
   "execution_count": null,
   "id": "18c14d47-92d0-446c-901d-91068d5a3bae",
   "metadata": {},
   "outputs": [],
   "source": [
    "#query for liver problem for efi2 calculation \n",
    "create or replace table `yhcr-prd-bradfor-bia-core.CB_2172.cb_2172_efi2_liver` as (\n",
    "  #bring all snoemd nad tcv3codes for care home cohort in primary int cte\n",
    "  with a as (\n",
    "  select\n",
    "  person_id,\n",
    "  ctv3code,\n",
    "  snomedcode,\n",
    "  dateevent\n",
    "  from `yhcr-prd-bradfor-bia-core.CB_FDM_PrimaryCare.tbl_srcode`\n",
    "  where person_id in(select person_id from `yhcr-prd-bradfor-bia-core.CB_2172.care_home_cohort_v1`)),\n",
    "#join care home entry date from msater table\n",
    "  a_master as (\n",
    "    select\n",
    "    a.*,\n",
    "    j.first_episodestartdate\n",
    "    from a\n",
    "    left join `yhcr-prd-bradfor-bia-core.CB_2172.care_home_cohort_v1` j on\n",
    "    a.person_id = j.person_id \n",
    "  ),\n",
    "#filter for liverp problem snomed codes where code date is before care home entry date\n",
    "  b as (\n",
    "    select\n",
    "    person_id,\n",
    "    snomedcode,\n",
    "    dateevent\n",
    "    from a_master \n",
    "    where snomedcode in(select SNOMEDCT_CONCEPTID from `yhcr-prd-bradfor-bia-core.ref_Lookups.lkp_EFI2_Codelist` where deficit = 'Liver problems') AND dateevent < cast(first_episodestartdate as datetime)),\n",
    "#filter for liver problems ctv3 codes where code date is before care home entry date\n",
    "  c as (\n",
    "    select\n",
    "    person_id,\n",
    "    ctv3code, \n",
    "    dateevent\n",
    "    from a_master\n",
    "    where ctv3code in(select CTV3 from `yhcr-prd-bradfor-bia-core.ref_Lookups.lkp_EFI2_Codelist` where deficit = 'Liver problems')AND dateevent < cast(first_episodestartdate as datetime)),\n",
    "#union distinct individuals identified from ctv3 and snomed ct codes together\n",
    "  snomed_ctv3 as (\n",
    "    select\n",
    "    * from b\n",
    "\n",
    "    union distinct\n",
    "\n",
    "    select *\n",
    "    from c)\n",
    "#apply dummy variable\n",
    "    select\n",
    "    distinct person_id,\n",
    "    case when dateevent IS NOT NULL then 'yes'\n",
    "    end as liver_problem\n",
    "    from snomed_ctv3)\n",
    "\n"
   ]
  }
 ],
 "metadata": {
  "environment": {
   "kernel": "matthew_r_env",
   "name": "workbench-notebooks.m129",
   "type": "gcloud",
   "uri": "us-docker.pkg.dev/deeplearning-platform-release/gcr.io/workbench-notebooks:m129"
  },
  "kernelspec": {
   "display_name": "matthew_r_env",
   "language": "R",
   "name": "matthew_r_env"
  },
  "language_info": {
   "codemirror_mode": "r",
   "file_extension": ".r",
   "mimetype": "text/x-r-source",
   "name": "R",
   "pygments_lexer": "r",
   "version": "4.4.2"
  }
 },
 "nbformat": 4,
 "nbformat_minor": 5
}
