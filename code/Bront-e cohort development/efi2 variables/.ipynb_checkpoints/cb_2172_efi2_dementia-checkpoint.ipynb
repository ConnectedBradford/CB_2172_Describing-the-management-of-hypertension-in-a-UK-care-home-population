{
 "cells": [
  {
   "cell_type": "code",
   "execution_count": null,
   "id": "db62bed8-1043-416b-8892-98374d812f1f",
   "metadata": {},
   "outputs": [],
   "source": [
    "#query for efi2 deficit for Dementia, using updated code for efi2 deficits\n",
    " CREATE or replace TABLE `yhcr-prd-bradfor-bia-core.CB_2172.cb_2172_efi2_dementia` as (\n",
    "#bring all snoemd and ctv3codes for care home cohort in primary into the cte\n",
    "with a as (\n",
    "  select\n",
    "  person_id,\n",
    "  ctv3code,\n",
    "  snomedcode,\n",
    "  dateevent\n",
    "  from `yhcr-prd-bradfor-bia-core.CB_FDM_PrimaryCare.tbl_srcode`\n",
    "  where person_id in(select person_id from `yhcr-prd-bradfor-bia-core.CB_2172.care_home_cohort_v1`)),\n",
    "  #join care home entry date from msater table\n",
    "  a_master as (\n",
    "    select\n",
    "    a.*,\n",
    "    j.first_episodestartdate\n",
    "    from a\n",
    "    left join `yhcr-prd-bradfor-bia-core.CB_2172.care_home_cohort_v1` j on\n",
    "    a.person_id = j.person_id),\n",
    "#filter for dementia snomed codes\n",
    "  b as (\n",
    "    select\n",
    "    person_id,\n",
    "    case\n",
    "    when snomedcode in(select SNOMEDCT_CONCEPTID from `yhcr-prd-bradfor-bia-core.CB_LOOKUPS.tbl_EFI2_Codelist` where deficit = 'Dementia') AND dateevent < first_episodestartdate then 'true'\n",
    "    when ctv3code in(select CTV3 from `yhcr-prd-bradfor-bia-core.CB_LOOKUPS.tbl_EFI2_Codelist` where deficit = 'Dementia') AND dateevent < first_episodestartdate then 'true' end as dementia,\n",
    "    from a_master)\n",
    "\n",
    "#apply dummy variable\n",
    "    select\n",
    "     distinct person_id,\n",
    "    dementia\n",
    "    from b\n",
    "    where dementia = 'true'\n",
    "    order by person_id)\n",
    "  \n",
    "\n",
    "\n",
    "\n"
   ]
  },
  {
   "cell_type": "code",
   "execution_count": null,
   "id": "f111b432-76f8-4f3e-b6bf-db0a70f71e83",
   "metadata": {},
   "outputs": [],
   "source": []
  }
 ],
 "metadata": {
  "environment": {
   "kernel": "matthew_r_env",
   "name": "workbench-notebooks.m129",
   "type": "gcloud",
   "uri": "us-docker.pkg.dev/deeplearning-platform-release/gcr.io/workbench-notebooks:m129"
  },
  "kernelspec": {
   "display_name": "matthew_r_env",
   "language": "R",
   "name": "matthew_r_env"
  },
  "language_info": {
   "codemirror_mode": "r",
   "file_extension": ".r",
   "mimetype": "text/x-r-source",
   "name": "R",
   "pygments_lexer": "r",
   "version": "4.4.2"
  }
 },
 "nbformat": 4,
 "nbformat_minor": 5
}
