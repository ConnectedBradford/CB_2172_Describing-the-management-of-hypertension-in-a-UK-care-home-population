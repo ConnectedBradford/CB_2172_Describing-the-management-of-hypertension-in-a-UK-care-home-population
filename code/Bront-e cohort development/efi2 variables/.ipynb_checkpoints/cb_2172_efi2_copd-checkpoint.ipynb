{
 "cells": [
  {
   "cell_type": "markdown",
   "id": "331b754e-c80e-4be2-84db-25133e1efaf8",
   "metadata": {
    "tags": []
   },
   "source": [
    "sql code to create efi2 deficit for previous copd"
   ]
  },
  {
   "cell_type": "code",
   "execution_count": 1,
   "id": "ad6ecefb-4381-40ab-9723-433e86d512a2",
   "metadata": {
    "tags": []
   },
   "outputs": [
    {
     "ename": "ERROR",
     "evalue": "Error in parse(text = x, srcfile = src): <text>:2:9: unexpected symbol\n1: #query for efii2 deficit for cognitive impiarement\n2:  CREATE OR\n           ^\n",
     "output_type": "error",
     "traceback": [
      "Error in parse(text = x, srcfile = src): <text>:2:9: unexpected symbol\n1: #query for efii2 deficit for cognitive impiarement\n2:  CREATE OR\n           ^\nTraceback:\n"
     ]
    }
   ],
   "source": [
    "#query for efii2 deficit for copd\n",
    " CREATE OR REPLACE TABLE `yhcr-prd-bradfor-bia-core.CB_2172.cb_2172_efi2_copd` as (\n",
    "#bring all snomed and ctv3codes for care home cohort in primary into the cte\n",
    "with a as (\n",
    "  select\n",
    "  person_id,\n",
    "  ctv3code,\n",
    "  snomedcode,\n",
    "  dateevent,\n",
    "  cast(numericvalue as bignumeric) as exacerbation_no\n",
    "  from `yhcr-prd-bradfor-bia-core.CB_FDM_PrimaryCare.tbl_srcode`\n",
    "  where person_id in(select person_id from `yhcr-prd-bradfor-bia-core.CB_2172.care_home_cohort_v1`)),\n",
    "  #join care home entry date from msater table\n",
    "  a_master as (\n",
    "    select\n",
    "    a.*,\n",
    "    j.first_episodestartdate\n",
    "    from a\n",
    "    left join `yhcr-prd-bradfor-bia-core.CB_2172.care_home_cohort_v1` j on\n",
    "    a.person_id = j.person_id),\n",
    "#filter for copd snomed codeswithout numericvalues\n",
    "  b as (\n",
    "    select\n",
    "    person_id,\n",
    "    snomedcode,\n",
    "    dateevent\n",
    "    from a_master\n",
    "    where snomedcode in(SELECT SNOMEDCT_CONCEPTID FROM `yhcr-prd-bradfor-bia-core.CB_LOOKUPS.tbl_EFI2_Codelist` where deficit = 'COPD' AND Otherinstructions IS NULL) AND dateevent < first_episodestartdate),\n",
    "#filter for copd with snomed codes \n",
    "  c as (\n",
    "    select\n",
    "    person_id,\n",
    "    snomedcode, \n",
    "    dateevent\n",
    "    from a_master\n",
    "    where snomedcode in(select SNOMEDCT_CONCEPTID from `yhcr-prd-bradfor-bia-core.CB_LOOKUPS.tbl_EFI2_Codelist` where deficit = 'COPD' AND Otherinstructions IS NOT NULL) AND dateevent < first_episodestartdate AND exacerbation_no >= 0),\n",
    "  d as (\n",
    "    select\n",
    "    person_id, \n",
    "    ctv3code,\n",
    "    dateevent\n",
    "    from a_master\n",
    "    where ctv3code in (select ctv3 FROM `yhcr-prd-bradfor-bia-core.CB_LOOKUPS.tbl_EFI2_Codelist` where deficit = 'COPD' AND Otherinstructions IS NULL)\n",
    "  ),\n",
    "#union distinct individuals identified from ctv3 and snomed ct codes together\n",
    "  snomed_ctv3 as (\n",
    "    select\n",
    "    * from b\n",
    "\n",
    "    union distinct\n",
    "\n",
    "    select *\n",
    "    from c\n",
    "    \n",
    "    union distinct\n",
    "    \n",
    "    select *\n",
    "    from d)\n",
    "#apply dummy variable\n",
    "    select\n",
    "    distinct person_id,\n",
    "    case when dateevent IS NOT NULL then 'yes'\n",
    "    end as copd\n",
    "    from snomed_ctv3)\n",
    "  \n",
    "\n",
    "\n",
    "\n"
   ]
  }
 ],
 "metadata": {
  "environment": {
   "kernel": "mk_env",
   "name": "workbench-notebooks.m123",
   "type": "gcloud",
   "uri": "us-docker.pkg.dev/deeplearning-platform-release/gcr.io/workbench-notebooks:m123"
  },
  "kernelspec": {
   "display_name": "mk_env",
   "language": "R",
   "name": "mk_env"
  },
  "language_info": {
   "codemirror_mode": "r",
   "file_extension": ".r",
   "mimetype": "text/x-r-source",
   "name": "R",
   "pygments_lexer": "r",
   "version": "4.4.1"
  }
 },
 "nbformat": 4,
 "nbformat_minor": 5
}
