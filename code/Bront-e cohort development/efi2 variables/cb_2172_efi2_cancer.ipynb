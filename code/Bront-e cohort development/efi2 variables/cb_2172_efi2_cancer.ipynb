{
 "cells": [
  {
   "cell_type": "markdown",
   "id": "18555614-4cfd-486b-a6e4-310b6c62e2bd",
   "metadata": {
    "tags": []
   },
   "source": [
    "sql code to create efi2 deficit for cancer"
   ]
  },
  {
   "cell_type": "code",
   "execution_count": 1,
   "id": "ad6ecefb-4381-40ab-9723-433e86d512a2",
   "metadata": {
    "tags": []
   },
   "outputs": [
    {
     "ename": "ERROR",
     "evalue": "Error in parse(text = x, srcfile = src): <text>:1:8: unexpected symbol\n1: CREATE OR\n           ^\n",
     "output_type": "error",
     "traceback": [
      "Error in parse(text = x, srcfile = src): <text>:1:8: unexpected symbol\n1: CREATE OR\n           ^\nTraceback:\n"
     ]
    }
   ],
   "source": [
    "CREATE OR REPLACE TABLE `yhcr-prd-bradfor-bia-core.CB_2172.cb_2172_cancer_diagnosis` as (\n",
    " SELECT \n",
    " *,\n",
    " case \n",
    " when cancer_diagnosis_date IS NOT NULL THEN 'yes' \n",
    " ELSE NULL\n",
    " END AS cancer_diagnosis\n",
    " from (\n",
    "  with a as (\n",
    "  SELECT \n",
    "  person_id,\n",
    "  ctv3code,\n",
    "  ctv3text,\n",
    "  dateevent,\n",
    "  row_number() over(partition by person_id order by dateevent) code_sequence\n",
    "  FROM  `yhcr-prd-bradfor-bia-core.CB_FDM_PrimaryCare.tbl_srcode`\n",
    "  WHERE ctv3code in(SELECT ctv3 FROM `yhcr-prd-bradfor-bia-core.ref_Lookups.lkp_EFI2_Codelist` where deficit = 'Cancer'))\n",
    "\n",
    "  SELECT \n",
    "  m.*,\n",
    "  a.dateevent as cancer_diagnosis_date,\n",
    "  FROM `yhcr-prd-bradfor-bia-core.CB_2172.care_home_cohort_v1` m\n",
    "  LEFT JOIN a ON\n",
    "  a.person_id= m.person_id AND a.code_sequence = 1 AND a.dateevent < cast(m.first_episodestartdate as datetime)))\n",
    "  \n",
    "\n",
    "\n",
    "\n"
   ]
  }
 ],
 "metadata": {
  "environment": {
   "kernel": "mk_env",
   "name": "workbench-notebooks.m123",
   "type": "gcloud",
   "uri": "us-docker.pkg.dev/deeplearning-platform-release/gcr.io/workbench-notebooks:m123"
  },
  "kernelspec": {
   "display_name": "mk_env",
   "language": "R",
   "name": "mk_env"
  },
  "language_info": {
   "codemirror_mode": "r",
   "file_extension": ".r",
   "mimetype": "text/x-r-source",
   "name": "R",
   "pygments_lexer": "r",
   "version": "4.4.1"
  }
 },
 "nbformat": 4,
 "nbformat_minor": 5
}
