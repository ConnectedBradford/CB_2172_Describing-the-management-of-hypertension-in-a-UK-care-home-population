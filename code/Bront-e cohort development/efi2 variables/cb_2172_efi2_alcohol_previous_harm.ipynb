{
 "cells": [
  {
   "cell_type": "code",
   "execution_count": null,
   "id": "3cbe52b7-f902-4959-9225-2c82a5c6f01e",
   "metadata": {},
   "outputs": [],
   "source": [
    "\n",
    "create or replace table `yhcr-prd-bradfor-bia-core.CB_2172.cb_2172_efi2_pev_alc_harm` as (\n",
    "#this identifies the care home cohort\n",
    "with b as (\n",
    "  SELECT person_id, episodestartdate\n",
    "  from `yhcr-prd-bradfor-bia-core.CB_2172.care_home_cohort_v1`),\n",
    "\n",
    "# this code selects all snomed codes for the care home cohort individuals\n",
    "person as (\n",
    "    SELECT \n",
    "  person_id,\n",
    "  snomedcode,\n",
    "  dateevent\n",
    "  FROM`yhcr-prd-bradfor-bia-core.CB_FDM_PrimaryCare.tbl_srcode`\n",
    "  WHERE person_id in(SELECT person_id FROM b)),\n",
    "\n",
    "prev_harm as (\n",
    "  SELECT \n",
    "    person.person_id,\n",
    "    person.snomedcode,\n",
    "    person.dateevent as ph_date,\n",
    "    b.episodestartdate as ch_entry_date\n",
    "    from person \n",
    "    INNER JOIN  b\n",
    "    on person.person_id = b.person_id\n",
    "  WHERE person.snomedcode in(SELECT SNOMEDCT_CONCEPTID from `yhcr-prd-bradfor-bia-core.CB_LOOKUPS.tbl_EFI2_Codelist` where Deficit= 'Alcohol' AND Otherinstructions = 'Previous higher risk/harmful drinking')),\n",
    "  \n",
    "  prev_harm_no as (\n",
    "  Select \n",
    "  *,\n",
    "  row_number() over (partition by person_id order by ph_date desc) as prev_harm_seq\n",
    "  from prev_harm\n",
    "  Where ph_date < ch_entry_date AND date_diff(prev_harm.ch_entry_date,prev_harm.ph_date,year) <=5 ),\n",
    "\n",
    "  prev_harm_filtered as (\n",
    "    SELECT distinct\n",
    "    *,\n",
    "    case when ph_date IS NOT NULL then 'previous higher risk/harmful drinking' end as alcohol_status\n",
    "    from prev_harm_no\n",
    "    where prev_harm_seq = 1\n",
    "    order by person_id, ph_date)\n",
    "\n",
    "    select \n",
    "    person_id,\n",
    "    prev_harm_filtered.alcohol_status\n",
    "    FROM prev_harm_filtered)\n",
    "\n",
    "\n"
   ]
  }
 ],
 "metadata": {
  "environment": {
   "kernel": "matthew_r_env",
   "name": "workbench-notebooks.m127",
   "type": "gcloud",
   "uri": "us-docker.pkg.dev/deeplearning-platform-release/gcr.io/workbench-notebooks:m127"
  },
  "kernelspec": {
   "display_name": "matthew_r_env",
   "language": "R",
   "name": "matthew_r_env"
  },
  "language_info": {
   "codemirror_mode": "r",
   "file_extension": ".r",
   "mimetype": "text/x-r-source",
   "name": "R",
   "pygments_lexer": "r",
   "version": "4.3.3"
  }
 },
 "nbformat": 4,
 "nbformat_minor": 5
}
