{
 "cells": [
  {
   "cell_type": "code",
   "execution_count": 2,
   "id": "36efda0f-2c6b-44a3-833f-cab7503ed70d",
   "metadata": {
    "tags": []
   },
   "outputs": [
    {
     "ename": "ERROR",
     "evalue": "Error in parse(text = x, srcfile = src): <text>:1:5: unexpected symbol\n1: sql code\n        ^\n",
     "output_type": "error",
     "traceback": [
      "Error in parse(text = x, srcfile = src): <text>:1:5: unexpected symbol\n1: sql code\n        ^\nTraceback:\n"
     ]
    }
   ],
   "source": [
    "sql code to create efi2 deficit for previous alcohol harm "
   ]
  },
  {
   "cell_type": "code",
   "execution_count": 1,
   "id": "ad6ecefb-4381-40ab-9723-433e86d512a2",
   "metadata": {
    "tags": []
   },
   "outputs": [
    {
     "ename": "ERROR",
     "evalue": "Error in parse(text = x, srcfile = src): <text>:2:8: unexpected symbol\n1: \n2: create or\n          ^\n",
     "output_type": "error",
     "traceback": [
      "Error in parse(text = x, srcfile = src): <text>:2:8: unexpected symbol\n1: \n2: create or\n          ^\nTraceback:\n"
     ]
    }
   ],
   "source": [
    "#query for efii2 deficit for atrial fibrillatio\n",
    " CREATE or replace TABLE `yhcr-prd-bradfor-bia-core.CB_2172.cb_2172_efi2_af` as (\n",
    "#bring all snomed and ctv3codes for care home cohort in primary into the cte\n",
    "with a as (\n",
    "  select\n",
    "  person_id,\n",
    "  snomedcode,\n",
    "  dateevent,\n",
    "  cast(numericvalue as bignumeric) as risk_score\n",
    "  from `yhcr-prd-bradfor-bia-core.CB_FDM_PrimaryCare.tbl_srcode`\n",
    "  where person_id in(select person_id from `yhcr-prd-bradfor-bia-core.CB_2172.care_home_cohort_v1`)),\n",
    "  #join care home entry date from msater table\n",
    "  a_master as (\n",
    "    select\n",
    "    a.*,\n",
    "    j.first_episodestartdate\n",
    "    from a\n",
    "    left join `yhcr-prd-bradfor-bia-core.CB_2172.care_home_cohort_v1` j on\n",
    "    a.person_id = j.person_id),\n",
    "#filter for atrial fibrillation problem snomed codeswithout numericvalues\n",
    "  b as (\n",
    "    select\n",
    "    person_id,\n",
    "    snomedcode,\n",
    "    dateevent\n",
    "    from a_master\n",
    "    where snomedcode in(select SNOMEDCT_CONCEPTID from `yhcr-prd-bradfor-bia-core.CB_LOOKUPS.tbl_EFI2_Codelist` where deficit = 'Atrial fibrillation' AND Otherinstructions IS NULL) AND dateevent < first_episodestartdate),\n",
    "#filter for atrial fibrillation with snomed codes \n",
    "  c as (\n",
    "    select\n",
    "    person_id,\n",
    "    snomedcode, \n",
    "    dateevent\n",
    "    from a_master\n",
    "    where snomedcode in(select SNOMEDCT_CONCEPTID from `yhcr-prd-bradfor-bia-core.CB_LOOKUPS.tbl_EFI2_Codelist` where deficit = 'Atrial fibrillation' AND Otherinstructions IS NOT NULL) AND dateevent < first_episodestartdate AND risk_score > 0),\n",
    "#union distinct individuals identified from ctv3 and snomed ct codes together\n",
    "  snomed_ctv3 as (\n",
    "    select\n",
    "    * from b\n",
    "\n",
    "    union distinct\n",
    "\n",
    "    select *\n",
    "    from c)\n",
    "#apply dummy variable\n",
    "    select\n",
    "    distinct person_id,\n",
    "    case when dateevent IS NOT NULL then 'yes'\n",
    "    end as atrial_fibrillation\n",
    "    from snomed_ctv3)\n",
    "  \n",
    "\n",
    "\n",
    "\n"
   ]
  }
 ],
 "metadata": {
  "environment": {
   "kernel": "mk_env",
   "name": "workbench-notebooks.m123",
   "type": "gcloud",
   "uri": "us-docker.pkg.dev/deeplearning-platform-release/gcr.io/workbench-notebooks:m123"
  },
  "kernelspec": {
   "display_name": "mk_env",
   "language": "R",
   "name": "mk_env"
  },
  "language_info": {
   "codemirror_mode": "r",
   "file_extension": ".r",
   "mimetype": "text/x-r-source",
   "name": "R",
   "pygments_lexer": "r",
   "version": "4.4.1"
  }
 },
 "nbformat": 4,
 "nbformat_minor": 5
}
