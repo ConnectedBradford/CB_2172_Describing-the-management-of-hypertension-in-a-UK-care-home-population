{
 "cells": [
  {
   "cell_type": "markdown",
   "id": "7fe19fac-d305-40e5-92ad-fbf45e0302ef",
   "metadata": {},
   "source": [
    "activity limitation deficit for efi2 "
   ]
  },
  {
   "cell_type": "code",
   "execution_count": null,
   "id": "1950bd41-bd06-4154-bbff-1ae5355a8d8a",
   "metadata": {},
   "outputs": [],
   "source": [
    "\n",
    " CREATE OR REPLACE TABLE `yhcr-prd-bradfor-bia-core.CB_2172.cb_2172_efi2_al` as (\n",
    " with a as (\n",
    "  select\n",
    "  person_id,\n",
    "  ctv3code,\n",
    "  snomedcode,\n",
    "  dateevent,\n",
    "  cast(numericvalue as bignumeric) as barthel_index\n",
    "  from `yhcr-prd-bradfor-bia-core.CB_FDM_PrimaryCare.tbl_srcode`\n",
    "  where person_id in(select person_id from \n",
    "                     `yhcr-prd-bradfor-bia-core.CB_2172.care_home_cohort_v1`)),\n",
    "  #join care home entry date from msater table\n",
    "  a_master as (\n",
    "    select\n",
    "    a.*,\n",
    "    j.first_episodestartdate,\n",
    "    j.birth_date,\n",
    "    from a\n",
    "    left join `yhcr-prd-bradfor-bia-core.CB_2172.care_home_cohort_v1` j on\n",
    "    a.person_id = j.person_id),\n",
    "#filter for fracture snomed codes before care home entry date and after age of 55 years\n",
    "  b as (\n",
    "    select\n",
    "    person_id,\n",
    "    snomedcode,\n",
    "    dateevent\n",
    "    from a_master\n",
    "    where snomedcode in(select SNOMEDCT_CONCEPTID \n",
    "    from `yhcr-prd-bradfor-bia-core.CB_LOOKUPS.tbl_EFI2_Codelist`\n",
    "    where deficit = 'Activity limitation' and Otherinstructions IS NULL) \n",
    "      AND dateevent < first_episodestartdate),\n",
    "#filter for barthel index below 19\n",
    "  c as (\n",
    "    select\n",
    "    person_id,\n",
    "    dateevent\n",
    "    from a_master\n",
    "    where snomedcode in(select SNOMEDCT_CONCEPTID from \n",
    "                        `yhcr-prd-bradfor-bia-core.CB_LOOKUPS.tbl_EFI2_Codelist` \n",
    "                        where deficit = 'Activity limitation')\n",
    "      AND dateevent < first_episodestartdate and barthel_index < 19),\n",
    "#union distinct individuals identified from ctv3 and snomed ct codes together\n",
    "  snomed_numeric as (\n",
    "    select\n",
    "    person_id,dateevent from b\n",
    "\n",
    "    union distinct\n",
    "\n",
    "    select person_id,dateevent\n",
    "    from c)\n",
    "#apply dummy variable\n",
    "    select\n",
    "    distinct person_id,\n",
    "    case when dateevent IS NOT NULL then 'yes'\n",
    "    end as activity_limitation\n",
    "    from snomed_numeric)\n",
    "  \n",
    "\n",
    "\n",
    "\n"
   ]
  }
 ],
 "metadata": {
  "environment": {
   "kernel": "mk_env",
   "name": "workbench-notebooks.m123",
   "type": "gcloud",
   "uri": "us-docker.pkg.dev/deeplearning-platform-release/gcr.io/workbench-notebooks:m123"
  },
  "kernelspec": {
   "display_name": "mk_env",
   "language": "R",
   "name": "mk_env"
  },
  "language_info": {
   "codemirror_mode": "r",
   "file_extension": ".r",
   "mimetype": "text/x-r-source",
   "name": "R",
   "pygments_lexer": "r",
   "version": "4.4.1"
  }
 },
 "nbformat": 4,
 "nbformat_minor": 5
}
