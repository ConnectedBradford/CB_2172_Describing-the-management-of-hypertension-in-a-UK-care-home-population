{
 "cells": [
  {
   "cell_type": "markdown",
   "id": "7a9ad9da-9caf-4106-8eee-c1cf90722f07",
   "metadata": {},
   "source": [
    "## Care home identification notebook\n"
   ]
  },
  {
   "cell_type": "markdown",
   "id": "bf03499f-4eed-4ad7-b7e2-e432f4ea5348",
   "metadata": {},
   "source": [
    "this notebook is the latest version as of 17/08/2024 for identifying care home residents in connected bradford after some issues wih previous scripts were identified. it is the number that will be used in the final analysis, having it in a jupytner notebook format also enabls it to be easily upliaded to github to be made freely available."
   ]
  },
  {
   "cell_type": "code",
   "execution_count": 43,
   "id": "8abf86ed-4de5-4f0c-9423-57870e417b9d",
   "metadata": {
    "tags": []
   },
   "outputs": [],
   "source": [
    "library(bigrquery)\n",
    "library(tidyverse) "
   ]
  },
  {
   "cell_type": "code",
   "execution_count": 44,
   "id": "e6cf67a9-24f6-4de1-96be-6c6062ab6b52",
   "metadata": {
    "tags": []
   },
   "outputs": [],
   "source": [
    "ProjectId = \"yhcr-prd-bradfor-bia-core\"\n",
    "\n",
    "targetdb1 <- \"yhcr-prd-bradfor-bia-core.CB_2172\"\n",
    "targetdb1 <- gsub(\" \",\"\",targetdb1)"
   ]
  },
  {
   "cell_type": "code",
   "execution_count": 3,
   "id": "9147e329-e02c-40b4-8c05-1fba1a876c32",
   "metadata": {},
   "outputs": [],
   "source": [
    "#first query selects all individuals admitted to a care home at any point no age or date restrictions"
   ]
  },
  {
   "cell_type": "code",
   "execution_count": 45,
   "id": "4e09ad2d-94cf-4203-a34a-ed14aa5f707d",
   "metadata": {},
   "outputs": [],
   "source": [
    "sql1 <- \n",
    "paste(\n",
    "    'with a  as (\n",
    "SELECT person_id, \n",
    "tbl_bmbc_AdultSocialCare_Services_start_date, \n",
    "servicetype, \n",
    "FinalisedPSR, \n",
    "row_number() over\n",
    "(partition by person_id order by tbl_bmbc_AdultSocialCare_Services_start_date) as care_seq \n",
    "from ',targetdb1,'.tbl_bmbc_AdultSocialCare_Services\n",
    "where ServiceType in(\"Nursing\",\"Residential\") \n",
    "),\n",
    "b as (\n",
    "select \n",
    "* \n",
    "from a\n",
    "where care_seq = 1\n",
    "order by person_id, tbl_bmbc_AdultSocialCare_Services_start_date),\n",
    "\n",
    "c as \n",
    "(SELECT person_id,\n",
    "tbl_bmbc_AdultSocialCare_Services_end_date, \n",
    "servicetype, \n",
    "row_number() over (partition by person_id order by tbl_bmbc_AdultSocialCare_Services_end_date desc) as care_end_seq \n",
    "from ',targetdb1,'.tbl_bmbc_AdultSocialCare_Services\n",
    "where ServiceType in(\"Nursing\",\"Residential\") )\n",
    ",\n",
    "\n",
    "d as (select\n",
    "* from c \n",
    "where care_end_seq = 1),\n",
    "\n",
    "e as (\n",
    "select \n",
    "b.person_id,\n",
    "b.tbl_bmbc_AdultSocialCare_Services_start_date as first_episodestartdate,\n",
    "d.tbl_bmbc_AdultSocialCare_Services_end_date as last_episodestopdate,\n",
    "b.ServiceType as admission_service,\n",
    "b.finalisedPSR\n",
    "from b \n",
    "LEFT join d on\n",
    "b.person_id= d.person_id\n",
    "order by person_id),\n",
    "\n",
    "f as (\n",
    "Select \n",
    "e.*,\n",
    "date_diff(e.last_episodestopdate,e.first_episodestartdate,day) as admission_length\n",
    "from e\n",
    "),\n",
    "\n",
    "h as (\n",
    "SELECT\n",
    "f.person_id,\n",
    "f.admission_length,\n",
    "f.admission_service,\n",
    "first_episodestartdate,\n",
    "f.last_episodestopdate,\n",
    "#ethnicity.Ethnic_Group\n",
    "EXTRACT(DATE FROM (g.birth_datetime)) as birth_datetime,\n",
    "f.first_episodestartdate as date_of_admission,\n",
    "EXTRACT(DATE FROM (g.death_datetime)) as death_datetime,\n",
    "g.gender_source_value as gender,\n",
    "o.observation_period_end_date\n",
    "FROM f \n",
    "LEFT JOIN ',targetdb1,'.person g on\n",
    "f.person_id = g.person_id\n",
    "#LEFT JOIN ',targetdb1,'.care_home_cohort_v1_ethnicity ethnicity on \n",
    "#f.person_id = ethnicity.person_id\n",
    "LEFT JOIN ',targetdb1,'.observation_period o on\n",
    "f.person_id = o.person_id\n",
    " ),\n",
    "\n",
    "g as (\n",
    "select\n",
    "DATE_DIFF(first_episodestartdate, birth_datetime, YEAR) as age_admission,\n",
    "h.*,\n",
    "from h\n",
    "where first_episodestartdate < \"2019-12-31\"\n",
    "order by age_admission desc)\n",
    "\n",
    "select\n",
    "*\n",
    "from g\n",
    "\n",
    "\n",
    "\n",
    ";',sep=\"\")\n",
    "\n",
    "sql_tbl <-bq_project_query(ProjectId,sql1)\n",
    "sql_data <- bq_table_download(sql_tbl)\n"
   ]
  },
  {
   "cell_type": "code",
   "execution_count": 5,
   "id": "957797e8-cc03-444e-91f4-1765e0665be5",
   "metadata": {},
   "outputs": [],
   "source": [
    "#convert vectors to date"
   ]
  },
  {
   "cell_type": "code",
   "execution_count": 46,
   "id": "2948e6df-2602-4f86-9e85-46952dac05ba",
   "metadata": {},
   "outputs": [],
   "source": [
    "sql_data$death_date <- as_date(sql_data$death_datetime)\n",
    "sql_data <- sql_data %>% select(-death_datetime)"
   ]
  },
  {
   "cell_type": "code",
   "execution_count": 47,
   "id": "1de81d23-ffce-42e9-928b-f16d33534a34",
   "metadata": {
    "tags": []
   },
   "outputs": [],
   "source": [
    "sql_data$episodestartdate <- as_date(sql_data$first_episodestartdate)\n",
    "sql_data$episodestopdate <- as_date(sql_data$last_episodestopdate)\n",
    "sql_data <- sql_data %>% select(-first_episodestartdate,-last_episodestopdate)"
   ]
  },
  {
   "cell_type": "code",
   "execution_count": 48,
   "id": "bfff7dcc-f93f-4b54-93f6-35d216f566a9",
   "metadata": {},
   "outputs": [],
   "source": [
    "sql_data$birth_date <- as_date(sql_data$birth_datetime)\n",
    "sql_data <- sql_data %>% select(-birth_datetime)\n",
    "sql_data$ob_period_end_date <- as_date(sql_data$observation_period_end_date)\n",
    "sql_data <- sql_data %>%  select(-observation_period_end_date)"
   ]
  },
  {
   "cell_type": "code",
   "execution_count": 9,
   "id": "53ae09f3-23a3-4d0f-bc75-284c792bafb5",
   "metadata": {},
   "outputs": [],
   "source": [
    "# remove those inidividuals admitted on dates that were identified as being erroneous\n",
    "# (i.e. these individuals were actually admitted into a care home prior to 2016, but had no start date so the date was put as the date of upload, creating some skew) \n",
    "# this has been confirmed with the individual who built the social care FDM in Connected bradford"
   ]
  },
  {
   "cell_type": "code",
   "execution_count": 49,
   "id": "0c38154b-d3ce-444a-8b1a-6d7a7bad8d62",
   "metadata": {
    "tags": []
   },
   "outputs": [],
   "source": [
    "sql_data_1 <- \n",
    "sql_data %>% filter(!(episodestartdate == \"2016-04-04\"))%>%\n",
    "filter(!(episodestartdate == \"2016-07-25\"))%>% \n",
    "filter(!(episodestartdate == \"2016-08-22\"))%>% \n",
    "filter(!(episodestartdate == \"2015-11-02\"))"
   ]
  },
  {
   "cell_type": "code",
   "execution_count": 50,
   "id": "e3354c8c-061f-4cc8-9fbc-fee57b33f51e",
   "metadata": {
    "tags": []
   },
   "outputs": [
    {
     "data": {
      "text/html": [
       "4048"
      ],
      "text/latex": [
       "4048"
      ],
      "text/markdown": [
       "4048"
      ],
      "text/plain": [
       "[1] 4048"
      ]
     },
     "metadata": {},
     "output_type": "display_data"
    }
   ],
   "source": [
    "sql_data_1 %>% n_distinct('person_id')"
   ]
  },
  {
   "cell_type": "code",
   "execution_count": 51,
   "id": "931bcd3b-8fa2-45a3-ab43-f53121df74d4",
   "metadata": {
    "tags": []
   },
   "outputs": [
    {
     "data": {
      "text/html": [
       "<table class=\"dataframe\">\n",
       "<caption>A tibble: 4048 × 11</caption>\n",
       "<thead>\n",
       "\t<tr><th scope=col>age_admission</th><th scope=col>person_id</th><th scope=col>admission_length</th><th scope=col>admission_service</th><th scope=col>date_of_admission</th><th scope=col>gender</th><th scope=col>death_date</th><th scope=col>episodestartdate</th><th scope=col>episodestopdate</th><th scope=col>birth_date</th><th scope=col>ob_period_end_date</th></tr>\n",
       "\t<tr><th scope=col>&lt;int&gt;</th><th scope=col>&lt;int&gt;</th><th scope=col>&lt;int&gt;</th><th scope=col>&lt;chr&gt;</th><th scope=col>&lt;date&gt;</th><th scope=col>&lt;chr&gt;</th><th scope=col>&lt;date&gt;</th><th scope=col>&lt;date&gt;</th><th scope=col>&lt;date&gt;</th><th scope=col>&lt;date&gt;</th><th scope=col>&lt;date&gt;</th></tr>\n",
       "</thead>\n",
       "<tbody>\n",
       "\t<tr><td>110</td><td>13165651</td><td>  70</td><td>Residential</td><td>2017-10-31</td><td>F</td><td>2018-01-15</td><td>2017-10-31</td><td>2018-01-09</td><td>1907-09-15</td><td>2018-01-09</td></tr>\n",
       "\t<tr><td>108</td><td>12773259</td><td>  10</td><td>Nursing    </td><td>2019-04-05</td><td>F</td><td>2019-04-15</td><td>2019-04-05</td><td>2019-04-15</td><td>1911-07-15</td><td>NA</td></tr>\n",
       "\t<tr><td>105</td><td>12993099</td><td> 116</td><td>Nursing    </td><td>2018-07-20</td><td>F</td><td>2018-11-15</td><td>2018-07-20</td><td>2018-11-13</td><td>1913-03-15</td><td>2018-09-21</td></tr>\n",
       "\t<tr><td>104</td><td>12503132</td><td>  23</td><td>Nursing    </td><td>2019-05-07</td><td>F</td><td>2019-05-15</td><td>2019-05-07</td><td>2019-05-30</td><td>1915-06-15</td><td>NA</td></tr>\n",
       "\t<tr><td>104</td><td>12984164</td><td>  18</td><td>Nursing    </td><td>2019-07-10</td><td>F</td><td>2019-07-15</td><td>2019-07-10</td><td>2019-07-28</td><td>1915-11-15</td><td>NA</td></tr>\n",
       "\t<tr><td>104</td><td>12696288</td><td> 671</td><td>Residential</td><td>2019-08-23</td><td>F</td><td>2021-06-15</td><td>2019-08-23</td><td>2021-06-24</td><td>1915-11-15</td><td>2021-06-03</td></tr>\n",
       "\t<tr><td>104</td><td>12757662</td><td> 866</td><td>Residential</td><td>2019-10-03</td><td>F</td><td>2022-02-15</td><td>2019-10-03</td><td>2022-02-15</td><td>1915-09-15</td><td>2022-02-16</td></tr>\n",
       "\t<tr><td>104</td><td>12606511</td><td>  85</td><td>Residential</td><td>2019-02-06</td><td>F</td><td>2019-05-15</td><td>2019-02-06</td><td>2019-05-02</td><td>1915-02-15</td><td>2019-05-02</td></tr>\n",
       "\t<tr><td>104</td><td>13729945</td><td> 171</td><td>Nursing    </td><td>2018-09-03</td><td>F</td><td>2019-02-15</td><td>2018-09-03</td><td>2019-02-21</td><td>1914-10-15</td><td>2019-02-20</td></tr>\n",
       "\t<tr><td>103</td><td>  442273</td><td> 326</td><td>Nursing    </td><td>2016-12-13</td><td>F</td><td>2017-11-15</td><td>2016-12-13</td><td>2017-11-04</td><td>1913-01-15</td><td>2016-10-27</td></tr>\n",
       "\t<tr><td>103</td><td>13273683</td><td>  58</td><td>Residential</td><td>2019-07-31</td><td>F</td><td>2019-10-15</td><td>2019-07-31</td><td>2019-09-27</td><td>1916-12-15</td><td>2019-09-27</td></tr>\n",
       "\t<tr><td>103</td><td>  544561</td><td> 343</td><td>Residential</td><td>2019-12-02</td><td>F</td><td>2020-11-15</td><td>2019-12-02</td><td>2020-11-09</td><td>1916-07-15</td><td>2020-11-10</td></tr>\n",
       "\t<tr><td>103</td><td>12913109</td><td> 871</td><td>Residential</td><td>2019-05-01</td><td>F</td><td>2021-09-15</td><td>2019-05-01</td><td>2021-09-18</td><td>1916-02-15</td><td>2021-09-20</td></tr>\n",
       "\t<tr><td>103</td><td>12584650</td><td> 585</td><td>Residential</td><td>2018-06-01</td><td>F</td><td>2020-01-15</td><td>2018-06-01</td><td>2020-01-07</td><td>1915-04-15</td><td>2020-01-08</td></tr>\n",
       "\t<tr><td>102</td><td>12801304</td><td>  28</td><td>Nursing    </td><td>2017-01-19</td><td>F</td><td>2017-02-15</td><td>2017-01-19</td><td>2017-02-16</td><td>1915-01-15</td><td>NA</td></tr>\n",
       "\t<tr><td>102</td><td>12500037</td><td> 172</td><td>Residential</td><td>2019-08-14</td><td>F</td><td>2020-02-15</td><td>2019-08-14</td><td>2020-02-02</td><td>1917-10-15</td><td>2020-02-05</td></tr>\n",
       "\t<tr><td>102</td><td>12467337</td><td> 966</td><td>Residential</td><td>2018-12-09</td><td>F</td><td>2021-08-15</td><td>2018-12-09</td><td>2021-08-01</td><td>1916-04-15</td><td>2021-07-29</td></tr>\n",
       "\t<tr><td>101</td><td>13361237</td><td> 180</td><td>Residential</td><td>2017-02-08</td><td>F</td><td>2017-08-15</td><td>2017-02-08</td><td>2017-08-07</td><td>1916-12-15</td><td>2017-08-08</td></tr>\n",
       "\t<tr><td>101</td><td>13279677</td><td> 556</td><td>Residential</td><td>2017-11-03</td><td>F</td><td>2019-05-15</td><td>2017-11-03</td><td>2019-05-13</td><td>1916-12-15</td><td>2019-05-13</td></tr>\n",
       "\t<tr><td>101</td><td>12724972</td><td>1415</td><td>Residential</td><td>2018-10-10</td><td>F</td><td>2022-08-15</td><td>2018-10-10</td><td>2022-08-25</td><td>1917-12-15</td><td>2022-08-30</td></tr>\n",
       "\t<tr><td>101</td><td>13226660</td><td>  64</td><td>Residential</td><td>2018-02-01</td><td>F</td><td>2018-04-15</td><td>2018-02-01</td><td>2018-04-06</td><td>1917-12-15</td><td>2018-04-07</td></tr>\n",
       "\t<tr><td>101</td><td>13445988</td><td>  32</td><td>Residential</td><td>2017-11-15</td><td>F</td><td>2017-12-15</td><td>2017-11-15</td><td>2017-12-17</td><td>1916-09-15</td><td>NA</td></tr>\n",
       "\t<tr><td>101</td><td> 6522226</td><td>  97</td><td>Nursing    </td><td>2019-12-24</td><td>F</td><td>2020-03-15</td><td>2019-12-24</td><td>2020-03-30</td><td>1918-10-15</td><td>2020-04-03</td></tr>\n",
       "\t<tr><td>101</td><td>13453198</td><td>  93</td><td>Residential</td><td>2017-02-02</td><td>F</td><td>2017-05-15</td><td>2017-02-02</td><td>2017-05-06</td><td>1916-07-15</td><td>2017-05-02</td></tr>\n",
       "\t<tr><td>101</td><td>12856514</td><td>  10</td><td>Nursing    </td><td>2019-05-24</td><td>F</td><td>2019-06-15</td><td>2019-05-24</td><td>2019-06-03</td><td>1918-03-15</td><td>NA</td></tr>\n",
       "\t<tr><td>101</td><td>  666516</td><td>  54</td><td>Nursing    </td><td>2018-01-16</td><td>F</td><td>2018-03-15</td><td>2018-01-16</td><td>2018-03-11</td><td>1917-05-15</td><td>2018-01-07</td></tr>\n",
       "\t<tr><td>101</td><td>12479283</td><td>  28</td><td>Residential</td><td>2018-11-01</td><td>F</td><td>2018-11-15</td><td>2018-11-01</td><td>2018-11-29</td><td>1917-12-15</td><td>NA</td></tr>\n",
       "\t<tr><td>100</td><td>12618575</td><td> 297</td><td>Residential</td><td>2019-11-12</td><td>F</td><td>2020-09-15</td><td>2019-11-12</td><td>2020-09-04</td><td>1919-02-15</td><td>2020-09-05</td></tr>\n",
       "\t<tr><td>100</td><td>12849162</td><td>  19</td><td>Nursing    </td><td>2018-01-08</td><td>M</td><td>2018-01-15</td><td>2018-01-08</td><td>2018-01-27</td><td>1918-09-15</td><td>NA</td></tr>\n",
       "\t<tr><td>100</td><td>13422929</td><td>  69</td><td>Nursing    </td><td>2019-02-07</td><td>M</td><td>2019-04-15</td><td>2019-02-07</td><td>2019-04-17</td><td>1919-12-15</td><td>2019-03-07</td></tr>\n",
       "\t<tr><td>⋮</td><td>⋮</td><td>⋮</td><td>⋮</td><td>⋮</td><td>⋮</td><td>⋮</td><td>⋮</td><td>⋮</td><td>⋮</td><td>⋮</td></tr>\n",
       "\t<tr><td>25</td><td>12741400</td><td> 210</td><td>Nursing    </td><td>2016-08-08</td><td>M</td><td>NA</td><td>2016-08-08</td><td>2017-03-06</td><td>1991-07-15</td><td>NA</td></tr>\n",
       "\t<tr><td>24</td><td>13000267</td><td> 215</td><td>Residential</td><td>2017-05-31</td><td>F</td><td>NA</td><td>2017-05-31</td><td>2018-01-01</td><td>1993-07-15</td><td>NA</td></tr>\n",
       "\t<tr><td>24</td><td>12687797</td><td> 191</td><td>Residential</td><td>2017-01-28</td><td>F</td><td>NA</td><td>2017-01-28</td><td>2017-08-07</td><td>1993-04-15</td><td>NA</td></tr>\n",
       "\t<tr><td>24</td><td>13362350</td><td> 151</td><td>Residential</td><td>2018-02-01</td><td>M</td><td>NA</td><td>2018-02-01</td><td>2018-07-02</td><td>1994-07-15</td><td>NA</td></tr>\n",
       "\t<tr><td>24</td><td>13669716</td><td> 952</td><td>Residential</td><td>2016-11-14</td><td>M</td><td>NA</td><td>2016-11-14</td><td>2019-06-24</td><td>1992-12-15</td><td>NA</td></tr>\n",
       "\t<tr><td>24</td><td>13660152</td><td>  NA</td><td>Residential</td><td>2019-02-04</td><td>M</td><td>NA</td><td>2019-02-04</td><td>NA</td><td>1995-04-15</td><td>NA</td></tr>\n",
       "\t<tr><td>24</td><td>12857746</td><td> 936</td><td>Residential</td><td>2019-09-19</td><td>M</td><td>2022-04-15</td><td>2019-09-19</td><td>2022-04-12</td><td>1995-12-15</td><td>NA</td></tr>\n",
       "\t<tr><td>22</td><td>13636732</td><td>1328</td><td>Residential</td><td>2018-07-10</td><td>M</td><td>NA</td><td>2018-07-10</td><td>2022-02-27</td><td>1996-09-15</td><td>NA</td></tr>\n",
       "\t<tr><td>21</td><td>12945702</td><td> 125</td><td>Residential</td><td>2018-08-13</td><td>M</td><td>NA</td><td>2018-08-13</td><td>2018-12-16</td><td>1997-10-15</td><td>NA</td></tr>\n",
       "\t<tr><td>21</td><td>12809527</td><td> 526</td><td>Residential</td><td>2017-06-02</td><td>F</td><td>NA</td><td>2017-06-02</td><td>2018-11-10</td><td>1996-05-15</td><td>NA</td></tr>\n",
       "\t<tr><td>21</td><td>    8803</td><td> 693</td><td>Residential</td><td>2017-11-06</td><td>F</td><td>NA</td><td>2017-11-06</td><td>2019-09-30</td><td>1996-01-15</td><td>NA</td></tr>\n",
       "\t<tr><td>20</td><td>12784341</td><td>  10</td><td>Nursing    </td><td>2019-10-31</td><td>M</td><td>NA</td><td>2019-10-31</td><td>2019-11-10</td><td>1999-02-15</td><td>NA</td></tr>\n",
       "\t<tr><td>20</td><td>13043792</td><td> 671</td><td>Residential</td><td>2016-07-22</td><td>M</td><td>NA</td><td>2016-07-22</td><td>2018-05-24</td><td>1996-09-15</td><td>NA</td></tr>\n",
       "\t<tr><td>19</td><td>13685471</td><td>1037</td><td>Residential</td><td>2016-09-07</td><td>F</td><td>NA</td><td>2016-09-07</td><td>2019-07-11</td><td>1997-08-15</td><td>NA</td></tr>\n",
       "\t<tr><td>19</td><td>12718637</td><td>  79</td><td>Nursing    </td><td>2019-04-01</td><td>M</td><td>NA</td><td>2019-04-01</td><td>2019-06-19</td><td>2000-03-15</td><td>NA</td></tr>\n",
       "\t<tr><td>19</td><td>13707739</td><td>2166</td><td>Residential</td><td>2016-12-05</td><td>M</td><td>NA</td><td>2016-12-05</td><td>2022-11-10</td><td>1997-12-15</td><td>NA</td></tr>\n",
       "\t<tr><td>19</td><td>13368429</td><td>1836</td><td>Residential</td><td>2016-10-21</td><td>F</td><td>NA</td><td>2016-10-21</td><td>2021-10-31</td><td>1997-11-15</td><td>NA</td></tr>\n",
       "\t<tr><td>19</td><td>12727242</td><td>1004</td><td>Residential</td><td>2018-01-24</td><td>M</td><td>NA</td><td>2018-01-24</td><td>2020-10-24</td><td>1999-05-15</td><td>NA</td></tr>\n",
       "\t<tr><td>19</td><td>13650004</td><td>1486</td><td>Residential</td><td>2017-03-31</td><td>M</td><td>NA</td><td>2017-03-31</td><td>2021-04-25</td><td>1998-04-15</td><td>NA</td></tr>\n",
       "\t<tr><td>19</td><td>13435101</td><td> 929</td><td>Nursing    </td><td>2019-01-12</td><td>M</td><td>NA</td><td>2019-01-12</td><td>2021-07-29</td><td>2000-12-15</td><td>NA</td></tr>\n",
       "\t<tr><td>19</td><td>13660525</td><td>2309</td><td>Residential</td><td>2016-08-31</td><td>M</td><td>NA</td><td>2016-08-31</td><td>2022-12-27</td><td>1997-07-15</td><td>NA</td></tr>\n",
       "\t<tr><td>19</td><td>  182734</td><td>1044</td><td>Residential</td><td>2016-08-31</td><td>M</td><td>NA</td><td>2016-08-31</td><td>2019-07-11</td><td>1997-06-15</td><td>NA</td></tr>\n",
       "\t<tr><td>19</td><td>12873811</td><td> 202</td><td>Residential</td><td>2017-11-27</td><td>M</td><td>NA</td><td>2017-11-27</td><td>2018-06-17</td><td>1998-12-15</td><td>NA</td></tr>\n",
       "\t<tr><td>18</td><td>12519122</td><td> 946</td><td>Residential</td><td>2017-08-28</td><td>M</td><td>NA</td><td>2017-08-28</td><td>2020-03-31</td><td>1999-06-15</td><td>NA</td></tr>\n",
       "\t<tr><td>18</td><td>12426311</td><td> 323</td><td>Residential</td><td>2018-09-11</td><td>M</td><td>NA</td><td>2018-09-11</td><td>2019-07-31</td><td>2000-05-15</td><td>NA</td></tr>\n",
       "\t<tr><td>18</td><td>12632399</td><td> 213</td><td>Residential</td><td>2017-12-25</td><td>M</td><td>NA</td><td>2017-12-25</td><td>2018-07-26</td><td>1999-12-15</td><td>NA</td></tr>\n",
       "\t<tr><td>18</td><td>13189150</td><td> 390</td><td>Residential</td><td>2016-05-24</td><td>M</td><td>NA</td><td>2016-05-24</td><td>2017-06-18</td><td>1998-05-15</td><td>NA</td></tr>\n",
       "\t<tr><td>18</td><td>13731790</td><td>1208</td><td>Residential</td><td>2017-06-15</td><td>M</td><td>NA</td><td>2017-06-15</td><td>2020-10-05</td><td>1999-06-15</td><td>NA</td></tr>\n",
       "\t<tr><td>18</td><td>13032234</td><td>  83</td><td>Residential</td><td>2018-09-24</td><td>M</td><td>NA</td><td>2018-09-24</td><td>2018-12-16</td><td>2000-09-15</td><td>NA</td></tr>\n",
       "\t<tr><td>18</td><td>13310167</td><td>1136</td><td>Residential</td><td>2016-11-04</td><td>F</td><td>NA</td><td>2016-11-04</td><td>2019-12-15</td><td>1998-11-15</td><td>NA</td></tr>\n",
       "</tbody>\n",
       "</table>\n"
      ],
      "text/latex": [
       "A tibble: 4048 × 11\n",
       "\\begin{tabular}{lllllllllll}\n",
       " age\\_admission & person\\_id & admission\\_length & admission\\_service & date\\_of\\_admission & gender & death\\_date & episodestartdate & episodestopdate & birth\\_date & ob\\_period\\_end\\_date\\\\\n",
       " <int> & <int> & <int> & <chr> & <date> & <chr> & <date> & <date> & <date> & <date> & <date>\\\\\n",
       "\\hline\n",
       "\t 110 & 13165651 &   70 & Residential & 2017-10-31 & F & 2018-01-15 & 2017-10-31 & 2018-01-09 & 1907-09-15 & 2018-01-09\\\\\n",
       "\t 108 & 12773259 &   10 & Nursing     & 2019-04-05 & F & 2019-04-15 & 2019-04-05 & 2019-04-15 & 1911-07-15 & NA\\\\\n",
       "\t 105 & 12993099 &  116 & Nursing     & 2018-07-20 & F & 2018-11-15 & 2018-07-20 & 2018-11-13 & 1913-03-15 & 2018-09-21\\\\\n",
       "\t 104 & 12503132 &   23 & Nursing     & 2019-05-07 & F & 2019-05-15 & 2019-05-07 & 2019-05-30 & 1915-06-15 & NA\\\\\n",
       "\t 104 & 12984164 &   18 & Nursing     & 2019-07-10 & F & 2019-07-15 & 2019-07-10 & 2019-07-28 & 1915-11-15 & NA\\\\\n",
       "\t 104 & 12696288 &  671 & Residential & 2019-08-23 & F & 2021-06-15 & 2019-08-23 & 2021-06-24 & 1915-11-15 & 2021-06-03\\\\\n",
       "\t 104 & 12757662 &  866 & Residential & 2019-10-03 & F & 2022-02-15 & 2019-10-03 & 2022-02-15 & 1915-09-15 & 2022-02-16\\\\\n",
       "\t 104 & 12606511 &   85 & Residential & 2019-02-06 & F & 2019-05-15 & 2019-02-06 & 2019-05-02 & 1915-02-15 & 2019-05-02\\\\\n",
       "\t 104 & 13729945 &  171 & Nursing     & 2018-09-03 & F & 2019-02-15 & 2018-09-03 & 2019-02-21 & 1914-10-15 & 2019-02-20\\\\\n",
       "\t 103 &   442273 &  326 & Nursing     & 2016-12-13 & F & 2017-11-15 & 2016-12-13 & 2017-11-04 & 1913-01-15 & 2016-10-27\\\\\n",
       "\t 103 & 13273683 &   58 & Residential & 2019-07-31 & F & 2019-10-15 & 2019-07-31 & 2019-09-27 & 1916-12-15 & 2019-09-27\\\\\n",
       "\t 103 &   544561 &  343 & Residential & 2019-12-02 & F & 2020-11-15 & 2019-12-02 & 2020-11-09 & 1916-07-15 & 2020-11-10\\\\\n",
       "\t 103 & 12913109 &  871 & Residential & 2019-05-01 & F & 2021-09-15 & 2019-05-01 & 2021-09-18 & 1916-02-15 & 2021-09-20\\\\\n",
       "\t 103 & 12584650 &  585 & Residential & 2018-06-01 & F & 2020-01-15 & 2018-06-01 & 2020-01-07 & 1915-04-15 & 2020-01-08\\\\\n",
       "\t 102 & 12801304 &   28 & Nursing     & 2017-01-19 & F & 2017-02-15 & 2017-01-19 & 2017-02-16 & 1915-01-15 & NA\\\\\n",
       "\t 102 & 12500037 &  172 & Residential & 2019-08-14 & F & 2020-02-15 & 2019-08-14 & 2020-02-02 & 1917-10-15 & 2020-02-05\\\\\n",
       "\t 102 & 12467337 &  966 & Residential & 2018-12-09 & F & 2021-08-15 & 2018-12-09 & 2021-08-01 & 1916-04-15 & 2021-07-29\\\\\n",
       "\t 101 & 13361237 &  180 & Residential & 2017-02-08 & F & 2017-08-15 & 2017-02-08 & 2017-08-07 & 1916-12-15 & 2017-08-08\\\\\n",
       "\t 101 & 13279677 &  556 & Residential & 2017-11-03 & F & 2019-05-15 & 2017-11-03 & 2019-05-13 & 1916-12-15 & 2019-05-13\\\\\n",
       "\t 101 & 12724972 & 1415 & Residential & 2018-10-10 & F & 2022-08-15 & 2018-10-10 & 2022-08-25 & 1917-12-15 & 2022-08-30\\\\\n",
       "\t 101 & 13226660 &   64 & Residential & 2018-02-01 & F & 2018-04-15 & 2018-02-01 & 2018-04-06 & 1917-12-15 & 2018-04-07\\\\\n",
       "\t 101 & 13445988 &   32 & Residential & 2017-11-15 & F & 2017-12-15 & 2017-11-15 & 2017-12-17 & 1916-09-15 & NA\\\\\n",
       "\t 101 &  6522226 &   97 & Nursing     & 2019-12-24 & F & 2020-03-15 & 2019-12-24 & 2020-03-30 & 1918-10-15 & 2020-04-03\\\\\n",
       "\t 101 & 13453198 &   93 & Residential & 2017-02-02 & F & 2017-05-15 & 2017-02-02 & 2017-05-06 & 1916-07-15 & 2017-05-02\\\\\n",
       "\t 101 & 12856514 &   10 & Nursing     & 2019-05-24 & F & 2019-06-15 & 2019-05-24 & 2019-06-03 & 1918-03-15 & NA\\\\\n",
       "\t 101 &   666516 &   54 & Nursing     & 2018-01-16 & F & 2018-03-15 & 2018-01-16 & 2018-03-11 & 1917-05-15 & 2018-01-07\\\\\n",
       "\t 101 & 12479283 &   28 & Residential & 2018-11-01 & F & 2018-11-15 & 2018-11-01 & 2018-11-29 & 1917-12-15 & NA\\\\\n",
       "\t 100 & 12618575 &  297 & Residential & 2019-11-12 & F & 2020-09-15 & 2019-11-12 & 2020-09-04 & 1919-02-15 & 2020-09-05\\\\\n",
       "\t 100 & 12849162 &   19 & Nursing     & 2018-01-08 & M & 2018-01-15 & 2018-01-08 & 2018-01-27 & 1918-09-15 & NA\\\\\n",
       "\t 100 & 13422929 &   69 & Nursing     & 2019-02-07 & M & 2019-04-15 & 2019-02-07 & 2019-04-17 & 1919-12-15 & 2019-03-07\\\\\n",
       "\t ⋮ & ⋮ & ⋮ & ⋮ & ⋮ & ⋮ & ⋮ & ⋮ & ⋮ & ⋮ & ⋮\\\\\n",
       "\t 25 & 12741400 &  210 & Nursing     & 2016-08-08 & M & NA & 2016-08-08 & 2017-03-06 & 1991-07-15 & NA\\\\\n",
       "\t 24 & 13000267 &  215 & Residential & 2017-05-31 & F & NA & 2017-05-31 & 2018-01-01 & 1993-07-15 & NA\\\\\n",
       "\t 24 & 12687797 &  191 & Residential & 2017-01-28 & F & NA & 2017-01-28 & 2017-08-07 & 1993-04-15 & NA\\\\\n",
       "\t 24 & 13362350 &  151 & Residential & 2018-02-01 & M & NA & 2018-02-01 & 2018-07-02 & 1994-07-15 & NA\\\\\n",
       "\t 24 & 13669716 &  952 & Residential & 2016-11-14 & M & NA & 2016-11-14 & 2019-06-24 & 1992-12-15 & NA\\\\\n",
       "\t 24 & 13660152 &   NA & Residential & 2019-02-04 & M & NA & 2019-02-04 & NA & 1995-04-15 & NA\\\\\n",
       "\t 24 & 12857746 &  936 & Residential & 2019-09-19 & M & 2022-04-15 & 2019-09-19 & 2022-04-12 & 1995-12-15 & NA\\\\\n",
       "\t 22 & 13636732 & 1328 & Residential & 2018-07-10 & M & NA & 2018-07-10 & 2022-02-27 & 1996-09-15 & NA\\\\\n",
       "\t 21 & 12945702 &  125 & Residential & 2018-08-13 & M & NA & 2018-08-13 & 2018-12-16 & 1997-10-15 & NA\\\\\n",
       "\t 21 & 12809527 &  526 & Residential & 2017-06-02 & F & NA & 2017-06-02 & 2018-11-10 & 1996-05-15 & NA\\\\\n",
       "\t 21 &     8803 &  693 & Residential & 2017-11-06 & F & NA & 2017-11-06 & 2019-09-30 & 1996-01-15 & NA\\\\\n",
       "\t 20 & 12784341 &   10 & Nursing     & 2019-10-31 & M & NA & 2019-10-31 & 2019-11-10 & 1999-02-15 & NA\\\\\n",
       "\t 20 & 13043792 &  671 & Residential & 2016-07-22 & M & NA & 2016-07-22 & 2018-05-24 & 1996-09-15 & NA\\\\\n",
       "\t 19 & 13685471 & 1037 & Residential & 2016-09-07 & F & NA & 2016-09-07 & 2019-07-11 & 1997-08-15 & NA\\\\\n",
       "\t 19 & 12718637 &   79 & Nursing     & 2019-04-01 & M & NA & 2019-04-01 & 2019-06-19 & 2000-03-15 & NA\\\\\n",
       "\t 19 & 13707739 & 2166 & Residential & 2016-12-05 & M & NA & 2016-12-05 & 2022-11-10 & 1997-12-15 & NA\\\\\n",
       "\t 19 & 13368429 & 1836 & Residential & 2016-10-21 & F & NA & 2016-10-21 & 2021-10-31 & 1997-11-15 & NA\\\\\n",
       "\t 19 & 12727242 & 1004 & Residential & 2018-01-24 & M & NA & 2018-01-24 & 2020-10-24 & 1999-05-15 & NA\\\\\n",
       "\t 19 & 13650004 & 1486 & Residential & 2017-03-31 & M & NA & 2017-03-31 & 2021-04-25 & 1998-04-15 & NA\\\\\n",
       "\t 19 & 13435101 &  929 & Nursing     & 2019-01-12 & M & NA & 2019-01-12 & 2021-07-29 & 2000-12-15 & NA\\\\\n",
       "\t 19 & 13660525 & 2309 & Residential & 2016-08-31 & M & NA & 2016-08-31 & 2022-12-27 & 1997-07-15 & NA\\\\\n",
       "\t 19 &   182734 & 1044 & Residential & 2016-08-31 & M & NA & 2016-08-31 & 2019-07-11 & 1997-06-15 & NA\\\\\n",
       "\t 19 & 12873811 &  202 & Residential & 2017-11-27 & M & NA & 2017-11-27 & 2018-06-17 & 1998-12-15 & NA\\\\\n",
       "\t 18 & 12519122 &  946 & Residential & 2017-08-28 & M & NA & 2017-08-28 & 2020-03-31 & 1999-06-15 & NA\\\\\n",
       "\t 18 & 12426311 &  323 & Residential & 2018-09-11 & M & NA & 2018-09-11 & 2019-07-31 & 2000-05-15 & NA\\\\\n",
       "\t 18 & 12632399 &  213 & Residential & 2017-12-25 & M & NA & 2017-12-25 & 2018-07-26 & 1999-12-15 & NA\\\\\n",
       "\t 18 & 13189150 &  390 & Residential & 2016-05-24 & M & NA & 2016-05-24 & 2017-06-18 & 1998-05-15 & NA\\\\\n",
       "\t 18 & 13731790 & 1208 & Residential & 2017-06-15 & M & NA & 2017-06-15 & 2020-10-05 & 1999-06-15 & NA\\\\\n",
       "\t 18 & 13032234 &   83 & Residential & 2018-09-24 & M & NA & 2018-09-24 & 2018-12-16 & 2000-09-15 & NA\\\\\n",
       "\t 18 & 13310167 & 1136 & Residential & 2016-11-04 & F & NA & 2016-11-04 & 2019-12-15 & 1998-11-15 & NA\\\\\n",
       "\\end{tabular}\n"
      ],
      "text/markdown": [
       "\n",
       "A tibble: 4048 × 11\n",
       "\n",
       "| age_admission &lt;int&gt; | person_id &lt;int&gt; | admission_length &lt;int&gt; | admission_service &lt;chr&gt; | date_of_admission &lt;date&gt; | gender &lt;chr&gt; | death_date &lt;date&gt; | episodestartdate &lt;date&gt; | episodestopdate &lt;date&gt; | birth_date &lt;date&gt; | ob_period_end_date &lt;date&gt; |\n",
       "|---|---|---|---|---|---|---|---|---|---|---|\n",
       "| 110 | 13165651 |   70 | Residential | 2017-10-31 | F | 2018-01-15 | 2017-10-31 | 2018-01-09 | 1907-09-15 | 2018-01-09 |\n",
       "| 108 | 12773259 |   10 | Nursing     | 2019-04-05 | F | 2019-04-15 | 2019-04-05 | 2019-04-15 | 1911-07-15 | NA |\n",
       "| 105 | 12993099 |  116 | Nursing     | 2018-07-20 | F | 2018-11-15 | 2018-07-20 | 2018-11-13 | 1913-03-15 | 2018-09-21 |\n",
       "| 104 | 12503132 |   23 | Nursing     | 2019-05-07 | F | 2019-05-15 | 2019-05-07 | 2019-05-30 | 1915-06-15 | NA |\n",
       "| 104 | 12984164 |   18 | Nursing     | 2019-07-10 | F | 2019-07-15 | 2019-07-10 | 2019-07-28 | 1915-11-15 | NA |\n",
       "| 104 | 12696288 |  671 | Residential | 2019-08-23 | F | 2021-06-15 | 2019-08-23 | 2021-06-24 | 1915-11-15 | 2021-06-03 |\n",
       "| 104 | 12757662 |  866 | Residential | 2019-10-03 | F | 2022-02-15 | 2019-10-03 | 2022-02-15 | 1915-09-15 | 2022-02-16 |\n",
       "| 104 | 12606511 |   85 | Residential | 2019-02-06 | F | 2019-05-15 | 2019-02-06 | 2019-05-02 | 1915-02-15 | 2019-05-02 |\n",
       "| 104 | 13729945 |  171 | Nursing     | 2018-09-03 | F | 2019-02-15 | 2018-09-03 | 2019-02-21 | 1914-10-15 | 2019-02-20 |\n",
       "| 103 |   442273 |  326 | Nursing     | 2016-12-13 | F | 2017-11-15 | 2016-12-13 | 2017-11-04 | 1913-01-15 | 2016-10-27 |\n",
       "| 103 | 13273683 |   58 | Residential | 2019-07-31 | F | 2019-10-15 | 2019-07-31 | 2019-09-27 | 1916-12-15 | 2019-09-27 |\n",
       "| 103 |   544561 |  343 | Residential | 2019-12-02 | F | 2020-11-15 | 2019-12-02 | 2020-11-09 | 1916-07-15 | 2020-11-10 |\n",
       "| 103 | 12913109 |  871 | Residential | 2019-05-01 | F | 2021-09-15 | 2019-05-01 | 2021-09-18 | 1916-02-15 | 2021-09-20 |\n",
       "| 103 | 12584650 |  585 | Residential | 2018-06-01 | F | 2020-01-15 | 2018-06-01 | 2020-01-07 | 1915-04-15 | 2020-01-08 |\n",
       "| 102 | 12801304 |   28 | Nursing     | 2017-01-19 | F | 2017-02-15 | 2017-01-19 | 2017-02-16 | 1915-01-15 | NA |\n",
       "| 102 | 12500037 |  172 | Residential | 2019-08-14 | F | 2020-02-15 | 2019-08-14 | 2020-02-02 | 1917-10-15 | 2020-02-05 |\n",
       "| 102 | 12467337 |  966 | Residential | 2018-12-09 | F | 2021-08-15 | 2018-12-09 | 2021-08-01 | 1916-04-15 | 2021-07-29 |\n",
       "| 101 | 13361237 |  180 | Residential | 2017-02-08 | F | 2017-08-15 | 2017-02-08 | 2017-08-07 | 1916-12-15 | 2017-08-08 |\n",
       "| 101 | 13279677 |  556 | Residential | 2017-11-03 | F | 2019-05-15 | 2017-11-03 | 2019-05-13 | 1916-12-15 | 2019-05-13 |\n",
       "| 101 | 12724972 | 1415 | Residential | 2018-10-10 | F | 2022-08-15 | 2018-10-10 | 2022-08-25 | 1917-12-15 | 2022-08-30 |\n",
       "| 101 | 13226660 |   64 | Residential | 2018-02-01 | F | 2018-04-15 | 2018-02-01 | 2018-04-06 | 1917-12-15 | 2018-04-07 |\n",
       "| 101 | 13445988 |   32 | Residential | 2017-11-15 | F | 2017-12-15 | 2017-11-15 | 2017-12-17 | 1916-09-15 | NA |\n",
       "| 101 |  6522226 |   97 | Nursing     | 2019-12-24 | F | 2020-03-15 | 2019-12-24 | 2020-03-30 | 1918-10-15 | 2020-04-03 |\n",
       "| 101 | 13453198 |   93 | Residential | 2017-02-02 | F | 2017-05-15 | 2017-02-02 | 2017-05-06 | 1916-07-15 | 2017-05-02 |\n",
       "| 101 | 12856514 |   10 | Nursing     | 2019-05-24 | F | 2019-06-15 | 2019-05-24 | 2019-06-03 | 1918-03-15 | NA |\n",
       "| 101 |   666516 |   54 | Nursing     | 2018-01-16 | F | 2018-03-15 | 2018-01-16 | 2018-03-11 | 1917-05-15 | 2018-01-07 |\n",
       "| 101 | 12479283 |   28 | Residential | 2018-11-01 | F | 2018-11-15 | 2018-11-01 | 2018-11-29 | 1917-12-15 | NA |\n",
       "| 100 | 12618575 |  297 | Residential | 2019-11-12 | F | 2020-09-15 | 2019-11-12 | 2020-09-04 | 1919-02-15 | 2020-09-05 |\n",
       "| 100 | 12849162 |   19 | Nursing     | 2018-01-08 | M | 2018-01-15 | 2018-01-08 | 2018-01-27 | 1918-09-15 | NA |\n",
       "| 100 | 13422929 |   69 | Nursing     | 2019-02-07 | M | 2019-04-15 | 2019-02-07 | 2019-04-17 | 1919-12-15 | 2019-03-07 |\n",
       "| ⋮ | ⋮ | ⋮ | ⋮ | ⋮ | ⋮ | ⋮ | ⋮ | ⋮ | ⋮ | ⋮ |\n",
       "| 25 | 12741400 |  210 | Nursing     | 2016-08-08 | M | NA | 2016-08-08 | 2017-03-06 | 1991-07-15 | NA |\n",
       "| 24 | 13000267 |  215 | Residential | 2017-05-31 | F | NA | 2017-05-31 | 2018-01-01 | 1993-07-15 | NA |\n",
       "| 24 | 12687797 |  191 | Residential | 2017-01-28 | F | NA | 2017-01-28 | 2017-08-07 | 1993-04-15 | NA |\n",
       "| 24 | 13362350 |  151 | Residential | 2018-02-01 | M | NA | 2018-02-01 | 2018-07-02 | 1994-07-15 | NA |\n",
       "| 24 | 13669716 |  952 | Residential | 2016-11-14 | M | NA | 2016-11-14 | 2019-06-24 | 1992-12-15 | NA |\n",
       "| 24 | 13660152 |   NA | Residential | 2019-02-04 | M | NA | 2019-02-04 | NA | 1995-04-15 | NA |\n",
       "| 24 | 12857746 |  936 | Residential | 2019-09-19 | M | 2022-04-15 | 2019-09-19 | 2022-04-12 | 1995-12-15 | NA |\n",
       "| 22 | 13636732 | 1328 | Residential | 2018-07-10 | M | NA | 2018-07-10 | 2022-02-27 | 1996-09-15 | NA |\n",
       "| 21 | 12945702 |  125 | Residential | 2018-08-13 | M | NA | 2018-08-13 | 2018-12-16 | 1997-10-15 | NA |\n",
       "| 21 | 12809527 |  526 | Residential | 2017-06-02 | F | NA | 2017-06-02 | 2018-11-10 | 1996-05-15 | NA |\n",
       "| 21 |     8803 |  693 | Residential | 2017-11-06 | F | NA | 2017-11-06 | 2019-09-30 | 1996-01-15 | NA |\n",
       "| 20 | 12784341 |   10 | Nursing     | 2019-10-31 | M | NA | 2019-10-31 | 2019-11-10 | 1999-02-15 | NA |\n",
       "| 20 | 13043792 |  671 | Residential | 2016-07-22 | M | NA | 2016-07-22 | 2018-05-24 | 1996-09-15 | NA |\n",
       "| 19 | 13685471 | 1037 | Residential | 2016-09-07 | F | NA | 2016-09-07 | 2019-07-11 | 1997-08-15 | NA |\n",
       "| 19 | 12718637 |   79 | Nursing     | 2019-04-01 | M | NA | 2019-04-01 | 2019-06-19 | 2000-03-15 | NA |\n",
       "| 19 | 13707739 | 2166 | Residential | 2016-12-05 | M | NA | 2016-12-05 | 2022-11-10 | 1997-12-15 | NA |\n",
       "| 19 | 13368429 | 1836 | Residential | 2016-10-21 | F | NA | 2016-10-21 | 2021-10-31 | 1997-11-15 | NA |\n",
       "| 19 | 12727242 | 1004 | Residential | 2018-01-24 | M | NA | 2018-01-24 | 2020-10-24 | 1999-05-15 | NA |\n",
       "| 19 | 13650004 | 1486 | Residential | 2017-03-31 | M | NA | 2017-03-31 | 2021-04-25 | 1998-04-15 | NA |\n",
       "| 19 | 13435101 |  929 | Nursing     | 2019-01-12 | M | NA | 2019-01-12 | 2021-07-29 | 2000-12-15 | NA |\n",
       "| 19 | 13660525 | 2309 | Residential | 2016-08-31 | M | NA | 2016-08-31 | 2022-12-27 | 1997-07-15 | NA |\n",
       "| 19 |   182734 | 1044 | Residential | 2016-08-31 | M | NA | 2016-08-31 | 2019-07-11 | 1997-06-15 | NA |\n",
       "| 19 | 12873811 |  202 | Residential | 2017-11-27 | M | NA | 2017-11-27 | 2018-06-17 | 1998-12-15 | NA |\n",
       "| 18 | 12519122 |  946 | Residential | 2017-08-28 | M | NA | 2017-08-28 | 2020-03-31 | 1999-06-15 | NA |\n",
       "| 18 | 12426311 |  323 | Residential | 2018-09-11 | M | NA | 2018-09-11 | 2019-07-31 | 2000-05-15 | NA |\n",
       "| 18 | 12632399 |  213 | Residential | 2017-12-25 | M | NA | 2017-12-25 | 2018-07-26 | 1999-12-15 | NA |\n",
       "| 18 | 13189150 |  390 | Residential | 2016-05-24 | M | NA | 2016-05-24 | 2017-06-18 | 1998-05-15 | NA |\n",
       "| 18 | 13731790 | 1208 | Residential | 2017-06-15 | M | NA | 2017-06-15 | 2020-10-05 | 1999-06-15 | NA |\n",
       "| 18 | 13032234 |   83 | Residential | 2018-09-24 | M | NA | 2018-09-24 | 2018-12-16 | 2000-09-15 | NA |\n",
       "| 18 | 13310167 | 1136 | Residential | 2016-11-04 | F | NA | 2016-11-04 | 2019-12-15 | 1998-11-15 | NA |\n",
       "\n"
      ],
      "text/plain": [
       "     age_admission person_id admission_length admission_service\n",
       "1    110           13165651    70             Residential      \n",
       "2    108           12773259    10             Nursing          \n",
       "3    105           12993099   116             Nursing          \n",
       "4    104           12503132    23             Nursing          \n",
       "5    104           12984164    18             Nursing          \n",
       "6    104           12696288   671             Residential      \n",
       "7    104           12757662   866             Residential      \n",
       "8    104           12606511    85             Residential      \n",
       "9    104           13729945   171             Nursing          \n",
       "10   103             442273   326             Nursing          \n",
       "11   103           13273683    58             Residential      \n",
       "12   103             544561   343             Residential      \n",
       "13   103           12913109   871             Residential      \n",
       "14   103           12584650   585             Residential      \n",
       "15   102           12801304    28             Nursing          \n",
       "16   102           12500037   172             Residential      \n",
       "17   102           12467337   966             Residential      \n",
       "18   101           13361237   180             Residential      \n",
       "19   101           13279677   556             Residential      \n",
       "20   101           12724972  1415             Residential      \n",
       "21   101           13226660    64             Residential      \n",
       "22   101           13445988    32             Residential      \n",
       "23   101            6522226    97             Nursing          \n",
       "24   101           13453198    93             Residential      \n",
       "25   101           12856514    10             Nursing          \n",
       "26   101             666516    54             Nursing          \n",
       "27   101           12479283    28             Residential      \n",
       "28   100           12618575   297             Residential      \n",
       "29   100           12849162    19             Nursing          \n",
       "30   100           13422929    69             Nursing          \n",
       "⋮    ⋮             ⋮         ⋮                ⋮                \n",
       "4019 25            12741400   210             Nursing          \n",
       "4020 24            13000267   215             Residential      \n",
       "4021 24            12687797   191             Residential      \n",
       "4022 24            13362350   151             Residential      \n",
       "4023 24            13669716   952             Residential      \n",
       "4024 24            13660152    NA             Residential      \n",
       "4025 24            12857746   936             Residential      \n",
       "4026 22            13636732  1328             Residential      \n",
       "4027 21            12945702   125             Residential      \n",
       "4028 21            12809527   526             Residential      \n",
       "4029 21                8803   693             Residential      \n",
       "4030 20            12784341    10             Nursing          \n",
       "4031 20            13043792   671             Residential      \n",
       "4032 19            13685471  1037             Residential      \n",
       "4033 19            12718637    79             Nursing          \n",
       "4034 19            13707739  2166             Residential      \n",
       "4035 19            13368429  1836             Residential      \n",
       "4036 19            12727242  1004             Residential      \n",
       "4037 19            13650004  1486             Residential      \n",
       "4038 19            13435101   929             Nursing          \n",
       "4039 19            13660525  2309             Residential      \n",
       "4040 19              182734  1044             Residential      \n",
       "4041 19            12873811   202             Residential      \n",
       "4042 18            12519122   946             Residential      \n",
       "4043 18            12426311   323             Residential      \n",
       "4044 18            12632399   213             Residential      \n",
       "4045 18            13189150   390             Residential      \n",
       "4046 18            13731790  1208             Residential      \n",
       "4047 18            13032234    83             Residential      \n",
       "4048 18            13310167  1136             Residential      \n",
       "     date_of_admission gender death_date episodestartdate episodestopdate\n",
       "1    2017-10-31        F      2018-01-15 2017-10-31       2018-01-09     \n",
       "2    2019-04-05        F      2019-04-15 2019-04-05       2019-04-15     \n",
       "3    2018-07-20        F      2018-11-15 2018-07-20       2018-11-13     \n",
       "4    2019-05-07        F      2019-05-15 2019-05-07       2019-05-30     \n",
       "5    2019-07-10        F      2019-07-15 2019-07-10       2019-07-28     \n",
       "6    2019-08-23        F      2021-06-15 2019-08-23       2021-06-24     \n",
       "7    2019-10-03        F      2022-02-15 2019-10-03       2022-02-15     \n",
       "8    2019-02-06        F      2019-05-15 2019-02-06       2019-05-02     \n",
       "9    2018-09-03        F      2019-02-15 2018-09-03       2019-02-21     \n",
       "10   2016-12-13        F      2017-11-15 2016-12-13       2017-11-04     \n",
       "11   2019-07-31        F      2019-10-15 2019-07-31       2019-09-27     \n",
       "12   2019-12-02        F      2020-11-15 2019-12-02       2020-11-09     \n",
       "13   2019-05-01        F      2021-09-15 2019-05-01       2021-09-18     \n",
       "14   2018-06-01        F      2020-01-15 2018-06-01       2020-01-07     \n",
       "15   2017-01-19        F      2017-02-15 2017-01-19       2017-02-16     \n",
       "16   2019-08-14        F      2020-02-15 2019-08-14       2020-02-02     \n",
       "17   2018-12-09        F      2021-08-15 2018-12-09       2021-08-01     \n",
       "18   2017-02-08        F      2017-08-15 2017-02-08       2017-08-07     \n",
       "19   2017-11-03        F      2019-05-15 2017-11-03       2019-05-13     \n",
       "20   2018-10-10        F      2022-08-15 2018-10-10       2022-08-25     \n",
       "21   2018-02-01        F      2018-04-15 2018-02-01       2018-04-06     \n",
       "22   2017-11-15        F      2017-12-15 2017-11-15       2017-12-17     \n",
       "23   2019-12-24        F      2020-03-15 2019-12-24       2020-03-30     \n",
       "24   2017-02-02        F      2017-05-15 2017-02-02       2017-05-06     \n",
       "25   2019-05-24        F      2019-06-15 2019-05-24       2019-06-03     \n",
       "26   2018-01-16        F      2018-03-15 2018-01-16       2018-03-11     \n",
       "27   2018-11-01        F      2018-11-15 2018-11-01       2018-11-29     \n",
       "28   2019-11-12        F      2020-09-15 2019-11-12       2020-09-04     \n",
       "29   2018-01-08        M      2018-01-15 2018-01-08       2018-01-27     \n",
       "30   2019-02-07        M      2019-04-15 2019-02-07       2019-04-17     \n",
       "⋮    ⋮                 ⋮      ⋮          ⋮                ⋮              \n",
       "4019 2016-08-08        M      <NA>       2016-08-08       2017-03-06     \n",
       "4020 2017-05-31        F      <NA>       2017-05-31       2018-01-01     \n",
       "4021 2017-01-28        F      <NA>       2017-01-28       2017-08-07     \n",
       "4022 2018-02-01        M      <NA>       2018-02-01       2018-07-02     \n",
       "4023 2016-11-14        M      <NA>       2016-11-14       2019-06-24     \n",
       "4024 2019-02-04        M      <NA>       2019-02-04       <NA>           \n",
       "4025 2019-09-19        M      2022-04-15 2019-09-19       2022-04-12     \n",
       "4026 2018-07-10        M      <NA>       2018-07-10       2022-02-27     \n",
       "4027 2018-08-13        M      <NA>       2018-08-13       2018-12-16     \n",
       "4028 2017-06-02        F      <NA>       2017-06-02       2018-11-10     \n",
       "4029 2017-11-06        F      <NA>       2017-11-06       2019-09-30     \n",
       "4030 2019-10-31        M      <NA>       2019-10-31       2019-11-10     \n",
       "4031 2016-07-22        M      <NA>       2016-07-22       2018-05-24     \n",
       "4032 2016-09-07        F      <NA>       2016-09-07       2019-07-11     \n",
       "4033 2019-04-01        M      <NA>       2019-04-01       2019-06-19     \n",
       "4034 2016-12-05        M      <NA>       2016-12-05       2022-11-10     \n",
       "4035 2016-10-21        F      <NA>       2016-10-21       2021-10-31     \n",
       "4036 2018-01-24        M      <NA>       2018-01-24       2020-10-24     \n",
       "4037 2017-03-31        M      <NA>       2017-03-31       2021-04-25     \n",
       "4038 2019-01-12        M      <NA>       2019-01-12       2021-07-29     \n",
       "4039 2016-08-31        M      <NA>       2016-08-31       2022-12-27     \n",
       "4040 2016-08-31        M      <NA>       2016-08-31       2019-07-11     \n",
       "4041 2017-11-27        M      <NA>       2017-11-27       2018-06-17     \n",
       "4042 2017-08-28        M      <NA>       2017-08-28       2020-03-31     \n",
       "4043 2018-09-11        M      <NA>       2018-09-11       2019-07-31     \n",
       "4044 2017-12-25        M      <NA>       2017-12-25       2018-07-26     \n",
       "4045 2016-05-24        M      <NA>       2016-05-24       2017-06-18     \n",
       "4046 2017-06-15        M      <NA>       2017-06-15       2020-10-05     \n",
       "4047 2018-09-24        M      <NA>       2018-09-24       2018-12-16     \n",
       "4048 2016-11-04        F      <NA>       2016-11-04       2019-12-15     \n",
       "     birth_date ob_period_end_date\n",
       "1    1907-09-15 2018-01-09        \n",
       "2    1911-07-15 <NA>              \n",
       "3    1913-03-15 2018-09-21        \n",
       "4    1915-06-15 <NA>              \n",
       "5    1915-11-15 <NA>              \n",
       "6    1915-11-15 2021-06-03        \n",
       "7    1915-09-15 2022-02-16        \n",
       "8    1915-02-15 2019-05-02        \n",
       "9    1914-10-15 2019-02-20        \n",
       "10   1913-01-15 2016-10-27        \n",
       "11   1916-12-15 2019-09-27        \n",
       "12   1916-07-15 2020-11-10        \n",
       "13   1916-02-15 2021-09-20        \n",
       "14   1915-04-15 2020-01-08        \n",
       "15   1915-01-15 <NA>              \n",
       "16   1917-10-15 2020-02-05        \n",
       "17   1916-04-15 2021-07-29        \n",
       "18   1916-12-15 2017-08-08        \n",
       "19   1916-12-15 2019-05-13        \n",
       "20   1917-12-15 2022-08-30        \n",
       "21   1917-12-15 2018-04-07        \n",
       "22   1916-09-15 <NA>              \n",
       "23   1918-10-15 2020-04-03        \n",
       "24   1916-07-15 2017-05-02        \n",
       "25   1918-03-15 <NA>              \n",
       "26   1917-05-15 2018-01-07        \n",
       "27   1917-12-15 <NA>              \n",
       "28   1919-02-15 2020-09-05        \n",
       "29   1918-09-15 <NA>              \n",
       "30   1919-12-15 2019-03-07        \n",
       "⋮    ⋮          ⋮                 \n",
       "4019 1991-07-15 <NA>              \n",
       "4020 1993-07-15 <NA>              \n",
       "4021 1993-04-15 <NA>              \n",
       "4022 1994-07-15 <NA>              \n",
       "4023 1992-12-15 <NA>              \n",
       "4024 1995-04-15 <NA>              \n",
       "4025 1995-12-15 <NA>              \n",
       "4026 1996-09-15 <NA>              \n",
       "4027 1997-10-15 <NA>              \n",
       "4028 1996-05-15 <NA>              \n",
       "4029 1996-01-15 <NA>              \n",
       "4030 1999-02-15 <NA>              \n",
       "4031 1996-09-15 <NA>              \n",
       "4032 1997-08-15 <NA>              \n",
       "4033 2000-03-15 <NA>              \n",
       "4034 1997-12-15 <NA>              \n",
       "4035 1997-11-15 <NA>              \n",
       "4036 1999-05-15 <NA>              \n",
       "4037 1998-04-15 <NA>              \n",
       "4038 2000-12-15 <NA>              \n",
       "4039 1997-07-15 <NA>              \n",
       "4040 1997-06-15 <NA>              \n",
       "4041 1998-12-15 <NA>              \n",
       "4042 1999-06-15 <NA>              \n",
       "4043 2000-05-15 <NA>              \n",
       "4044 1999-12-15 <NA>              \n",
       "4045 1998-05-15 <NA>              \n",
       "4046 1999-06-15 <NA>              \n",
       "4047 2000-09-15 <NA>              \n",
       "4048 1998-11-15 <NA>              "
      ]
     },
     "metadata": {},
     "output_type": "display_data"
    }
   ],
   "source": [
    "sql_data_1"
   ]
  },
  {
   "cell_type": "code",
   "execution_count": 12,
   "id": "ffbe9497-c169-48e9-a6f1-73950d898b72",
   "metadata": {},
   "outputs": [],
   "source": [
    "#how many aged less than 65 "
   ]
  },
  {
   "cell_type": "code",
   "execution_count": 52,
   "id": "b78b21c5-62df-4f47-9c21-49fc8d6ce15b",
   "metadata": {
    "tags": []
   },
   "outputs": [
    {
     "data": {
      "text/html": [
       "370"
      ],
      "text/latex": [
       "370"
      ],
      "text/markdown": [
       "370"
      ],
      "text/plain": [
       "[1] 370"
      ]
     },
     "metadata": {},
     "output_type": "display_data"
    }
   ],
   "source": [
    "sql_data_below_65 <- sql_data_1 %>% filter(age_admission < 65)\n",
    "n_distinct(sql_data_below_65$person_id)"
   ]
  },
  {
   "cell_type": "code",
   "execution_count": 53,
   "id": "df40fb54-dcea-406e-bea2-1703c18c36e6",
   "metadata": {
    "tags": []
   },
   "outputs": [
    {
     "data": {
      "text/html": [
       "3678"
      ],
      "text/latex": [
       "3678"
      ],
      "text/markdown": [
       "3678"
      ],
      "text/plain": [
       "[1] 3678"
      ]
     },
     "metadata": {},
     "output_type": "display_data"
    }
   ],
   "source": [
    "sql_data_above_sixtyfive <- sql_data_1 %>% filter(age_admission >= 65) \n",
    "sql_data_above_sixtyfive %>% n_distinct()\n"
   ]
  },
  {
   "cell_type": "code",
   "execution_count": 15,
   "id": "3c8228b7-f703-42c7-9f75-b1f5ea3704f9",
   "metadata": {},
   "outputs": [],
   "source": [
    "#here we bring in the mortality data to reduce number of missig death dates "
   ]
  },
  {
   "cell_type": "code",
   "execution_count": 54,
   "id": "ed6680f6-3f15-4358-ae9b-ec7aa1b5298a",
   "metadata": {
    "tags": []
   },
   "outputs": [
    {
     "name": "stderr",
     "output_type": "stream",
     "text": [
      "Auto-refreshing stale OAuth token.\n",
      "\n"
     ]
    }
   ],
   "source": [
    "sql_death <- paste('\n",
    "with a as (SELECT cast(person_id as BIGNUMERIC) person_id,\n",
    "dod,\n",
    "tbl_NEC_Deaths,\n",
    "reg_date,\n",
    "rank() over(partition by person_id order by dod desc, reg_date desc) as rank_seq\n",
    "from ',targetdb1,'.tbl_NEC_Deaths\n",
    "where cast(person_id as BIGNUMERIC) in (SELECT person_id from ',targetdb1,'.person where death_datetime is null)),\n",
    "\n",
    "b as (\n",
    "select\n",
    "*,\n",
    "row_number() over(partition by person_id order by person_id) as rank_seq_2\n",
    "from a \n",
    "where rank_seq = 1)\n",
    "\n",
    "select \n",
    "person_id, dod,reg_date from b \n",
    "where rank_seq_2 = 1 \n",
    "order by person_id \n",
    ";',sep=\"\")\n",
    "\n",
    "tbl_death <-bq_project_query(ProjectId,sql_death)\n",
    "ch_death<- bq_table_download(tbl_death)\n",
    "\n"
   ]
  },
  {
   "cell_type": "code",
   "execution_count": 55,
   "id": "0224e409-d621-4c06-bed4-d304f4052176",
   "metadata": {
    "tags": []
   },
   "outputs": [],
   "source": [
    "ch_death <- ch_death %>% mutate(date_death = ifelse(is.na(dod), reg_date,dod))"
   ]
  },
  {
   "cell_type": "code",
   "execution_count": 56,
   "id": "38f3123b-4c05-4f96-926e-1b8d9c98fba9",
   "metadata": {
    "tags": []
   },
   "outputs": [],
   "source": [
    "ch_death$date_death <- as_date(ch_death$date_death)\n",
    "    ch_death$person_id <- as.numeric(ch_death$person_id)"
   ]
  },
  {
   "cell_type": "code",
   "execution_count": 19,
   "id": "5cb95e7d-b517-4033-b73f-61439b215d72",
   "metadata": {},
   "outputs": [],
   "source": [
    "## join death certificate tibble to the deathdate in the master cohort table "
   ]
  },
  {
   "cell_type": "code",
   "execution_count": 57,
   "id": "305458e6-e456-4d30-a563-c50e4e1e0a5a",
   "metadata": {
    "tags": []
   },
   "outputs": [],
   "source": [
    "ch_death_filter <- ch_death %>% select(person_id,date_death)\n",
    "sql_data_above_sixtyfive <- left_join(sql_data_above_sixtyfive,ch_death_filter,by='person_id')"
   ]
  },
  {
   "cell_type": "code",
   "execution_count": 58,
   "id": "6ac20ec9-f24b-4e31-a4f4-1833b51f70a2",
   "metadata": {
    "tags": []
   },
   "outputs": [],
   "source": [
    "sql_data_above_sixtyfive <- sql_data_above_sixtyfive %>%\n",
    "mutate(dod = coalesce(sql_data_above_sixtyfive$death_date,sql_data_above_sixtyfive$date_death))%>% \n",
    "select(-death_date,-date_death)\n"
   ]
  },
  {
   "cell_type": "code",
   "execution_count": 59,
   "id": "58e13825-7b17-4455-acd4-91a0e610f47e",
   "metadata": {
    "tags": []
   },
   "outputs": [],
   "source": [
    "sql_data_above_sixtyfive <- sql_data_above_sixtyfive %>% mutate(mortality = dod-episodestartdate)"
   ]
  },
  {
   "cell_type": "code",
   "execution_count": 60,
   "id": "f45b1701-2777-49bf-9bc6-25861e3fd331",
   "metadata": {
    "tags": []
   },
   "outputs": [],
   "source": [
    "alive_morethan_6weeks <- sql_data_above_sixtyfive %>% filter((mortality > 42) |is.na(dod))"
   ]
  },
  {
   "cell_type": "code",
   "execution_count": 61,
   "id": "8a6a2b9f-c271-4631-9836-4e369be7b1ab",
   "metadata": {
    "tags": []
   },
   "outputs": [
    {
     "data": {
      "text/html": [
       "3036"
      ],
      "text/latex": [
       "3036"
      ],
      "text/markdown": [
       "3036"
      ],
      "text/plain": [
       "[1] 3036"
      ]
     },
     "metadata": {},
     "output_type": "display_data"
    }
   ],
   "source": [
    "alive_morethan_6weeks %>% n_distinct()"
   ]
  },
  {
   "cell_type": "code",
   "execution_count": 62,
   "id": "200716ba-fb94-462f-8262-c3c1157dca18",
   "metadata": {
    "tags": []
   },
   "outputs": [],
   "source": [
    "##next we remove anyone who was discharged within 42 days or died within 42 days\n",
    "#first we calculate the number and then remove anyone who died within 42 days \n",
    "long_stay_resident <- alive_morethan_6weeks %>% filter(episodestopdate > (episodestartdate + ddays(x=42)))\n"
   ]
  },
  {
   "cell_type": "code",
   "execution_count": 26,
   "id": "a68abf83-4ccf-468f-902d-037fbaf54abb",
   "metadata": {},
   "outputs": [],
   "source": [
    "#second, of  those remaining, we calculate and remove those who had a recorded legnth of stay of 42 days or less. \n",
    "#the two figures combined (number died withi 42 days and number discharged alive) gives the total number filtered at this stage. "
   ]
  },
  {
   "cell_type": "code",
   "execution_count": 63,
   "id": "3a2d5e38-a722-44b8-87a9-d40e78bfa14f",
   "metadata": {
    "tags": []
   },
   "outputs": [
    {
     "data": {
      "text/html": [
       "2910"
      ],
      "text/latex": [
       "2910"
      ],
      "text/markdown": [
       "2910"
      ],
      "text/plain": [
       "[1] 2910"
      ]
     },
     "metadata": {},
     "output_type": "display_data"
    }
   ],
   "source": [
    "long_stay_resident %>% n_distinct()"
   ]
  },
  {
   "cell_type": "markdown",
   "id": "f2fa9369-7c40-44ad-a057-f0984862d6ae",
   "metadata": {
    "tags": []
   },
   "source": [
    "## ghostbusting"
   ]
  },
  {
   "cell_type": "code",
   "execution_count": 28,
   "id": "041eaf1b-da3b-4ecf-8ea3-402065f7ec94",
   "metadata": {},
   "outputs": [],
   "source": [
    "# we identified anyone with missing primary care data and removed them, \n",
    "# this is most likely because whilst they are recieving social care funding from the bradford local authorty they are not registered to a GP contributing to Connected Bradford. "
   ]
  },
  {
   "cell_type": "markdown",
   "id": "3c3850de-4a9b-4298-a86d-73c21f74f7b9",
   "metadata": {},
   "source": [
    "first get rid of anyone who doesn't appear in the primary care dataset "
   ]
  },
  {
   "cell_type": "markdown",
   "id": "e514d71a-467c-438f-b228-a709335d96d4",
   "metadata": {},
   "source": [
    "i then calculate follow-up period for the care home cohort hypertension analysis. Follow-up is based on the observation period recorded in connected bradford for the primary care. The observation period is defined as spans of time during which two conditions are expected to hold: (i) Clinical Events that happened to the person are recorded in the Event tables, and (ii) absence of records indicate such Events did not occur during this span of time. A person's follow-up period is defined as the time up until obersvation period end date in primary care. This project pulls data from mutliple different datasets i.e. primary,secondary,social care datasets: the follow-up times in these datasets may vary for any given individual, however I chose primary care on the basis that if someone is registered to a GP in bradford, if they had any clinical event requiring secondary care data they would be picked up by the secondary care datasets."
   ]
  },
  {
   "cell_type": "markdown",
   "id": "8f2f2db7-619c-4e84-a7c7-d1b88bdde1a8",
   "metadata": {},
   "source": [
    "first remove those whose primary car eobservation period date ended before care home admission date, this was only 19 people "
   ]
  },
  {
   "cell_type": "code",
   "execution_count": 64,
   "id": "950080e2-20c3-4328-bd7b-f5645ae23a3e",
   "metadata": {
    "tags": []
   },
   "outputs": [],
   "source": [
    "#care_home_cohort_clean_1 <- long_stay_resident %>% \n",
    "#filter(!(long_stay_resident$person_id %in% tbl_missing$primary_care_person))\n",
    "\n",
    "#add in follow-up duration variable \n",
    "\n",
    "care_home_cohort_clean_1 <- long_stay_resident %>% mutate(fu_period = (ob_period_end_date - episodestartdate))"
   ]
  },
  {
   "cell_type": "markdown",
   "id": "46f4a5ab-6ca1-4916-abc3-d2bd20489e81",
   "metadata": {},
   "source": [
    "the 'ghosts' are those who had a missing death date "
   ]
  },
  {
   "cell_type": "code",
   "execution_count": 66,
   "id": "63eb8014-55a6-4f2a-99d0-fbed89251868",
   "metadata": {},
   "outputs": [],
   "source": [
    "#send the final care home cohort back to bigquery as a table so it can be ran through the other queries\n",
    "care_home_cohort_clean_1$mortality <- as.numeric(care_home_cohort_clean_1$mortality)"
   ]
  },
  {
   "cell_type": "markdown",
   "id": "1a1e195b-da6e-417d-8104-c3b8de849850",
   "metadata": {},
   "source": [
    "add in a new variable that distinugihses whether the person died during follow-up, whether the person was alive at the end of FU (defined as end of obsevation period) or lost-to-follow-up based on follow up until 1st january 2024"
   ]
  },
  {
   "cell_type": "code",
   "execution_count": 85,
   "id": "bc63fc5c-4903-4956-ba1f-490d29f6c0d6",
   "metadata": {
    "tags": []
   },
   "outputs": [],
   "source": [
    "care_home_cohort_clean_2 <- care_home_cohort_clean_1 %>%\n",
    "  mutate(end_of_fu_status = case_when(\n",
    "    is.na(dod) & !is.na(ob_period_end_date) ~ 'survived',\n",
    "    !is.na(dod) ~ 'died',\n",
    "    is.na(dod) & (is.na(ob_period_end_date) | ob_period_end_date > as_date(19724)) ~ 'lost to follow up'\n",
    "  )) \n",
    "\n",
    "care_home_cohort_clean_2$end_of_fu_status <- as.factor(care_home_cohort_clean_2$end_of_fu_status)"
   ]
  },
  {
   "cell_type": "code",
   "execution_count": 32,
   "id": "fcaa0b66-24c7-4174-83f2-ddb1760d5198",
   "metadata": {
    "tags": []
   },
   "outputs": [],
   "source": [
    "#bigquery doesn't like the difftime vectors so i need to conert them into numeric units \n",
    "#so i can send it back to bigquery \n",
    "#i then also created a new vector which is follow-up duration, this is either the date of death or last observation date (if they had no death date) subtracted from the ch admission date \n",
    "#to calculat ethe median follow-up. i also got rid of some defunct vectors to keep things tidy"
   ]
  },
  {
   "cell_type": "code",
   "execution_count": 86,
   "id": "b4c01489-8436-405f-be81-0a9b3d7ff6d6",
   "metadata": {
    "tags": []
   },
   "outputs": [],
   "source": [
    "care_home_cohort_clean_2$mortality <- as.numeric(care_home_cohort_clean_2$mortality)\n",
    "care_home_cohort_clean_2$fu_period <- as.numeric(care_home_cohort_clean_2$fu_period)\n",
    "care_home_cohort_clean_3 <- care_home_cohort_clean_2 %>% \n",
    "mutate(fu_end_date=(coalesce(care_home_cohort_clean_2$dod,care_home_cohort_clean_2$ob_period_end_date))) \n",
    "care_home_cohort_clean_4 <- care_home_cohort_clean_3 %>% select(-fu_period,-ob_period_end_date,-admission_length) %>% \n",
    "mutate(fu_duration= fu_end_date - episodestartdate)\n",
    "care_home_cohort_clean_4$fu_duration <- as.numeric(care_home_cohort_clean_4$fu_duration)\n"
   ]
  },
  {
   "cell_type": "code",
   "execution_count": 34,
   "id": "e66f5fa5-efd9-47ba-a10e-14c7461ebe66",
   "metadata": {
    "tags": []
   },
   "outputs": [],
   "source": [
    "#for the next section i had to re-run some code after connected bradford had moved over to trust servers, but i did not have all the data i wanted available. this meant i had to try and subset what i did have by the hypertension cohort table to \n",
    "#to do the final analysis "
   ]
  },
  {
   "cell_type": "code",
   "execution_count": 87,
   "id": "f7572c6c-21df-4663-a146-6849dbad5571",
   "metadata": {
    "tags": []
   },
   "outputs": [],
   "source": [
    "sql_htn <- paste('\n",
    "select\n",
    "person_id\n",
    "from ',targetdb1,'.cb_2172_hypertension_combined\n",
    "where hypertension = TRUE\n",
    "                     ;',sep=\"\")\n",
    "\n",
    "tbl_htn <-bq_project_query(ProjectId,sql_htn)\n",
    "tbl_htn <- bq_table_download(tbl_htn)"
   ]
  },
  {
   "cell_type": "code",
   "execution_count": 88,
   "id": "1fbf493b-2401-46f5-bb4a-c8917298a094",
   "metadata": {
    "tags": []
   },
   "outputs": [],
   "source": [
    "#subset cohort by those with hypertension diagnosis\n",
    "care_home_cohort_htn <- care_home_cohort_clean_4 %>% filter(person_id %in% tbl_htn$person_id)"
   ]
  },
  {
   "cell_type": "code",
   "execution_count": 90,
   "id": "751d06e4-7556-418e-b183-30ec543c7147",
   "metadata": {
    "tags": []
   },
   "outputs": [
    {
     "data": {
      "text/plain": [
       ".\n",
       "             died lost to follow up          survived \n",
       "             1965                 1                62 "
      ]
     },
     "metadata": {},
     "output_type": "display_data"
    }
   ],
   "source": [
    "care_home_cohort_htn$end_of_fu_status %>% table()"
   ]
  },
  {
   "cell_type": "code",
   "execution_count": 91,
   "id": "07b80a0b-e3e0-49a6-9140-30977f805cef",
   "metadata": {
    "tags": []
   },
   "outputs": [],
   "source": [
    "#remove those with fu end date before episode startdate\n",
    "care_home_cohort_htn_missing <- care_home_cohort_htn %>% filter(!is.na(fu_end_date)) %>% filter(episodestartdate > fu_end_date) "
   ]
  },
  {
   "cell_type": "code",
   "execution_count": 92,
   "id": "97a553a1-41a2-4593-929a-cf872fb8e7aa",
   "metadata": {
    "tags": []
   },
   "outputs": [],
   "source": [
    "care_home_cohort_htn_clean <- care_home_cohort_htn %>% filter(!(person_id %in% care_home_cohort_htn_missing$person_id))"
   ]
  },
  {
   "cell_type": "code",
   "execution_count": 40,
   "id": "b598028c-7718-42a5-977c-b6946cfe4bf0",
   "metadata": {},
   "outputs": [],
   "source": [
    "#next is to calculate the median follow-up time"
   ]
  },
  {
   "cell_type": "code",
   "execution_count": 93,
   "id": "0b85ee75-e6ce-46a5-99a1-073b7cdb024d",
   "metadata": {
    "tags": []
   },
   "outputs": [],
   "source": [
    "mybq = bq_table(project='yhcr-prd-bradfor-bia-core', dataset='CB_2172', table='care_home_cohort_v1')\n",
    "bq_table_upload(x= mybq, values= care_home_cohort_htn_clean, create_disposition='CREATE_IF_NEEDED', \n",
    "             write_disposition='WRITE_TRUNCATE')"
   ]
  },
  {
   "cell_type": "markdown",
   "id": "16a6c87d-916f-4d8c-aa11-e9dba703d930",
   "metadata": {},
   "source": [
    "in this next section we will calculate the follow-up period for the care home residents based on the primary care end observation date "
   ]
  }
 ],
 "metadata": {
  "environment": {
   "kernel": "matthew_r_env",
   "name": "workbench-notebooks.m129",
   "type": "gcloud",
   "uri": "us-docker.pkg.dev/deeplearning-platform-release/gcr.io/workbench-notebooks:m129"
  },
  "kernelspec": {
   "display_name": "matthew_r_env",
   "language": "R",
   "name": "matthew_r_env"
  },
  "language_info": {
   "codemirror_mode": "r",
   "file_extension": ".r",
   "mimetype": "text/x-r-source",
   "name": "R",
   "pygments_lexer": "r",
   "version": "4.4.2"
  }
 },
 "nbformat": 4,
 "nbformat_minor": 5
}
