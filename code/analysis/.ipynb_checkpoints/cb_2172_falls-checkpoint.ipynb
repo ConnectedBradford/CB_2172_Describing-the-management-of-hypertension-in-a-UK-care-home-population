{
 "cells": [
  {
   "cell_type": "markdown",
   "id": "64de9632-01f6-4dbc-b710-1eada806a983",
   "metadata": {
    "jp-MarkdownHeadingCollapsed": true,
    "tags": []
   },
   "source": [
    "### original SQL query "
   ]
  },
  {
   "cell_type": "raw",
   "id": "dc292422-4d18-44ce-83d7-b60aebfcc879",
   "metadata": {},
   "source": [
    "#combined bradford and airedale SQL queries for injurious falls \n",
    "create or replace table `yhcr-prd-bradfor-bia-core.CB_2172.cb_2172_injurious_falls_v3` as (\n",
    "with fall_aire as  \n",
    "(\n",
    "with episode_ch_cohort_2015 as (\n",
    "select \n",
    "person_id, \n",
    "tbl_SUS_Airedale_EC_BackwardCompatible_20150401_to_20190131_start_date as episode_start, \n",
    "tbl_SUS_Airedale_EC_BackwardCompatible_20150401_to_20190131_end_date as episode_end, \n",
    "1 as episode_sequence, \n",
    "rtrim(diag1,'X') as diagnosis_1, \n",
    "rtrim(diag2,'X') as diagnosis_2,\n",
    "rtrim(diag3,'X') as diagnosis_3, \n",
    "from `yhcr-prd-bradfor-bia-core.CB_FDM_Airedale.tbl_SUS_Airedale_EC_BackwardCompatible_20150401_to_20190131`\n",
    "where person_id in(select person_id from `yhcr-prd-bradfor-bia-core.CB_2172.care_home_cohort_v1` )),\n",
    "\n",
    "episode_ch_cohort_2019 as (\n",
    "  select \n",
    "person_id, \n",
    "tbl_SUS_Airedale_APC_20190201_to_20200630_start_date as episode_start, \n",
    "tbl_SUS_Airedale_APC_20190201_to_20200630_end_date as episode_end, \n",
    "cast(ep_no as INT64) as episode_sequence, \n",
    "rtrim(diag1,'X') as diagnosis_1, \n",
    "rtrim(diag2,'X') as diagnosis_2,\n",
    "rtrim(diag3,'X') as diagnosis_3, \n",
    "from `yhcr-prd-bradfor-bia-core.CB_FDM_Airedale.tbl_SUS_Airedale_APC_20190201_to_20200630`\n",
    "where person_id in(select person_id from `yhcr-prd-bradfor-bia-core.CB_2172.care_home_cohort_v1`)\n",
    "),\n",
    "\n",
    "episode_ch_cohort_2020 as (\n",
    "  select \n",
    "person_id, \n",
    "tbl_SUS_Airedale_APC_20200701_to_20220710_mrg_start_date as episode_start, \n",
    "tbl_SUS_Airedale_APC_20200701_to_20220710_mrg_end_date as episode_end, \n",
    "cast(ep_no as INT64) as episode_sequence, \n",
    "rtrim(diag1,'X') as diagnosis_1, \n",
    "rtrim(diag2,'X') as diagnosis_2,\n",
    "rtrim(diag3,'X') as diagnosis_3, \n",
    "from `yhcr-prd-bradfor-bia-core.CB_FDM_Airedale.tbl_SUS_Airedale_APC_20200701_to_20220710_mrg`\n",
    "where person_id in(select person_id from `yhcr-prd-bradfor-bia-core.CB_2172.care_home_cohort_v1`)\n",
    "),\n",
    "#for some reason the airedale hospital records are split into prea nd post 2019 so i had to combine the two tables toether to ensure no episodes were missed \n",
    "\n",
    "episode_ch_cohort_combined as (\n",
    "  select\n",
    "  * \n",
    "  from episode_ch_cohort_2015\n",
    "\n",
    "  union all\n",
    "\n",
    "  select\n",
    "  * \n",
    "  from episode_ch_cohort_2019\n",
    "\n",
    "  union all\n",
    "\n",
    "  select\n",
    "  *\n",
    "  from episode_ch_cohort_2020\n",
    "),\n",
    "\n",
    "\n",
    "#joins care home entry date from the master cohort table \n",
    "episode_entrydate_join as (\n",
    "  select \n",
    "  e_c.*,\n",
    "  cast(a.first_episodestartdate as datetime) first_episodestartdate\n",
    "  from episode_ch_cohort_combined as e_c\n",
    "  left join `yhcr-prd-bradfor-bia-core.CB_2172.care_home_cohort_v1` a\n",
    "  on e_c.person_id = a.person_id),\n",
    "#filters out episodes which began after the admission date to a care home\n",
    "episode_ch_filtered_ae as (\n",
    "  select\n",
    "e_e_j.*\n",
    "  from episode_entrydate_join e_e_j\n",
    "  where (episode_start > first_episodestartdate) AND (datetime_diff(episode_start,first_episodestartdate, day) < 366)\n",
    "),\n",
    "#filter for the first episode in a spell as to avoid inpatient falls being inadvertently captured. \n",
    "episode_ch_final_ae as (\n",
    "select \n",
    "person_id, \n",
    "first_episodestartdate,\n",
    "substr(diagnosis_1,1,3) as diagnosis_1_substr,\n",
    "substr(diagnosis_2,1,3) as diagnosis_2_substr,\n",
    "substr(diagnosis_3,1,3) as diagnosis_3_substr,\n",
    "episode_start,\n",
    "episode_end,   \n",
    "from episode_ch_filtered_ae\n",
    "where episode_sequence = 1\n",
    "order by person_id),\n",
    "#up to this point reprents the code to identify and clean alll seocndary inpatient episodes for indiivudals in the connected bradford cohort in the 12 months after admission,the next line of code will identify admission related to falls, will then union this with a table for falls in AE\n",
    "\n",
    "fall_ch as (\n",
    "select\n",
    "*,\n",
    "#this line ranks episodes according to the date they occurred for each person, this way we can identify the most recent hospital attendance following admission \n",
    "row_number() over (partition by person_id order by episode_start) as admission_seq\n",
    "from episode_ch_final_ae \n",
    "where episode_ch_final_ae.diagnosis_1_substr in(select Code from `yhcr-prd-bradfor-bia-core.CB_2172.falls__fragilityfracture_icd10`) OR diagnosis_2_substr in(select Code from `yhcr-prd-bradfor-bia-core.CB_2172.falls__fragilityfracture_icd10`) OR diagnosis_3_substr in(select Code from `yhcr-prd-bradfor-bia-core.CB_2172.falls__fragilityfracture_icd10`)\n",
    "order by person_id)\n",
    "#this then filters for the first hopsital spell with a fall coded in any of the diagnosis codes. it is theoretically possible that a patient had an inpatient fall which was coded in the co-moribidities rather than the primary reason for presntation, but it is assumed the margin of error is relatively small.\n",
    "\n",
    "select\n",
    "*\n",
    "from fall_ch\n",
    "where admission_seq = 1),\n",
    "\n",
    "fall_bradford as (\n",
    "  with episode_ch_cohort_ae as (\n",
    "select \n",
    "person_id, \n",
    "tbl_ae_start_date, \n",
    "tbl_ae_end_date, \n",
    "rtrim(diagnosis_1,'X') as diagnosis_1, \n",
    "rtrim(diagnosis_2,'X') as diagnosis_2,\n",
    "rtrim(diagnosis_3,'X') as diagnosis_3, \n",
    "from `yhcr-prd-bradfor-bia-core.CB_FDM_BradfordRoyalInfirmary.tbl_ae`\n",
    "where person_id in(select person_id from `yhcr-prd-bradfor-bia-core.CB_2172.care_home_cohort_v1` )),\n",
    "\n",
    "#joins care home entry date from the master cohort table \n",
    "episode_entrydate_join_ae as (\n",
    "  select \n",
    "  e_c.*,\n",
    "  cast(a.first_episodestartdate as datetime) first_episodestartdate\n",
    "  from episode_ch_cohort_ae as e_c\n",
    "  left join `yhcr-prd-bradfor-bia-core.CB_2172.care_home_cohort_v1` a\n",
    "  on e_c.person_id = a.person_id),\n",
    "#filters out episodes which began after the admission date to a care home\n",
    "episode_ch_filtered_ae as (\n",
    "  select\n",
    "e_e_j.*\n",
    "  from episode_entrydate_join_ae e_e_j\n",
    "  where (tbl_ae_start_date > first_episodestartdate) AND (datetime_diff(tbl_ae_start_date, first_episodestartdate, day) < 366 )\n",
    "),\n",
    "#filter for the first episode in a spell and extract the first three characters from each icd10 diagnosis code (not interested in the fourth character code for falls code)\n",
    "episode_ch_final_ae as (\n",
    "select \n",
    "person_id, \n",
    "first_episodestartdate,\n",
    "diagnosis_1,\n",
    "diagnosis_2,\n",
    "diagnosis_3,\n",
    "tbl_ae_start_date,\n",
    "tbl_ae_end_date,   \n",
    "substr(diagnosis_1,1,3) as diagnosis_1_substr,\n",
    "substr(diagnosis_2,1,3) as diagnosis_2_substr,\n",
    "substr(diagnosis_3,1,3) as diagnosis_3_substr,\n",
    "from episode_ch_filtered_ae\n",
    "order by person_id),\n",
    "#up to this point reprents the code to identify and clean all seocndary inpatient episodes for indiivudals in the connected bradford cohort in the 12 months after admission,the next line of code will identify admission related to falls, will then union this with a table for falls in AE. admissions related to falls was defined as any admission with a SNOMED OR ICD10 code available. \n",
    "\n",
    "fall_ch_ae as (\n",
    "select\n",
    "*,\n",
    "row_number() over (partition by person_id order by tbl_ae_start_date) as admission_seq\n",
    "from episode_ch_final_ae \n",
    "where episode_ch_final_ae.diagnosis_1_substr in(select Code from `yhcr-prd-bradfor-bia-core.CB_2172.falls__fragilityfracture_icd10`) OR episode_ch_final_ae.diagnosis_2_substr in(select Code from `yhcr-prd-bradfor-bia-core.CB_2172.falls__fragilityfracture_icd10`) OR diagnosis_3_substr in(select Code from `yhcr-prd-bradfor-bia-core.CB_2172.falls__fragilityfracture_icd10`) or diagnosis_1_substr in(select cast(code as string) from `yhcr-prd-bradfor-bia-core.CB_2172.falls_snomed` ) or diagnosis_2_substr in(select cast(code as string) from `yhcr-prd-bradfor-bia-core.CB_2172.falls_snomed` ) or diagnosis_3_substr in(select cast(code as string) from `yhcr-prd-bradfor-bia-core.CB_2172.falls_snomed` )\n",
    "order by person_id),\n",
    "#this then filters for the first hopsital spell with a fall coded in any of the diagnosis codes. it is theoretically possible that a patient had an inpatient fall which was coded in the co-moribdities rather than the primary reason for presntation, but it is assumed the margin of error is relatively small.\n",
    "\n",
    "fall_ae_final as(\n",
    "select\n",
    "*,\n",
    "from fall_ch_ae\n",
    "where admission_seq = 1\n",
    "order by person_id),\n",
    "\n",
    "#then we take inpatient icd10 diagnosis for BRI \n",
    "  episode_ch_cohort as (\n",
    " \n",
    "select \n",
    "person_id, \n",
    "tbl_episode_start_date, \n",
    "tbl_episode_end_date, \n",
    "episode_number, \n",
    "spell_number, \n",
    "cast(episode_sequence as INT64) as episode_sequence, \n",
    "current_episode, \n",
    "last_episode_in_spell, \n",
    "diagnoses, \n",
    "rtrim(diagnosis_1,'X') as diagnosis_1, \n",
    "rtrim(diagnosis_2,'X') as diagnosis_2,\n",
    "rtrim(diagnosis_3,'X') as diagnosis_3, \n",
    "from `yhcr-prd-bradfor-bia-core.CB_FDM_BradfordRoyalInfirmary.tbl_episode`\n",
    "where person_id in(select person_id from `yhcr-prd-bradfor-bia-core.CB_2172.care_home_cohort_v1` )),\n",
    "\n",
    "#joins care home entry date from the master cohort table \n",
    "episode_entrydate_join as (\n",
    "  select \n",
    "  e_c.*,\n",
    "  cast(a.first_episodestartdate as datetime) first_episodestartdate\n",
    "  from episode_ch_cohort as e_c\n",
    "  left join `yhcr-prd-bradfor-bia-core.CB_2172.care_home_cohort_v1` a\n",
    "  on e_c.person_id = a.person_id),\n",
    "#filters out episodes which began after the admission date to a care home\n",
    "episode_ch_filtered as (\n",
    "  select\n",
    "e_e_j.*\n",
    "  from episode_entrydate_join e_e_j\n",
    "  where (tbl_episode_start_date > first_episodestartdate) AND (datetime_diff(tbl_episode_start_date, first_episodestartdate, day) < 366 )\n",
    "),\n",
    "#filter for the first episode in a spell and extract the first three characters from each icd10 diagnosis code (not interested in the fourth character code for falls code)\n",
    "episode_ch_final as (\n",
    "select \n",
    "person_id, \n",
    "first_episodestartdate,\n",
    "diagnosis_1,\n",
    "diagnosis_2,\n",
    "diagnosis_3,\n",
    "tbl_episode_start_date,\n",
    "tbl_episode_end_date,   \n",
    "substr(diagnosis_1,1,3) as diagnosis_1_substr,\n",
    "substr(diagnosis_2,1,3) as diagnosis_2_substr,\n",
    "substr(diagnosis_3,1,3) as diagnosis_3_substr,\n",
    "from episode_ch_filtered\n",
    "where episode_sequence = 1\n",
    "order by person_id),\n",
    "#up to this point reprents the code to identify and clean all seocndary inpatient episodes for indiivudals in the connected bradford cohort in the 12 months after admission,the next line of code will identify admission related to falls, will then union this with a table for falls in AE. admissions related to falls was defined as any admission with a SNOMED OR ICD10 code available. \n",
    "\n",
    "fall_ch as (\n",
    "select\n",
    "*,\n",
    "row_number() over (partition by person_id order by tbl_episode_start_date) as admission_seq\n",
    "from episode_ch_final \n",
    "where episode_ch_final.diagnosis_1_substr in(select Code from `yhcr-prd-bradfor-bia-core.CB_2172.falls__fragilityfracture_icd10`) OR episode_ch_final.diagnosis_2_substr in(select Code from `yhcr-prd-bradfor-bia-core.CB_2172.falls__fragilityfracture_icd10`) OR episode_ch_final.diagnosis_3_substr in(select Code from `yhcr-prd-bradfor-bia-core.CB_2172.falls__fragilityfracture_icd10`) or episode_ch_final.diagnosis_1_substr in(select cast(code as string) from `yhcr-prd-bradfor-bia-core.CB_2172.falls_snomed` ) or diagnosis_2_substr in(select cast(code as string) from `yhcr-prd-bradfor-bia-core.CB_2172.falls_snomed` ) or episode_ch_final.diagnosis_3_substr in(select cast(code as string) from `yhcr-prd-bradfor-bia-core.CB_2172.falls_snomed` )\n",
    "order by person_id),\n",
    "#this then filters for the first hopsital spell with a fall coded in any of the diagnosis codes. it is theoretically possible that a patient had an inpatient fall which was coded in the co-moribdities rather than the primary reason for presntation, but it is assumed the margin of error is relatively small.\n",
    "\n",
    "fall_ch_inpatient as (\n",
    "select\n",
    "*,\n",
    "from fall_ch\n",
    "where admission_seq = 1\n",
    "order by person_id)\n",
    "\n",
    "select\n",
    "person_id,\n",
    "first_episodestartdate,\n",
    "tbl_episode_start_date\n",
    "from fall_ch_inpatient\n",
    "\n",
    "union distinct\n",
    "\n",
    "select\n",
    "person_id,\n",
    "first_episodestartdate,\n",
    "tbl_ae_start_date\n",
    "from fall_ae_final),\n",
    "\n",
    "#then we union distint inpatient episodes and ED episodes together before adding to airedale\n",
    "\n",
    "fall_union as (\n",
    "select \n",
    "person_id,\n",
    "first_episodestartdate,\n",
    "tbl_episode_start_date\n",
    "from fall_bradford\n",
    "\n",
    "\n",
    "union all \n",
    "\n",
    "select\n",
    "person_id,\n",
    "fall_aire.first_episodestartdate,\n",
    "fall_aire.episode_start\n",
    "from\n",
    "fall_aire ),\n",
    "\n",
    "sequence as (\n",
    "select\n",
    "*,\n",
    "row_number() over (partition by person_id order by tbl_episode_start_date) admission_sequence\n",
    "from fall_union\n",
    "order by person_id)\n",
    "\n",
    "select\n",
    "*\n",
    "from sequence \n",
    "where admission_sequence = 1\n",
    "order by person_id)"
   ]
  },
  {
   "cell_type": "markdown",
   "id": "002db7f7-a4f1-47ed-a8bf-dad5bd411eec",
   "metadata": {},
   "source": [
    "This notebook calculates the incidence density for injurious falls amongst the bronte care home cohort. "
   ]
  },
  {
   "cell_type": "markdown",
   "id": "af5f0443-4039-49a6-b5b0-f01eadcf9395",
   "metadata": {},
   "source": [
    "## Analysis code "
   ]
  },
  {
   "cell_type": "code",
   "execution_count": null,
   "id": "f2b57a76-112b-4eac-bbb2-6be4d16555d0",
   "metadata": {
    "tags": []
   },
   "outputs": [],
   "source": [
    "library(ggplot2)\n",
    "library(bigrquery)\n",
    "library(tidyverse)\n",
    "library(ggplot2)\n",
    "library(lubridate)\n",
    "library(stats)\n",
    "library(finalfit)\n",
    "library(stats)\n",
    "library(epitools)\n",
    "ProjectId = \"yhcr-prd-bradfor-bia-core\"\n",
    "\n",
    "targetdb3 <- 'yhcr-prd-bradfor-bia-core.CB_2172'\n",
    "targetdb3 <- gsub(' ','',targetdb3)\n"
   ]
  },
  {
   "cell_type": "code",
   "execution_count": null,
   "id": "d434b6bd-f325-4aa2-b1a8-d4c3fbc2c003",
   "metadata": {
    "tags": []
   },
   "outputs": [],
   "source": [
    "sql_fall <- paste(\n",
    "#combined bradford and airedale queries for injurious falls, searched for icd 10 codes for falls and \n",
    "#fragility fractures in the first three recorded diagnosis because based on review of the data this was the most likely \n",
    "'\n",
    "select *EXCEPT(ADMISSION_SEQUENCE)\n",
    "from ',targetdb3,'.cb_2172_injurious_falls_v3\n",
    ";',sep=\"\")\n",
    "\n",
    "tbl_fall <-bq_project_query(ProjectId,sql_fall)\n",
    "ch_fall<- bq_table_download(tbl_fall)\n",
    "ch_fall$person_id <- as.character(ch_fall$person_id)\n",
    "ch_fall$fall.date <- as.Date(ch_fall$tbl_episode_start_date)"
   ]
  },
  {
   "cell_type": "code",
   "execution_count": null,
   "id": "50e5104c-029e-4002-be65-6c636f58a386",
   "metadata": {
    "tags": []
   },
   "outputs": [],
   "source": [
    "sql1 <- \n",
    "paste(\n",
    "    'SELECT person_id,episodestartdate as ch_admission_date,dod,\n",
    "from ',targetdb3,'.care_home_cohort_v1 a \n",
    "order by person_id\n",
    ";',sep=\"\")\n",
    "\n",
    "bp_tbl <-bq_project_query(ProjectId,sql1)\n",
    "ch_cohort <- bq_table_download(bp_tbl)\n",
    "\n",
    "ch_cohort$person_id <- as.character(ch_cohort$person_id)"
   ]
  },
  {
   "cell_type": "code",
   "execution_count": null,
   "id": "e769f68b-b3bd-43e5-b298-2c519fbd3935",
   "metadata": {
    "tags": []
   },
   "outputs": [],
   "source": [
    "#create new variable date.event which is event time, either death, first fall event or end of FU (365 days), which ever comes sooner\n",
    "ch_cohort$date.event <- ch_cohort$dod\n",
    "ch_cohort <- ch_cohort %>% select(-dod)"
   ]
  },
  {
   "cell_type": "code",
   "execution_count": null,
   "id": "8596c7b1-8dc8-46d1-b7a7-ceb647d61cf7",
   "metadata": {
    "tags": []
   },
   "outputs": [],
   "source": [
    "ch_cohort <- ch_cohort %>% arrange(person_id, desc(date.event)) %>% mutate(event_id= rank(date.event))"
   ]
  },
  {
   "cell_type": "markdown",
   "id": "4df29723-dbf6-4efe-9e98-903668255a0b",
   "metadata": {},
   "source": [
    "join falls table and care home chort master table"
   ]
  },
  {
   "cell_type": "code",
   "execution_count": null,
   "id": "66521797-6137-45b9-a50f-76aa854e91a5",
   "metadata": {
    "tags": []
   },
   "outputs": [],
   "source": [
    "ch_fall_merged <- merge(x =ch_cohort, y = ch_fall, all.x = TRUE) %>% select(-first_episodestartdate, -tbl_episode_start_date)"
   ]
  },
  {
   "cell_type": "markdown",
   "id": "dac74f03-3052-4898-9e18-52832861f33e",
   "metadata": {},
   "source": [
    "create exposure time variable to calculate incidence density"
   ]
  },
  {
   "cell_type": "code",
   "execution_count": null,
   "id": "f4088b3c-804d-4d42-9a63-dc5ace3883fc",
   "metadata": {
    "tags": []
   },
   "outputs": [],
   "source": [
    "ch_fall_merged$exposure_time <- 0"
   ]
  },
  {
   "cell_type": "code",
   "execution_count": null,
   "id": "bd5c10a5-985b-4e92-9bf2-8d3dd07dd03a",
   "metadata": {
    "tags": []
   },
   "outputs": [],
   "source": [
    "ch_fall_merged"
   ]
  },
  {
   "cell_type": "code",
   "execution_count": null,
   "id": "a0cb940a-625b-46ca-8cd2-0f58e53b847b",
   "metadata": {
    "tags": []
   },
   "outputs": [],
   "source": [
    " for(i in 1:nrow(ch_fall_merged)) {\n",
    "     \n",
    "    if (!is.na(ch_fall_merged[i, ]$fall.date)) {\n",
    "        ch_fall_merged[i, ]$exposure_time <- ch_fall_merged[i, ]$fall.date - ch_fall_merged[i, ]$ch_admission_date\n",
    "    } else if (is.na(ch_fall_merged[i, ]$fall.date) & !is.na(ch_fall_merged[i, ]$date.event) & ((ch_fall_merged[i, ]$date.event - ch_fall_merged[i, ]$ch_admission_date) < 365)) {\n",
    "                ch_fall_merged[i, ]$exposure_time <- ch_fall_merged[i, ]$date.event - ch_fall_merged[i, ]$ch_admission_date\n",
    "     }   else {\n",
    "                        ch_fall_merged[i, ]$exposure_time <- 365\n",
    "        }\n",
    "    }\n",
    "\n",
    "    "
   ]
  },
  {
   "cell_type": "code",
   "execution_count": null,
   "id": "dc4062dd-288c-40de-8574-a0208753dce8",
   "metadata": {
    "tags": []
   },
   "outputs": [],
   "source": [
    "ch_fall_merged$exposure_time <- as.numeric(ch_fall_merged$exposure_time)"
   ]
  },
  {
   "cell_type": "code",
   "execution_count": null,
   "id": "74f315ce-9a38-4020-9ae0-d8b6a2bba8a4",
   "metadata": {
    "tags": []
   },
   "outputs": [],
   "source": [
    "ch_fall_merged"
   ]
  },
  {
   "cell_type": "code",
   "execution_count": null,
   "id": "c58753e9-370e-4d6e-a109-6995711e57cb",
   "metadata": {},
   "outputs": [],
   "source": [
    "#for those with missing death dates, it waa assumed they had 12 months of exposure"
   ]
  },
  {
   "cell_type": "code",
   "execution_count": null,
   "id": "aadbc1ae-4525-4a83-a823-691b54e4f23b",
   "metadata": {},
   "outputs": [],
   "source": [
    "#set the exposure time for those alive more 12 months afterwards to 365 days to calculate incidence density in the year after admission"
   ]
  },
  {
   "cell_type": "code",
   "execution_count": null,
   "id": "8f504c65-3b52-4490-9647-57ae124d38ff",
   "metadata": {
    "tags": []
   },
   "outputs": [],
   "source": [
    "ch_fall_merged <- ch_fall_merged %>% mutate(fall = if_else(!is.na(fall.date),TRUE,FALSE))"
   ]
  },
  {
   "cell_type": "markdown",
   "id": "f1c5c966-44ca-4b52-b65f-539f0b325d60",
   "metadata": {},
   "source": [
    "Add hypertension diagnosis "
   ]
  },
  {
   "cell_type": "code",
   "execution_count": null,
   "id": "ae54eb33-13d9-43e7-804d-fe2f1b63a913",
   "metadata": {
    "tags": []
   },
   "outputs": [],
   "source": [
    "sql_htn <- paste(#combined bradford and airedale queries for injurious falls \n",
    "'\n",
    "select\n",
    "*\n",
    "from \n",
    "',targetdb3,'.cb_2172_hypertension_combined\n",
    "where person_id in(select person_id from ',targetdb3,'.care_home_cohort_v1)\n",
    ";',sep=\"\")\n",
    "\n",
    "tbl_htn <-bq_project_query(ProjectId,sql_htn)\n",
    "ch_htn<- bq_table_download(tbl_htn)\n",
    "ch_htn$person_id <- as.character(ch_htn$person_id)\n",
    "print(ch_htn)"
   ]
  },
  {
   "cell_type": "code",
   "execution_count": null,
   "id": "f4c99eca-ece2-4c5f-8d40-8c78ced482e3",
   "metadata": {
    "tags": []
   },
   "outputs": [],
   "source": [
    "ch_fall_htn_merged <- merge(x=ch_fall_merged,y=ch_htn,by.x='person_id',by.y='person_id',all.x= TRUE) %>% select(-first_episodestartdate)"
   ]
  },
  {
   "cell_type": "markdown",
   "id": "8ad11e5d-fbe0-4cb7-8004-592c35dc14e2",
   "metadata": {},
   "source": [
    "then we caluclate the inciddence rate by dividing the total number of falls in the cohort by the exposure time in person years"
   ]
  },
  {
   "cell_type": "code",
   "execution_count": null,
   "id": "4eaca69c-9941-409a-81f5-a9b27d05ced5",
   "metadata": {
    "tags": []
   },
   "outputs": [],
   "source": [
    "(sum(ch_fall_merged$fall ==TRUE)/(ch_fall_merged$exposure_time %>% sum()/365))*100"
   ]
  },
  {
   "cell_type": "markdown",
   "id": "8869be68-b759-4c86-a8c1-22a3c06dbb69",
   "metadata": {},
   "source": [
    "the incidence rate for injurious falls in care home residents with hypertension rate was 10 falls per 100 person-years. "
   ]
  },
  {
   "cell_type": "code",
   "execution_count": null,
   "id": "f3c473f4-339e-4e4a-8fd8-3afc20aa55dc",
   "metadata": {
    "tags": []
   },
   "outputs": [],
   "source": [
    "ch_fall_htn_only <- ch_fall_htn_merged %>% filter(hypertension == TRUE)"
   ]
  },
  {
   "cell_type": "code",
   "execution_count": null,
   "id": "09a8687f-75bd-44ad-8c46-799196134bd7",
   "metadata": {
    "tags": []
   },
   "outputs": [],
   "source": [
    "table(ch_fall_htn_only$fall)"
   ]
  },
  {
   "cell_type": "code",
   "execution_count": null,
   "id": "3e2c96c0-b466-4b25-9203-974cce8ab6b6",
   "metadata": {
    "tags": []
   },
   "outputs": [],
   "source": [
    "(sum(ch_fall_htn_only$fall ==TRUE)/(ch_fall_htn_only$exposure_time %>% sum()/365))*100"
   ]
  },
  {
   "cell_type": "code",
   "execution_count": null,
   "id": "c3e7f009-c493-4e2d-9f3d-31253722ebc1",
   "metadata": {
    "tags": []
   },
   "outputs": [],
   "source": [
    "exposure_time <- (ch_fall_htn_only$exposure_time %>% sum()/365)"
   ]
  },
  {
   "cell_type": "code",
   "execution_count": null,
   "id": "07e67b1e-e1e8-4cc7-a97a-5af7a39399bf",
   "metadata": {
    "tags": []
   },
   "outputs": [],
   "source": [
    "pois.exact(ch_fall_htn_count, pt = exposure_time, conf.level = 0.95)"
   ]
  }
 ],
 "metadata": {
  "environment": {
   "kernel": "matthew_r_env",
   "name": "workbench-notebooks.m129",
   "type": "gcloud",
   "uri": "us-docker.pkg.dev/deeplearning-platform-release/gcr.io/workbench-notebooks:m129"
  },
  "kernelspec": {
   "display_name": "matthew_r_env",
   "language": "R",
   "name": "matthew_r_env"
  },
  "language_info": {
   "codemirror_mode": "r",
   "file_extension": ".r",
   "mimetype": "text/x-r-source",
   "name": "R",
   "pygments_lexer": "r",
   "version": "4.4.2"
  }
 },
 "nbformat": 4,
 "nbformat_minor": 5
}
