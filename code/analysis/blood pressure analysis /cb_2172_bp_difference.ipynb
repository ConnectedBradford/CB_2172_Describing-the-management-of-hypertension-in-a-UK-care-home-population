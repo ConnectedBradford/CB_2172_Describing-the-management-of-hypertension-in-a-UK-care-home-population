{
 "cells": [
  {
   "cell_type": "code",
   "execution_count": null,
   "id": "c8afe502-7a32-41c3-b449-1cdb6dc085da",
   "metadata": {},
   "outputs": [],
   "source": [
    "#identify indiivudals with bp reading pre and post admission \n",
    "create or replace table `yhcr-prd-phm-bia-core.CB_2172.cb_2172_bp_difference` as (\n",
    "with pre as (\n",
    "SELECT \n",
    "person_id,systolic_value, diastolic_value, date_systolic\n",
    " FROM `yhcr-prd-phm-bia-core.CB_2172.cb_2172_bp_pre_admission` ),\n",
    "\n",
    "post as (\n",
    "  select\n",
    "  person_id, systolic_value, diastolic_value, date_systolic\n",
    "  from `yhcr-prd-phm-bia-core.CB_2172.cb_2172_bp_post_admission`\n",
    " )\n",
    "\n",
    "select\n",
    "pre.person_id, \n",
    "pre.systolic_value as pre_systolic,\n",
    "pre.diastolic_value as pre_diastolic,\n",
    "pre.date_systolic as pre_date, \n",
    "post.systolic_value as post_systolic, \n",
    "post.diastolic_value as post_diastolic,\n",
    "post.date_systolic as post_date,\n",
    "\n",
    "from pre\n",
    "inner join post\n",
    "on pre.person_id = post.person_id )\n"
   ]
  }
 ],
 "metadata": {
  "environment": {
   "kernel": "matthew_r_env",
   "name": "workbench-notebooks.m127",
   "type": "gcloud",
   "uri": "us-docker.pkg.dev/deeplearning-platform-release/gcr.io/workbench-notebooks:m127"
  },
  "kernelspec": {
   "display_name": "matthew_r_env",
   "language": "R",
   "name": "matthew_r_env"
  },
  "language_info": {
   "codemirror_mode": "r",
   "file_extension": ".r",
   "mimetype": "text/x-r-source",
   "name": "R",
   "pygments_lexer": "r",
   "version": "4.3.3"
  }
 },
 "nbformat": 4,
 "nbformat_minor": 5
}
