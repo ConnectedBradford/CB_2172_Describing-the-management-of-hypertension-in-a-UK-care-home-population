{
 "cells": [
  {
   "cell_type": "code",
   "execution_count": 152,
   "id": "e743c251-7cc2-461f-8e1c-d31f2087c86e",
   "metadata": {},
   "outputs": [],
   "source": [
    "# this notebook is perform anaylsis of MACE events in the care home hypertension cohort "
   ]
  },
  {
   "cell_type": "code",
   "execution_count": 153,
   "id": "f727f226-5e62-48f8-b958-a12a4a400b31",
   "metadata": {
    "tags": []
   },
   "outputs": [],
   "source": [
    "library(ggplot2)\n",
    "library(bigrquery)\n",
    "library(tidyverse)\n",
    "library(ggplot2)\n",
    "library(lubridate)\n",
    "library(stats)\n",
    "library(epitools)\n",
    "\n",
    "ProjectId = \"yhcr-prd-bradfor-bia-core\"\n",
    "\n",
    "targetdb3 <- 'yhcr-prd-bradfor-bia-core.CB_2172'\n",
    "targetdb3 <- gsub(' ','',targetdb3)"
   ]
  },
  {
   "cell_type": "code",
   "execution_count": 154,
   "id": "78a93035-9a86-4207-b376-b2d746476a3e",
   "metadata": {
    "tags": []
   },
   "outputs": [
    {
     "name": "stderr",
     "output_type": "stream",
     "text": [
      "Auto-refreshing stale OAuth token.\n",
      "\n"
     ]
    }
   ],
   "source": [
    "#select events from the mace table, left join with admission dates and death dates from the care home cohrot master table\n",
    "sql1 <- \n",
    "paste(\n",
    "    'SELECT  \n",
    "a.*, b.dod as death_date, b.episodestartdate as ch_admission_date\n",
    "from ',targetdb3,'.cb_2172_mace a\n",
    "left join ',targetdb3,'.care_home_cohort_v1 b \n",
    "on a.person_id = b.person_id\n",
    "where a.person_id in(select person_id from ',targetdb3,'.care_home_cohort_v1) \n",
    "\n",
    ";',sep=\"\")\n",
    "\n",
    "mace_tbl <-bq_project_query(ProjectId,sql1)\n",
    "mace_data <- bq_table_download(mace_tbl)"
   ]
  },
  {
   "cell_type": "code",
   "execution_count": 155,
   "id": "fbb275c6-d14a-41a0-9757-e4590680bac5",
   "metadata": {
    "tags": []
   },
   "outputs": [],
   "source": [
    "#dod was a misnomer so correct to reflec the fact that it represents the date\n",
    "mace_data$date.event <- as.Date(mace_data$dod)\n",
    "\n",
    "mace_data <- mace_data %>% select(-dod)"
   ]
  },
  {
   "cell_type": "code",
   "execution_count": 156,
   "id": "3879937f-8654-4fb6-9ff5-a88ece60f594",
   "metadata": {
    "tags": []
   },
   "outputs": [],
   "source": [
    "#rank mace events for each person so we can identify first event\n",
    "mace_data_event_ranked <- mace_data %>% \n",
    "                arrange(person_id, desc(date.event)) %>% \n",
    "                    mutate(event_id= rank(date.event))\n",
    "#here is the initial data, the problem is there are some  duplicate events where the data differs\n",
    "#by only a couple of days so they are counted as different events. \n",
    "#Some cardiovascular deaths also have  the cardiovascular event (e.g. myocardial evvent,\n",
    "#recorded as a seperate event a few days apart). I need to remove these events so that only the cardiovascular death is recorded. \n",
    "#This is based on the assumption that where a stroke or MI has been recorded within 30 days of a cardiovascular death, \n",
    "# the stroke or MI can be considered fatal one so should be recorded as a CV death \n",
    "#rather than a non fatal MI or stroke. "
   ]
  },
  {
   "cell_type": "code",
   "execution_count": 157,
   "id": "8d6147cb-14eb-4392-b853-0c2acfd548c3",
   "metadata": {
    "tags": []
   },
   "outputs": [],
   "source": [
    "#remove mace events that occurred at same time as care home admission since these are assumed to have happened before care home admission\n",
    "mace_data_event_ranked <- mace_data_event_ranked %>% filter(date.event > ch_admission_date)"
   ]
  },
  {
   "cell_type": "code",
   "execution_count": 158,
   "id": "8c1f63df-23d5-41f3-af77-e606b81e692b",
   "metadata": {
    "tags": []
   },
   "outputs": [
    {
     "data": {
      "text/html": [
       "<table class=\"dataframe\">\n",
       "<caption>A tibble: 6 × 6</caption>\n",
       "<thead>\n",
       "\t<tr><th scope=col>event_type</th><th scope=col>person_id</th><th scope=col>death_date</th><th scope=col>ch_admission_date</th><th scope=col>date.event</th><th scope=col>event_id</th></tr>\n",
       "\t<tr><th scope=col>&lt;chr&gt;</th><th scope=col>&lt;int&gt;</th><th scope=col>&lt;date&gt;</th><th scope=col>&lt;date&gt;</th><th scope=col>&lt;date&gt;</th><th scope=col>&lt;dbl&gt;</th></tr>\n",
       "</thead>\n",
       "<tbody>\n",
       "\t<tr><td>myocardial infarction</td><td>  879366</td><td>2019-06-15</td><td>2018-08-15</td><td>2019-06-10</td><td>122.0</td></tr>\n",
       "\t<tr><td>myocardial infarction</td><td>12394871</td><td>2021-04-15</td><td>2018-07-20</td><td>2019-03-12</td><td>104.0</td></tr>\n",
       "\t<tr><td>myocardial infarction</td><td>12755225</td><td>2022-03-15</td><td>2018-12-05</td><td>2019-07-06</td><td>128.5</td></tr>\n",
       "\t<tr><td>myocardial infarction</td><td>12831720</td><td>2018-01-15</td><td>2017-06-05</td><td>2018-01-09</td><td> 54.0</td></tr>\n",
       "\t<tr><td>myocardial infarction</td><td>13580091</td><td>2018-07-15</td><td>2018-04-23</td><td>2018-05-07</td><td> 70.0</td></tr>\n",
       "\t<tr><td>myocardial infarction</td><td>13580202</td><td>2017-12-15</td><td>2016-05-31</td><td>2016-06-06</td><td>  1.0</td></tr>\n",
       "</tbody>\n",
       "</table>\n"
      ],
      "text/latex": [
       "A tibble: 6 × 6\n",
       "\\begin{tabular}{llllll}\n",
       " event\\_type & person\\_id & death\\_date & ch\\_admission\\_date & date.event & event\\_id\\\\\n",
       " <chr> & <int> & <date> & <date> & <date> & <dbl>\\\\\n",
       "\\hline\n",
       "\t myocardial infarction &   879366 & 2019-06-15 & 2018-08-15 & 2019-06-10 & 122.0\\\\\n",
       "\t myocardial infarction & 12394871 & 2021-04-15 & 2018-07-20 & 2019-03-12 & 104.0\\\\\n",
       "\t myocardial infarction & 12755225 & 2022-03-15 & 2018-12-05 & 2019-07-06 & 128.5\\\\\n",
       "\t myocardial infarction & 12831720 & 2018-01-15 & 2017-06-05 & 2018-01-09 &  54.0\\\\\n",
       "\t myocardial infarction & 13580091 & 2018-07-15 & 2018-04-23 & 2018-05-07 &  70.0\\\\\n",
       "\t myocardial infarction & 13580202 & 2017-12-15 & 2016-05-31 & 2016-06-06 &   1.0\\\\\n",
       "\\end{tabular}\n"
      ],
      "text/markdown": [
       "\n",
       "A tibble: 6 × 6\n",
       "\n",
       "| event_type &lt;chr&gt; | person_id &lt;int&gt; | death_date &lt;date&gt; | ch_admission_date &lt;date&gt; | date.event &lt;date&gt; | event_id &lt;dbl&gt; |\n",
       "|---|---|---|---|---|---|\n",
       "| myocardial infarction |   879366 | 2019-06-15 | 2018-08-15 | 2019-06-10 | 122.0 |\n",
       "| myocardial infarction | 12394871 | 2021-04-15 | 2018-07-20 | 2019-03-12 | 104.0 |\n",
       "| myocardial infarction | 12755225 | 2022-03-15 | 2018-12-05 | 2019-07-06 | 128.5 |\n",
       "| myocardial infarction | 12831720 | 2018-01-15 | 2017-06-05 | 2018-01-09 |  54.0 |\n",
       "| myocardial infarction | 13580091 | 2018-07-15 | 2018-04-23 | 2018-05-07 |  70.0 |\n",
       "| myocardial infarction | 13580202 | 2017-12-15 | 2016-05-31 | 2016-06-06 |   1.0 |\n",
       "\n"
      ],
      "text/plain": [
       "  event_type            person_id death_date ch_admission_date date.event\n",
       "1 myocardial infarction   879366  2019-06-15 2018-08-15        2019-06-10\n",
       "2 myocardial infarction 12394871  2021-04-15 2018-07-20        2019-03-12\n",
       "3 myocardial infarction 12755225  2022-03-15 2018-12-05        2019-07-06\n",
       "4 myocardial infarction 12831720  2018-01-15 2017-06-05        2018-01-09\n",
       "5 myocardial infarction 13580091  2018-07-15 2018-04-23        2018-05-07\n",
       "6 myocardial infarction 13580202  2017-12-15 2016-05-31        2016-06-06\n",
       "  event_id\n",
       "1 122.0   \n",
       "2 104.0   \n",
       "3 128.5   \n",
       "4  54.0   \n",
       "5  70.0   \n",
       "6   1.0   "
      ]
     },
     "metadata": {},
     "output_type": "display_data"
    }
   ],
   "source": [
    "# this identifies myocardial infarction events where another event occurs afterwards\n",
    "# (either a duplicate event or death), so these myocardial events can be removed, \n",
    "#i will do the same for stroke as well. this ensures only non fatal myocardial infarctions \n",
    "# and strokes are captured in the MACE outcomes. fatal myocardial infarctions and stroke would fall into CV death \n",
    "mace_data_filtered_mi_cvd <- mace_data_event_ranked %>%\n",
    "                                group_by(person_id) %>% \n",
    "                                filter(event_type == 'myocardial infarction' & \n",
    "                                !((date.event - lag(date.event)) >= 30 &\n",
    "                                (date.event - lag(date.event)) > 0)) %>%\n",
    "                                ungroup() \n",
    "\n",
    "mace_data_filtered_mi_cvd"
   ]
  },
  {
   "cell_type": "code",
   "execution_count": 159,
   "id": "f4346529-002b-49ed-8881-8b62d27f23ea",
   "metadata": {
    "tags": []
   },
   "outputs": [
    {
     "data": {
      "text/html": [
       "<table class=\"dataframe\">\n",
       "<caption>A tibble: 2 × 6</caption>\n",
       "<thead>\n",
       "\t<tr><th scope=col>event_type</th><th scope=col>person_id</th><th scope=col>death_date</th><th scope=col>ch_admission_date</th><th scope=col>date.event</th><th scope=col>event_id</th></tr>\n",
       "\t<tr><th scope=col>&lt;chr&gt;</th><th scope=col>&lt;int&gt;</th><th scope=col>&lt;date&gt;</th><th scope=col>&lt;date&gt;</th><th scope=col>&lt;date&gt;</th><th scope=col>&lt;dbl&gt;</th></tr>\n",
       "</thead>\n",
       "<tbody>\n",
       "\t<tr><td>stroke</td><td>12921291</td><td>2017-01-15</td><td>2016-04-26</td><td>2016-12-29</td><td>  9</td></tr>\n",
       "\t<tr><td>stroke</td><td>13424129</td><td>2019-05-15</td><td>2018-09-17</td><td>2019-05-13</td><td>118</td></tr>\n",
       "</tbody>\n",
       "</table>\n"
      ],
      "text/latex": [
       "A tibble: 2 × 6\n",
       "\\begin{tabular}{llllll}\n",
       " event\\_type & person\\_id & death\\_date & ch\\_admission\\_date & date.event & event\\_id\\\\\n",
       " <chr> & <int> & <date> & <date> & <date> & <dbl>\\\\\n",
       "\\hline\n",
       "\t stroke & 12921291 & 2017-01-15 & 2016-04-26 & 2016-12-29 &   9\\\\\n",
       "\t stroke & 13424129 & 2019-05-15 & 2018-09-17 & 2019-05-13 & 118\\\\\n",
       "\\end{tabular}\n"
      ],
      "text/markdown": [
       "\n",
       "A tibble: 2 × 6\n",
       "\n",
       "| event_type &lt;chr&gt; | person_id &lt;int&gt; | death_date &lt;date&gt; | ch_admission_date &lt;date&gt; | date.event &lt;date&gt; | event_id &lt;dbl&gt; |\n",
       "|---|---|---|---|---|---|\n",
       "| stroke | 12921291 | 2017-01-15 | 2016-04-26 | 2016-12-29 |   9 |\n",
       "| stroke | 13424129 | 2019-05-15 | 2018-09-17 | 2019-05-13 | 118 |\n",
       "\n"
      ],
      "text/plain": [
       "  event_type person_id death_date ch_admission_date date.event event_id\n",
       "1 stroke     12921291  2017-01-15 2016-04-26        2016-12-29   9     \n",
       "2 stroke     13424129  2019-05-15 2018-09-17        2019-05-13 118     "
      ]
     },
     "metadata": {},
     "output_type": "display_data"
    }
   ],
   "source": [
    "\n",
    "# this identifies stroke events where another event occurs afterwards(either a duplicate event or death), so these myocardial events can be removed, i will do the same for stroke as well.\n",
    "#this ensures only non fatal myocardial infarctions and strokes are captured in the MACE outcomes.\n",
    "#fatal myocardial infarctions and stroke would fall into CV death \n",
    "mace_filtered_stroke_cvd <- mace_data_event_ranked %>%\n",
    "                              group_by(person_id) %>%\n",
    "                              filter(event_type == 'stroke' & \n",
    "                              !((date.event - lag(date.event)) >= 30 &\n",
    "                              (date.event - lag(date.event)) > 0)) %>%\n",
    "                              ungroup() \n",
    "\n",
    "mace_filtered_stroke_cvd"
   ]
  },
  {
   "cell_type": "code",
   "execution_count": 160,
   "id": "b9e00958-0f1a-4b4f-91d9-64b01e6d2eed",
   "metadata": {},
   "outputs": [],
   "source": [
    "#i then subsetted the mace_Data to remove those duplicate stroke and myocardial events identified above"
   ]
  },
  {
   "cell_type": "code",
   "execution_count": 161,
   "id": "f6894414-0cfd-485a-a4f1-47e021454546",
   "metadata": {
    "tags": []
   },
   "outputs": [],
   "source": [
    "#creat he not in function\n",
    "\n",
    "'%notin%' <- Negate(`%in%`)"
   ]
  },
  {
   "cell_type": "code",
   "execution_count": 162,
   "id": "4795f379-a6cf-46d2-86a1-c12d02843401",
   "metadata": {
    "tags": []
   },
   "outputs": [],
   "source": [
    "mace_data_filtered <- mace_data_event_ranked[mace_data_event_ranked$event_id %notin% mace_data_filtered_mi_cvd$event_id, ]"
   ]
  },
  {
   "cell_type": "code",
   "execution_count": 163,
   "id": "41960468-00f5-437d-a0d4-cc3a72db27b7",
   "metadata": {
    "tags": []
   },
   "outputs": [],
   "source": [
    "mace_data_filtered <- mace_data_filtered[mace_data_filtered$date.event %notin% mace_filtered_stroke_cvd$date.event,]"
   ]
  },
  {
   "cell_type": "code",
   "execution_count": 164,
   "id": "911b2276-0526-4151-9891-d19b86c66a01",
   "metadata": {
    "tags": []
   },
   "outputs": [
    {
     "data": {
      "text/plain": [
       "\n",
       "             cv death myocardial infarction                stroke \n",
       "                   84                    12                    17 "
      ]
     },
     "metadata": {},
     "output_type": "display_data"
    }
   ],
   "source": [
    "mace_data_filtered <- mace_data_filtered %>% arrange(person_id, desc(date.event))\n",
    "\n",
    "table(mace_data_filtered$event_type)\n"
   ]
  },
  {
   "cell_type": "code",
   "execution_count": 165,
   "id": "fbb8f5af-e7fd-4315-81b6-13efb5e11d2d",
   "metadata": {},
   "outputs": [],
   "source": [
    "# merge the care home cohort table in order to calculate the incidence density\n",
    "#(need to subset by the cae_home_cohort_v1 table as cohort was updated in feb 2025, to exclude people with no follow-up "
   ]
  },
  {
   "cell_type": "code",
   "execution_count": 166,
   "id": "0b3184b3-603d-457c-9394-2aa5ce80dcd4",
   "metadata": {
    "tags": []
   },
   "outputs": [
    {
     "name": "stdout",
     "output_type": "stream",
     "text": [
      "\u001b[90m# A tibble: 2,793 × 4\u001b[39m\n",
      "   person_id first_episodestartdate dod    hypertension\n",
      "   \u001b[3m\u001b[90m<chr>\u001b[39m\u001b[23m     \u001b[3m\u001b[90m<dttm>\u001b[39m\u001b[23m                 \u001b[3m\u001b[90m<date>\u001b[39m\u001b[23m \u001b[3m\u001b[90m<lgl>\u001b[39m\u001b[23m       \n",
      "\u001b[90m 1\u001b[39m 13391566  2016-04-08 \u001b[90m00:00:00\u001b[39m    \u001b[31mNA\u001b[39m     FALSE       \n",
      "\u001b[90m 2\u001b[39m 13407837  2016-05-16 \u001b[90m00:00:00\u001b[39m    \u001b[31mNA\u001b[39m     FALSE       \n",
      "\u001b[90m 3\u001b[39m 13283147  2016-06-24 \u001b[90m00:00:00\u001b[39m    \u001b[31mNA\u001b[39m     FALSE       \n",
      "\u001b[90m 4\u001b[39m 12807410  2016-08-08 \u001b[90m00:00:00\u001b[39m    \u001b[31mNA\u001b[39m     FALSE       \n",
      "\u001b[90m 5\u001b[39m 13600637  2016-08-08 \u001b[90m00:00:00\u001b[39m    \u001b[31mNA\u001b[39m     FALSE       \n",
      "\u001b[90m 6\u001b[39m 13343064  2016-08-08 \u001b[90m00:00:00\u001b[39m    \u001b[31mNA\u001b[39m     FALSE       \n",
      "\u001b[90m 7\u001b[39m 13256011  2016-08-16 \u001b[90m00:00:00\u001b[39m    \u001b[31mNA\u001b[39m     FALSE       \n",
      "\u001b[90m 8\u001b[39m 12515587  2016-09-16 \u001b[90m00:00:00\u001b[39m    \u001b[31mNA\u001b[39m     FALSE       \n",
      "\u001b[90m 9\u001b[39m 13420182  2016-09-16 \u001b[90m00:00:00\u001b[39m    \u001b[31mNA\u001b[39m     FALSE       \n",
      "\u001b[90m10\u001b[39m 13355901  2016-10-24 \u001b[90m00:00:00\u001b[39m    \u001b[31mNA\u001b[39m     FALSE       \n",
      "\u001b[90m# ℹ 2,783 more rows\u001b[39m\n"
     ]
    }
   ],
   "source": [
    "sql1 <- \n",
    "paste(\n",
    "    'SELECT a.person_id,first_episodestartdate,b.dod, hypertension\n",
    "from \n",
    "',targetdb3,'.cb_2172_hypertension_combined a\n",
    "left join ',targetdb3,'.care_home_cohort_v1 b \n",
    "on a.person_id = b.person_id\n",
    ";',sep=\"\")\n",
    "\n",
    "bp_tbl <-bq_project_query(ProjectId,sql1)\n",
    "ch_cohort <- bq_table_download(bp_tbl)\n",
    "\n",
    "ch_cohort$person_id <- as.character(ch_cohort$person_id)\n",
    "print(ch_cohort)"
   ]
  },
  {
   "cell_type": "code",
   "execution_count": 167,
   "id": "75b6dd2d-cd14-4587-a162-a3585f62ae6f",
   "metadata": {
    "tags": []
   },
   "outputs": [],
   "source": [
    "ch_mace_merged <- merge(x =ch_cohort, y = mace_data_filtered, all.x = TRUE)"
   ]
  },
  {
   "cell_type": "code",
   "execution_count": 168,
   "id": "efbab1ac-610b-4a17-9e56-cdf5e1e9423a",
   "metadata": {
    "tags": []
   },
   "outputs": [],
   "source": [
    "ch_mace_merged$first_episodestartdate <- as_date(ch_mace_merged$first_episodestartdate)"
   ]
  },
  {
   "cell_type": "code",
   "execution_count": 169,
   "id": "f8923f2c-c3b3-4471-8afe-c69fc42e264b",
   "metadata": {
    "tags": []
   },
   "outputs": [],
   "source": [
    "ch_mace_merged <- ch_mace_merged %>% mutate(exposure_time = 0)"
   ]
  },
  {
   "cell_type": "code",
   "execution_count": 170,
   "id": "0bc71942-d02c-440e-9697-2112cfe6f1ba",
   "metadata": {
    "tags": []
   },
   "outputs": [],
   "source": [
    " ch_mace_merged_filtered <- ch_mace_merged %>% filter(hypertension == TRUE)"
   ]
  },
  {
   "cell_type": "code",
   "execution_count": 171,
   "id": "fb648a21-a7c6-4242-acbf-23ecf0a30cc9",
   "metadata": {
    "tags": []
   },
   "outputs": [],
   "source": [
    "ch_mace_merged_filtered <-ch_mace_merged_filtered %>%  select(-\"event_id\",\"first_episodestartdate\",\"hypertension\",\"death_date\")"
   ]
  },
  {
   "cell_type": "code",
   "execution_count": 172,
   "id": "18aabe56-f1d3-49ea-84ac-32901abfbddc",
   "metadata": {
    "tags": []
   },
   "outputs": [],
   "source": [
    "# write a for if loop so that if the event_type occurred put that as the exposure time, but if it didn't occur check whether death date occured within 12 months, if it did\n",
    "# use the death to calculate exposure time if it didn't then put the expsoure time as 365\n",
    "for (i in 1:nrow(ch_mace_merged_filtered)) {\n",
    "    \n",
    "    if(!is.na(ch_mace_merged_filtered[i,]$event_type)) {\n",
    "        ch_mace_merged_filtered[i,]$exposure_time <- ch_mace_merged_filtered[i,]$date.event - ch_mace_merged_filtered[i,]$first_episodestartdate\n",
    "        \n",
    "    } else if (is.na(ch_mace_merged_filtered[i,]$event_type) \n",
    "               & !is.na((ch_mace_merged_filtered[i,]$dod))\n",
    "               & ((ch_mace_merged_filtered[i,]$dod - ch_mace_merged_filtered[i,]$first_episodestartdate)  < 365)) {\n",
    "        ch_mace_merged_filtered[i,]$exposure_time <- (ch_mace_merged_filtered[i,]$dod - ch_mace_merged_filtered[i,]$first_episodestartdate)\n",
    "    } else { \n",
    "        ch_mace_merged_filtered[i,]$exposure_time <- 365\n",
    "        }\n",
    "    }"
   ]
  },
  {
   "cell_type": "code",
   "execution_count": 173,
   "id": "ba9e43ad-5f5e-437b-bd91-7c7a2ff2668e",
   "metadata": {
    "tags": []
   },
   "outputs": [
    {
     "data": {
      "text/html": [
       "7.02995036679484"
      ],
      "text/latex": [
       "7.02995036679484"
      ],
      "text/markdown": [
       "7.02995036679484"
      ],
      "text/plain": [
       "[1] 7.02995"
      ]
     },
     "metadata": {},
     "output_type": "display_data"
    }
   ],
   "source": [
    "(sum(!is.na(ch_mace_merged_filtered$event_type))/(sum(ch_mace_merged_filtered$exposure_time)/365))*100"
   ]
  },
  {
   "cell_type": "code",
   "execution_count": 174,
   "id": "9ea843c2-2d77-41a5-923d-61d4940f8aab",
   "metadata": {
    "tags": []
   },
   "outputs": [],
   "source": [
    "ch_mace_merged_filtered$event_type <- as.factor(ch_mace_merged_filtered$event_type)"
   ]
  },
  {
   "cell_type": "code",
   "execution_count": 175,
   "id": "86b7a32d-5eb8-4c08-ab01-0dc928d26e4c",
   "metadata": {
    "tags": []
   },
   "outputs": [],
   "source": [
    "exposure_time <- sum(ch_mace_merged_filtered$exposure_time)/365"
   ]
  },
  {
   "cell_type": "code",
   "execution_count": 176,
   "id": "91410d2a-f96f-4fec-96bc-8069e712cdee",
   "metadata": {
    "tags": []
   },
   "outputs": [],
   "source": [
    "mace_events_count<- sum(!is.na(ch_mace_merged_filtered$event_type))"
   ]
  },
  {
   "cell_type": "code",
   "execution_count": 177,
   "id": "9bd36dee-07d7-434c-9ae0-fca8a79628f1",
   "metadata": {
    "tags": []
   },
   "outputs": [
    {
     "data": {
      "text/html": [
       "<table class=\"dataframe\">\n",
       "<caption>A data.frame: 1 × 6</caption>\n",
       "<thead>\n",
       "\t<tr><th scope=col>x</th><th scope=col>pt</th><th scope=col>rate</th><th scope=col>lower</th><th scope=col>upper</th><th scope=col>conf.level</th></tr>\n",
       "\t<tr><th scope=col>&lt;dbl&gt;</th><th scope=col>&lt;dbl&gt;</th><th scope=col>&lt;dbl&gt;</th><th scope=col>&lt;dbl&gt;</th><th scope=col>&lt;dbl&gt;</th><th scope=col>&lt;dbl&gt;</th></tr>\n",
       "</thead>\n",
       "<tbody>\n",
       "\t<tr><td>113</td><td>1607.408</td><td>0.0702995</td><td>0.05793674</td><td>0.08451941</td><td>0.95</td></tr>\n",
       "</tbody>\n",
       "</table>\n"
      ],
      "text/latex": [
       "A data.frame: 1 × 6\n",
       "\\begin{tabular}{llllll}\n",
       " x & pt & rate & lower & upper & conf.level\\\\\n",
       " <dbl> & <dbl> & <dbl> & <dbl> & <dbl> & <dbl>\\\\\n",
       "\\hline\n",
       "\t 113 & 1607.408 & 0.0702995 & 0.05793674 & 0.08451941 & 0.95\\\\\n",
       "\\end{tabular}\n"
      ],
      "text/markdown": [
       "\n",
       "A data.frame: 1 × 6\n",
       "\n",
       "| x &lt;dbl&gt; | pt &lt;dbl&gt; | rate &lt;dbl&gt; | lower &lt;dbl&gt; | upper &lt;dbl&gt; | conf.level &lt;dbl&gt; |\n",
       "|---|---|---|---|---|---|\n",
       "| 113 | 1607.408 | 0.0702995 | 0.05793674 | 0.08451941 | 0.95 |\n",
       "\n"
      ],
      "text/plain": [
       "  x   pt       rate      lower      upper      conf.level\n",
       "1 113 1607.408 0.0702995 0.05793674 0.08451941 0.95      "
      ]
     },
     "metadata": {},
     "output_type": "display_data"
    }
   ],
   "source": [
    "pois.exact(mace_events_count, pt = exposure_time, conf.level = 0.95)"
   ]
  }
 ],
 "metadata": {
  "environment": {
   "kernel": "matthew_r_env",
   "name": "workbench-notebooks.m129",
   "type": "gcloud",
   "uri": "us-docker.pkg.dev/deeplearning-platform-release/gcr.io/workbench-notebooks:m129"
  },
  "kernelspec": {
   "display_name": "matthew_r_env",
   "language": "R",
   "name": "matthew_r_env"
  },
  "language_info": {
   "codemirror_mode": "r",
   "file_extension": ".r",
   "mimetype": "text/x-r-source",
   "name": "R",
   "pygments_lexer": "r",
   "version": "4.4.2"
  }
 },
 "nbformat": 4,
 "nbformat_minor": 5
}
